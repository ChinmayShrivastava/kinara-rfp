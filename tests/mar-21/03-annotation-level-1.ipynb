{
 "cells": [
  {
   "cell_type": "code",
   "execution_count": 1,
   "metadata": {},
   "outputs": [
    {
     "name": "stdout",
     "output_type": "stream",
     "text": [
      "/Users/chinmayshrivastava/Documents/GitHub/kinara-rfp\n"
     ]
    }
   ],
   "source": [
    "import sys\n",
    "import os\n",
    "\n",
    "# moce two directories up and make that current directory\n",
    "os.chdir(\"../..\")\n",
    "# print current directory\n",
    "print(os.getcwd())"
   ]
  },
  {
   "cell_type": "code",
   "execution_count": 2,
   "metadata": {},
   "outputs": [],
   "source": [
    "from llama_index.llms.openai import OpenAI\n",
    "llm = OpenAI(model=\"gpt-3.5-turbo\")"
   ]
  },
  {
   "cell_type": "code",
   "execution_count": 3,
   "metadata": {},
   "outputs": [
    {
     "data": {
      "text/plain": [
       "{'applies_directly_to_the_rfp_submission': False,\n",
       " 'doesn’t_apply_to_the_rfp_submission': True,\n",
       " 'is_mandatory': False,\n",
       " 'other': False}"
      ]
     },
     "execution_count": 3,
     "metadata": {},
     "output_type": "execute_result"
    }
   ],
   "source": [
    "from govrfp.rfpinsights.llmannotations import llmannotations\n",
    "\n",
    "test_query = \"What is the purpose of the RFP?\"\n",
    "llmannotations(test_query, llm)"
   ]
  },
  {
   "cell_type": "code",
   "execution_count": 4,
   "metadata": {},
   "outputs": [
    {
     "data": {
      "text/plain": [
       "['Submit invoices to the address in block 18a',\n",
       " 'Ensure payment is made by facility code CODE F',\n",
       " 'Provide the remittance address if different from the offer address',\n",
       " 'None',\n",
       " 'None']"
      ]
     },
     "execution_count": 4,
     "metadata": {},
     "output_type": "execute_result"
    }
   ],
   "source": [
    "test_data_path = \"tests/mar-21/02-compliances.txt\"\n",
    "with open(test_data_path, 'r') as file:\n",
    "    test_data = file.readlines()\n",
    "test_data = [line.strip() for line in test_data]\n",
    "test_data = [line for line in test_data if line]\n",
    "test_data[:5]"
   ]
  },
  {
   "cell_type": "code",
   "execution_count": 5,
   "metadata": {},
   "outputs": [
    {
     "name": "stderr",
     "output_type": "stream",
     "text": [
      "100%|██████████| 420/420 [04:28<00:00,  1.57it/s]\n"
     ]
    }
   ],
   "source": [
    "import tqdm\n",
    "annotations = []\n",
    "for line in tqdm.tqdm(test_data):\n",
    "    annotations.append(llmannotations(line, llm))"
   ]
  },
  {
   "cell_type": "code",
   "execution_count": 6,
   "metadata": {},
   "outputs": [
    {
     "data": {
      "text/plain": [
       "90"
      ]
     },
     "execution_count": 6,
     "metadata": {},
     "output_type": "execute_result"
    }
   ],
   "source": [
    "ids  = []\n",
    "for index, annotation in enumerate(annotations):\n",
    "    if annotation['applies_directly_to_the_rfp_submission']:\n",
    "        ids.append(index)\n",
    "len(ids)"
   ]
  },
  {
   "cell_type": "code",
   "execution_count": 7,
   "metadata": {},
   "outputs": [
    {
     "name": "stdout",
     "output_type": "stream",
     "text": [
      "- Provide the mailing address of the authorized government representative\n",
      "- Include the date and signature of the authorized government representative\n",
      "- Include the S/R voucher number, S/R account number, and check number for payment\n",
      "- Provide the e-mail of the authorized government representative\n",
      "- Include the total number of containers received, date received, location received at, and name of the person who received it\n",
      "- Include the date, signature, and title of the certifying officer\n",
      "Include the telephone number and printed name/title of the authorized government representative\n",
      "Adhere to FAR (48 CFR) 53.110\n",
      "- Provide a Material (T&M) CLIN with a 'Not to Exceed' amount of $20,000 per year\n",
      "- Specify the Period of Performance as 07/01/2025 to 06/30/2026\n",
      "- Specify the Period of Performance for Task 1, 2, and 6 as 07/01/2026 to 06/30/2027\n",
      "- Specify the cost for a specific training program per employee per month in each sub-CLIN\n",
      "- Submit quotes according to the Quote Submission section\n",
      "- Follow the Quote Format guidelines for submission\n",
      "- Include technical capability and risk assessment in Volume I\n",
      "- Include price quotes in Volume III\n",
      "Follow instructions for quote submission in Section 3\n",
      "- Ensure adherence to FAR subpart 13.5 for Simplified Procedures for Certain Commercial Products and Commercial Services\n",
      "- Vendors must state their size standard at the time of quote submission\n",
      "- Vendors must disclose any actual or potential Organizational Conflict of Interest (OCI) to ARPA-H in accordance with FAR subpart 9.5\n",
      "- Disclosure of OCI may be made via memo on Vendor company letterhead and included under a separate tab in Volume I of the Vendor's quote\n",
      "- Do not use, disclose, or reproduce Personally Identifiable Information (PII) without authorization\n",
      "All Vendor personnel with access to ARPA-H personnel usage data must sign a Certificate of Non-Disclosure\n",
      "Follow Quotation Instructions in RFQ Section 3.5 Volume IV for any exceptions to data rights\n",
      "Ensure electronic copies are received by the designated closing time and date\n",
      "Attachments must be in Adobe Acrobat format\n",
      "- Submit attachments in Adobe Acrobat/.pdf file format\n",
      "- Ensure email size is no more than 10 MB\n",
      "- Identify RFQ Number and Closing Date and Time on all electronic correspondence\n",
      "Submit electronic quotes by April 15th, 2024, 4:00 PM EDT\n",
      "Do not submit quotes via facsimile\n",
      "Submit quotes by the specified date\n",
      "Provide a pricing schedule with the following details:\n",
      "- Reimburse all approved travel in accordance with PWS section 2.16.2 using CLIN 1005\n",
      "Follow the format and content specified for responding to the RFQ\n",
      "Submit a quote that clearly describes the response to the RFQ requirements\n",
      "Acknowledge receipt of any amendments to the RFQ by submitting a signed SF30\n",
      "Submit quotes electronically via email to Acquisitions@ARPA-H.GOV\n",
      "Include \"VENDOR NAME Quote for RFQ 75N992-24-Q-00001 Career Lifecycle Management Support Service\" in the subject line of the email\n",
      "Ensure quotes are received by the closing date and time specified in the RFQ section 1.11 Quote Submission\n",
      "Show the RFQ number, name, address, email address, and telephone number on the first page of the quote\n",
      "Include a statement agreeing to all terms, conditions, and provisions in the RFQ\n",
      "Provide names, titles, signatures, telephone, and electronic addresses of authorized negotiators\n",
      "Submit quotes and any modifications to the designated Government office by the specified time in the RFQ\n",
      "Submit quotes in four separate volumes: Technical Capability/Risk, Past Performance, Price Quote, Contract Documentation\n",
      "Do not include pricing data in the Non-Price Volume or transmittal letter\n",
      "Follow the specified page limits for each volume\n",
      "Use 8.5 by 11 inches or 11 by 8.5 inches page size\n",
      "Use single-spaced, 11-point font for text, 10-point font for specific elements\n",
      "Use a font size of at least 5 point for charts, graphs, and figures/diagrams\n",
      "Maintain 1-inch margins on the top, bottom, and sides of every page\n",
      "Number pages sequentially by volume\n",
      "Apply page format restrictions to responses to clarifications or additional requests for information\n",
      "Exclude cover pages, table of contents, cross-reference matrix, tabs, and glossaries from page count\n",
      "- Do not include pricing information in Volume I\n",
      "- Provide an introduction (1 page maximum) summarizing key aspects of the proposal\n",
      "- Include Section 1 on Employee Development and Career Management Support (6 pages maximum)\n",
      "- Submit a Career Development and Counseling Plan (CDCP) as described in PWS section 2.3.1.1\n",
      "- Present a Career Alignment Strategy as outlined in PWS Section 2.3.2.1\n",
      "- Include an Outplacement Services Framework according to PWS section 2.3.5.1\n",
      "Submit a Customized Training and Leadership Coaching plan within 6 pages\n",
      "- Identify the Contract Manager (CM) and Performer Program Manager (PPM) with contact information\n",
      "Limit past performance descriptions to one page per reference\n",
      "- Use the provided Price Quotation Worksheet to provide a firm fixed price for all services described\n",
      "Include a signed letter stating any exceptions to the Government's requirements or accepting all terms and conditions of the solicitation\n",
      "Provide names, titles, signatures, telephone, and electronic addresses of authorized negotiators\n",
      "Submit a copy of the Vendor's active Reps and Certs for Commercial Products and Commercial Services\n",
      "Sign the SF 1449 form for Commercial Items\n",
      "Sign the SF 30 form for Amendments to RFQs\n",
      "Confirm valid and active System for Awards Management Registration (SAM) with expiration date and intent to renew and maintain registration during the contract performance period\n",
      "Submit the proposal in accordance with FAR Subpart 13.5\n",
      "Ensure the quote adheres to submission guidelines in section 3 of the RFQ\n",
      "Quotes that fail to adhere to guidelines may be eliminated from consideration\n",
      "Ensure the quote is complete, clear, and compliant with the RFQ terms\n",
      "Include proposed methods for conducting and utilizing mid-point assessments and stakeholder surveys as detailed in PWS section 2.3.1.2\n",
      "- Ensure the quote complies with the content requirements in PWS Section 2.3.2.1\n",
      "- Address the Outplacement Services Framework requirements in PWS Section 2.3.5.1\n",
      "- Provide a Quality Control and Management Oversight Plan as outlined in PWS Sections 2.3.3.4 and 2.5.1\n",
      "Include a Contingency Plan addressing contract contingencies, excusable delays, business disruptions, and potential service interruptions as per PWS Sections 2.3.3.8\n",
      "Use the combined technical/risk rating for evaluation\n",
      "Provide a minimum of three (3) performance references within the last three (3) years from the quote due date\n",
      "Provide a past performance rating in accordance with FAR 15.305(a)(2)(iv)\n",
      "Submit one overall confidence assessment rating for each vendor based on past performance quote\n",
      "- Quotes with a confidence rating less than Neutral will be ineligible for award\n",
      "- Failure to provide financial information may result in proposal being deemed non-responsive\n",
      "Incorporate all provisions and clauses in the solicitation\n",
      "- Include the clauses 52.204-7, 52.204-16, 52.204-24, 52.209-7, 52.212-1, 52.212-3, 52.217-5, 52.233-2, and 52.252-1 in the proposal\n",
      "- Serve protests directly to the Contracting Officer within one day of filing with the GAO\n",
      "Ensure compliance with FAR Clause 52.212-5, Contract Terms and Conditions Required To Implement Statutes or Executive Orders—Commercial Products and Commercial Services (Dec 2023) and the clauses it references.\n",
      "- Payment requests must be submitted electronically\n"
     ]
    }
   ],
   "source": [
    "for idx in ids:\n",
    "    print(test_data[idx])"
   ]
  },
  {
   "cell_type": "code",
   "execution_count": 8,
   "metadata": {},
   "outputs": [],
   "source": [
    "# export the compliances into a tex file\n",
    "with open('tests/mar-21/03-all-compliances.txt', 'w') as file:\n",
    "    for idx in ids:\n",
    "        file.write(test_data[idx] + \"\\n\")"
   ]
  },
  {
   "cell_type": "code",
   "execution_count": null,
   "metadata": {},
   "outputs": [],
   "source": []
  }
 ],
 "metadata": {
  "kernelspec": {
   "display_name": "venv",
   "language": "python",
   "name": "python3"
  },
  "language_info": {
   "codemirror_mode": {
    "name": "ipython",
    "version": 3
   },
   "file_extension": ".py",
   "mimetype": "text/x-python",
   "name": "python",
   "nbconvert_exporter": "python",
   "pygments_lexer": "ipython3",
   "version": "3.11.5"
  }
 },
 "nbformat": 4,
 "nbformat_minor": 2
}
