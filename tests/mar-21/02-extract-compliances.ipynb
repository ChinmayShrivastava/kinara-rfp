{
 "cells": [
  {
   "cell_type": "code",
   "execution_count": 1,
   "metadata": {},
   "outputs": [
    {
     "name": "stdout",
     "output_type": "stream",
     "text": [
      "/Users/chinmayshrivastava/Documents/GitHub/kinara-rfp\n"
     ]
    }
   ],
   "source": [
    "import sys\n",
    "import os\n",
    "\n",
    "# moce two directories up and make that current directory\n",
    "os.chdir(\"../..\")\n",
    "# print current directory\n",
    "print(os.getcwd())"
   ]
  },
  {
   "cell_type": "code",
   "execution_count": 2,
   "metadata": {},
   "outputs": [
    {
     "name": "stderr",
     "output_type": "stream",
     "text": [
      "/Users/chinmayshrivastava/Documents/GitHub/kinara-rfp/venv/lib/python3.11/site-packages/langchain_core/_api/deprecation.py:117: LangChainDeprecationWarning: The class `langchain_community.embeddings.openai.OpenAIEmbeddings` was deprecated in langchain-community 0.0.9 and will be removed in 0.2.0. An updated version of the class exists in the langchain-openai package and should be used instead. To use it run `pip install -U langchain-openai` and import as `from langchain_openai import OpenAIEmbeddings`.\n",
      "  warn_deprecated(\n"
     ]
    }
   ],
   "source": [
    "from govrfp.dynamicfs.Selector import Selector\n",
    "from govrfp.rfpparser.RFPParser import RFPParser\n",
    "from llama_index.llms.openai import OpenAI\n",
    "\n",
    "llm = OpenAI(model=\"gpt-3.5-turbo\")\n",
    "rfp = RFPParser(\n",
    "    pdf_path=\"tests/mar-21/egsearch.pdf\",\n",
    "    verbose=True\n",
    ")"
   ]
  },
  {
   "cell_type": "code",
   "execution_count": 3,
   "metadata": {},
   "outputs": [],
   "source": [
    "chunks = rfp.chunks()"
   ]
  },
  {
   "cell_type": "code",
   "execution_count": 4,
   "metadata": {},
   "outputs": [],
   "source": [
    "prompt_template = \"\"\"You will be given excerpts from an RFP application. Your task is to extract all compliance requirements that the applicant needs to meet while drafting the proposal. Break down complex requirements into simpler, standalone ones, rephrase them into an actionable form, and identify all requirements even if they are embedded within a sentence or phrase. If no requirements are found, return 'None'. Ignore any information that is not a compliance requirement.\n",
    "\n",
    "Example 1: \n",
    "\n",
    "Excerpt:\n",
    "Deadline: 08/31/2023 1700 ET\n",
    "Offer due date: 08/31/2023 1700 ET\n",
    "Submit invoices to address shown in block 18a \n",
    "\n",
    "Response:\n",
    "Submit the application by August 31, 2023, 5:00 PM ET\n",
    "Send invoices to the address in block 18a\n",
    "\n",
    "Example 2: \n",
    "Excerpt:\n",
    "Any deviation or delay upon the agreed upon delivery time will be recorded and influence the contractor closing assessment made by the COR Offeror must provide description of service(s) or product(s). Number and Names of Sub-contractors, if any \n",
    "\n",
    "Response:\n",
    "Ensure no deviation or delay from the agreed delivery time\n",
    "Provide a description of the service(s) or product(s)\n",
    "List the number and names of any sub-contractors, if any\n",
    "\n",
    "----------------\n",
    "For the following excerpt, provide the compliance requirements:\n",
    "\n",
    "Excerpt:\n",
    "{excerpt}\n",
    "\n",
    "Response:\"\"\""
   ]
  },
  {
   "cell_type": "code",
   "execution_count": 5,
   "metadata": {},
   "outputs": [
    {
     "name": "stderr",
     "output_type": "stream",
     "text": [
      "  0%|          | 0/77 [00:00<?, ?it/s]"
     ]
    },
    {
     "name": "stderr",
     "output_type": "stream",
     "text": [
      "100%|██████████| 77/77 [03:00<00:00,  2.34s/it]\n"
     ]
    }
   ],
   "source": [
    "import tqdm\n",
    "compliances = []\n",
    "for chunk in tqdm.tqdm(chunks):\n",
    "    prompt = prompt_template.format(excerpt=chunk['text'])\n",
    "    response = llm.complete(prompt).text\n",
    "    compliances.append(response)"
   ]
  },
  {
   "cell_type": "code",
   "execution_count": 7,
   "metadata": {},
   "outputs": [],
   "source": [
    "# save the compliances\n",
    "with open(\"tests/mar-21/02-compliances.txt\", \"w\") as f:\n",
    "    for comp in compliances:\n",
    "        f.write(comp + \"\\n\")"
   ]
  },
  {
   "cell_type": "code",
   "execution_count": null,
   "metadata": {},
   "outputs": [],
   "source": []
  }
 ],
 "metadata": {
  "kernelspec": {
   "display_name": "venv",
   "language": "python",
   "name": "python3"
  },
  "language_info": {
   "codemirror_mode": {
    "name": "ipython",
    "version": 3
   },
   "file_extension": ".py",
   "mimetype": "text/x-python",
   "name": "python",
   "nbconvert_exporter": "python",
   "pygments_lexer": "ipython3",
   "version": "3.11.5"
  }
 },
 "nbformat": 4,
 "nbformat_minor": 2
}
