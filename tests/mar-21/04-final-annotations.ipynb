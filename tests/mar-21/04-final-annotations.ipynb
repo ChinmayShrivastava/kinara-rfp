{
 "cells": [
  {
   "cell_type": "code",
   "execution_count": 1,
   "metadata": {},
   "outputs": [
    {
     "name": "stdout",
     "output_type": "stream",
     "text": [
      "/Users/chinmayshrivastava/Documents/GitHub/kinara-rfp\n"
     ]
    }
   ],
   "source": [
    "import sys\n",
    "import os\n",
    "\n",
    "# moce two directories up and make that current directory\n",
    "os.chdir(\"../..\")\n",
    "# print current directory\n",
    "print(os.getcwd())"
   ]
  },
  {
   "cell_type": "code",
   "execution_count": 2,
   "metadata": {},
   "outputs": [],
   "source": [
    "from llama_index.llms.openai import OpenAI\n",
    "llm = OpenAI(model=\"gpt-3.5-turbo\")"
   ]
  },
  {
   "cell_type": "code",
   "execution_count": 3,
   "metadata": {},
   "outputs": [
    {
     "data": {
      "text/plain": [
       "{'is_formatting_compliance': False,\n",
       " 'is_finance_compliance': False,\n",
       " 'is_legal_compliance': False,\n",
       " 'is_technical_compliance': False,\n",
       " 'is_mandatory': False,\n",
       " 'other': True}"
      ]
     },
     "execution_count": 3,
     "metadata": {},
     "output_type": "execute_result"
    }
   ],
   "source": [
    "from govrfp.rfpinsights.llmannotations import llmannotations\n",
    "\n",
    "test_query = \"What is the purpose of the RFP?\"\n",
    "llmannotations(test_query, llm)"
   ]
  },
  {
   "cell_type": "code",
   "execution_count": 4,
   "metadata": {},
   "outputs": [
    {
     "data": {
      "text/plain": [
       "['- Provide the mailing address of the authorized government representative',\n",
       " '- Include the date and signature of the authorized government representative',\n",
       " '- Include the S/R voucher number, S/R account number, and check number for payment',\n",
       " '- Provide the e-mail of the authorized government representative',\n",
       " '- Include the total number of containers received, date received, location received at, and name of the person who received it']"
      ]
     },
     "execution_count": 4,
     "metadata": {},
     "output_type": "execute_result"
    }
   ],
   "source": [
    "test_data_path = \"tests/mar-21/03-all-compliances.txt\"\n",
    "with open(test_data_path, 'r') as file:\n",
    "    test_data = file.readlines()\n",
    "test_data = [line.strip() for line in test_data]\n",
    "test_data = [line for line in test_data if line]\n",
    "test_data[:5]"
   ]
  },
  {
   "cell_type": "code",
   "execution_count": 5,
   "metadata": {},
   "outputs": [
    {
     "name": "stderr",
     "output_type": "stream",
     "text": [
      "  0%|          | 0/90 [00:00<?, ?it/s]"
     ]
    },
    {
     "name": "stderr",
     "output_type": "stream",
     "text": [
      "100%|██████████| 90/90 [00:51<00:00,  1.74it/s]\n"
     ]
    }
   ],
   "source": [
    "import tqdm\n",
    "annotations = []\n",
    "for line in tqdm.tqdm(test_data):\n",
    "    annotations.append(llmannotations(line, llm))"
   ]
  },
  {
   "cell_type": "code",
   "execution_count": 6,
   "metadata": {},
   "outputs": [
    {
     "data": {
      "text/plain": [
       "(17, 3, 29, 12, 50)"
      ]
     },
     "execution_count": 6,
     "metadata": {},
     "output_type": "execute_result"
    }
   ],
   "source": [
    "format = []\n",
    "finance = []\n",
    "legal = []\n",
    "technical = []\n",
    "other = []\n",
    "\n",
    "for index, annotation in enumerate(annotations):\n",
    "    if annotation['is_formatting_compliance']:\n",
    "        format.append(test_data[index])\n",
    "    if annotation['is_finance_compliance']:\n",
    "        finance.append(test_data[index])\n",
    "    if annotation['is_legal_compliance']:\n",
    "        legal.append(test_data[index])\n",
    "    if annotation['is_technical_compliance']:\n",
    "        technical.append(test_data[index])\n",
    "    if annotation['is_mandatory'] or annotation['other']:\n",
    "        other.append(test_data[index])\n",
    "\n",
    "len(format), len(finance), len(legal), len(technical), len(other)"
   ]
  },
  {
   "cell_type": "code",
   "execution_count": 7,
   "metadata": {},
   "outputs": [],
   "source": [
    "import pandas as pd\n",
    "\n",
    "format_df = pd.DataFrame(format, columns=[\"format\"])\n",
    "finance_df = pd.DataFrame(finance, columns=[\"finance\"])\n",
    "legal_df = pd.DataFrame(legal, columns=[\"legal\"])\n",
    "technical_df = pd.DataFrame(technical, columns=[\"technical\"])\n",
    "other_df = pd.DataFrame(other, columns=[\"other\"])"
   ]
  },
  {
   "cell_type": "code",
   "execution_count": 8,
   "metadata": {},
   "outputs": [],
   "source": [
    "# export xlsx file with different sheets\n",
    "with pd.ExcelWriter('tests/mar-21/04-compliances.xlsx') as writer:\n",
    "    format_df.to_excel(writer, sheet_name='COMPLIANCES-format', index=True)\n",
    "    finance_df.to_excel(writer, sheet_name='COMPLIANCES-finance', index=True)\n",
    "    legal_df.to_excel(writer, sheet_name='COMPLIANCES-legal', index=True)\n",
    "    technical_df.to_excel(writer, sheet_name='COMPLIANCES-technical', index=True)\n",
    "    other_df.to_excel(writer, sheet_name='COMPLIANCES-other', index=True)"
   ]
  },
  {
   "cell_type": "code",
   "execution_count": null,
   "metadata": {},
   "outputs": [],
   "source": []
  }
 ],
 "metadata": {
  "kernelspec": {
   "display_name": "venv",
   "language": "python",
   "name": "python3"
  },
  "language_info": {
   "codemirror_mode": {
    "name": "ipython",
    "version": 3
   },
   "file_extension": ".py",
   "mimetype": "text/x-python",
   "name": "python",
   "nbconvert_exporter": "python",
   "pygments_lexer": "ipython3",
   "version": "3.11.5"
  }
 },
 "nbformat": 4,
 "nbformat_minor": 2
}
