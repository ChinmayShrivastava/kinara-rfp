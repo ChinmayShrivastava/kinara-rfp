{
 "cells": [
  {
   "cell_type": "code",
   "execution_count": 9,
   "metadata": {},
   "outputs": [
    {
     "name": "stderr",
     "output_type": "stream",
     "text": [
      "Initialized PDFAnnotator with doefund.pdf\n",
      "Initialized PDFAnnotator with doefund.pdf\n"
     ]
    }
   ],
   "source": [
    "from pdf_page_annotator import PDFAnnotator\n",
    "\n",
    "annotator = PDFAnnotator('doefund.pdf', verbose=True)"
   ]
  },
  {
   "cell_type": "code",
   "execution_count": 10,
   "metadata": {},
   "outputs": [
    {
     "name": "stderr",
     "output_type": "stream",
     "text": [
      "Page 0 ...\n",
      "Page 0 ...\n",
      "Page 1 ...\n",
      "Page 1 ...\n",
      "Page 2 ...\n",
      "Page 2 ...\n",
      "Page 3 ...\n",
      "Page 3 ...\n",
      "Page 4 ...\n",
      "Page 4 ...\n",
      "Page 5 ...\n",
      "Page 5 ...\n",
      "Page 6 ...\n",
      "Page 6 ...\n",
      "Finished annotating table of contents\n",
      "Finished annotating table of contents\n",
      "Extracting contents ...\n",
      "Extracting contents ...\n",
      "Extracting contents from page 2 ...\n",
      "Extracting contents from page 2 ...\n",
      "Extracting contents from page 3 ...\n",
      "Extracting contents from page 3 ...\n",
      "Extracting contents from page 4 ...\n",
      "Extracting contents from page 4 ...\n",
      "Extracting contents from page 5 ...\n",
      "Extracting contents from page 5 ...\n",
      "Extracted contents\n",
      "Extracted contents\n",
      "Extracting contents from chunk ...\n",
      "Extracting contents from chunk ...\n",
      "Extracting contents from chunk ...\n",
      "Extracting contents from chunk ...\n",
      "Extracting contents from chunk ...\n",
      "Extracting contents from chunk ...\n",
      "Extracting contents from chunk ...\n",
      "Extracting contents from chunk ...\n",
      "Extracting contents from chunk ...\n",
      "Extracting contents from chunk ...\n",
      "Extracting contents from chunk ...\n",
      "Extracting contents from chunk ...\n",
      "Extracting contents from chunk ...\n",
      "Extracting contents from chunk ...\n",
      "Extracting contents from chunk ...\n",
      "Extracting contents from chunk ...\n",
      "Extracting contents from chunk ...\n",
      "Extracting contents from chunk ...\n",
      "Extracting contents from chunk ...\n",
      "Extracting contents from chunk ...\n",
      "Extracting contents from chunk ...\n",
      "Extracting contents from chunk ...\n",
      "Extracting contents from chunk ...\n",
      "Extracting contents from chunk ...\n",
      "Extracting contents from chunk ...\n",
      "Extracting contents from chunk ...\n",
      "Extracting contents from chunk ...\n",
      "Extracting contents from chunk ...\n",
      "Extracting contents from chunk ...\n",
      "Extracting contents from chunk ...\n",
      "Extracting contents from chunk ...\n",
      "Extracting contents from chunk ...\n",
      "Extracting contents from chunk ...\n",
      "Extracting contents from chunk ...\n",
      "Extracting contents from chunk ...\n",
      "Extracting contents from chunk ...\n",
      "Extracting contents from chunk ...\n",
      "Extracting contents from chunk ...\n"
     ]
    }
   ],
   "source": [
    "annotator.run_extraction_pipeline()"
   ]
  },
  {
   "cell_type": "code",
   "execution_count": 11,
   "metadata": {},
   "outputs": [
    {
     "data": {
      "text/plain": [
       "('I. Funding Opportunity Description', 1, 12)"
      ]
     },
     "execution_count": 11,
     "metadata": {},
     "output_type": "execute_result"
    }
   ],
   "source": [
    "content = annotator.contents\n",
    "content[0].unique_title, content[0].start_page, content[0].end_page"
   ]
  },
  {
   "cell_type": "code",
   "execution_count": 12,
   "metadata": {},
   "outputs": [
    {
     "data": {
      "text/plain": [
       "118"
      ]
     },
     "execution_count": 12,
     "metadata": {},
     "output_type": "execute_result"
    }
   ],
   "source": [
    "# extract all the tuples of (start_page, end_page) for each unique_title\n",
    "heading_tuples = []\n",
    "for c in content:\n",
    "    heading_tuples.append((c.unique_title, c.start_page, c.end_page))\n",
    "len(heading_tuples)"
   ]
  },
  {
   "cell_type": "code",
   "execution_count": 13,
   "metadata": {},
   "outputs": [],
   "source": [
    "# export the tuples into a csv file names toc.csv\n",
    "import csv\n",
    "with open('toc.csv', 'w', newline='') as file:\n",
    "    writer = csv.writer(file)\n",
    "    writer.writerows(heading_tuples)"
   ]
  },
  {
   "cell_type": "code",
   "execution_count": 14,
   "metadata": {},
   "outputs": [
    {
     "name": "stdout",
     "output_type": "stream",
     "text": [
      "Given are the Table of Contents of an RFP document. Based on the user query, return the section and it's contents where the requested information is found.\n",
      "Each table of content tuple contains the unique heading, start page and end page of the section.\n",
      "Table of Contents:\n",
      "[('I. Funding Opportunity Description', 1, 12), ('A. Background and Context', 1, 2), ('i. Program Purpose', 2, 2), ('ii. Technology Space and Strategic Goals', 5, 5), ('B. Topic Areas', 6, 6), ('C. Applications Specifically Not of Interest', 11, 11), ('D. R&D Community Benefits Plan (CBP)', 12, 12), ('E. Authorizing Statutes', 12, 12), ('F. Notice of Bipartisan Infrastructure Law– Specific Requirements', 13, 13), ('II. Award Information', 14, 15), ('A. Award Overview', 14, 14), ('B. DOE Funding Agreements', 14, 15), ('III. Eligibility Information', 15, 15), ('A. Eligible Applicants', 15, 16), ('B. Cost Sharing', 16, 19), ('C. Compliance Criteria', 20, 20), ('D. Responsiveness Criteria', 21, 21), ('E. Other Eligibility Requirements', 21, 21), ('F. Limitation on Number of Concept Papers and Full Applications Eligible for Review', 22, 22), ('G. Questions Regarding Eligibility', 23, 23), ('IV. Application and Submission Information', 23, 24), ('A. Application Process', 23, 24), ('i. Additional Information on EERE eXCHANGE', 24, 24), ('B. Application Forms', 24, 24), ('C. Content and Form of the Concept Paper', 24, 24), ('D. Content and Form of the Full Application', 25, 25), ('i. Full Application Content Requirements', 26, 26), ('ii. Technical Volume', 27, 27), ('iii. Resumes', 31, 31), ('iv. Letters of Commitment', 32, 32), ('v. Statement of Project Objectives (SOPO)', 33, 33), ('vi. SF- 424: Application for Federal Assistance', 33, 33), ('vii. Budget Justification Workbook', 33, 33), ('viii. Summary for Public Release', 34, 34), ('ix. Summary Slide', 34, 34), ('x. Subrecipient Budget Justification (if applicable)', 35, 35), ('xi. Budget for DOE/NNSA FFRDC (if applicable)', 35, 35), ('xii. Authorization for Non-DOE/NNSA or DOE/NNSA FFRDCs (if applicable)', 35, 35), ('xiii. SF- LLL: Disclosure of Lobbying Activities (required)', 35, 35), ('xiv. Waiver Requests (if applicable)', 36, 36), ('R&D Community Benefits Plan', 36, 36), ('Current and Pending Support', 38, 38), ('Locations of Work', 41, 41), ('Transparency of Foreign Connections', 41, 41), ('Potentially Duplicative Funding Notice', 42, 42), ('Data Management Plan', 43, 43), ('Post Selection Information Requests', 44, 44), ('Unique Entity Identifier (UEI) and System for Award Management (SAM)', 45, 45), ('Submission Dates and Times', 45, 45), ('Intergovernmental Review', 45, 45), ('I. Funding Restrictions', 45, 52), ('x. Risk Assessment', 52, 52), ('xi. Invoice Review and Approval', 53, 53), ('xii. Prohibition Related to Foreign Government-Sponsored Talent Recruitment Programs', 54, 54), ('xiii. Affirmative Action and Pay Transparency Requirements', 55, 55), ('xiv. Foreign Collaboration Considerations', 56, 56), ('V. Application Review Information', 56, 61), ('A. Technical Review Criteria', 56, 61), ('i. Concept Papers', 56, 61), ('ii. Full Applications', 57, 61), ('B. Standards for Application Evaluation', 61, 61), ('C. Other Selection Factors', 61, 61), ('D. Evaluation and Selection Process', 62, 63), ('E. Anticipated Notice of Selection and Award Negotiation Dates', 63, 63), ('VI. Award Administration Information', 64, 64), ('Ineligible Submissions', 64, 64), ('ii. Concept Paper Notifications', 64, 64), ('iii. Full Application Notifications', 64, 64), ('iv. Applicants Selected for Award Negotiations', 64, 64), ('v. Alternate Selection Determinations', 65, 65), ('vi. Unsuccessful Applicants', 65, 65), ('B. Administrative and National Policy Requirements', 65, 67), ('i. Registration Requirements', 65, 65), ('ii. Award Administrative Requirements', 67, 67), ('iii. Foreign National Participation', 67, 67), ('iv. Subaward and Executive Reporting', 67, 67), ('v. National Policy Requirements', 68, 68), ('vi. Environmental Review in Accordance with National Environmental Policy Act (NEPA)', 68, 68), ('vii. Flood Resilience', 68, 68), ('viii. Applicant Representations and Certifications', 69, 69), ('ix. Statement of Federal Stewardship', 70, 70), ('x. Subject Invention Utilization Reporting', 71, 71), ('xi. Intellectual Property Provisions', 71, 71), ('xii. Reporting', 71, 71), ('xiii. Go/No-Go Review', 72, 72), ('xiv. Conference Spending', 73, 73), ('Uniform Commercial Code (UCC) Financing Statements', 73, 73), ('Real Property and Equipment', 74, 74), ('Participants and Collaborating Organizations', 75, 75), ('Current and Pending Support', 75, 75), ('U.S. Manufacturing Commitments', 75, 75), ('Interim Conflict of Interest Policy for Financial Assistance', 76, 76), ('Data Management Plan', 77, 77), ('Human Subjects Research', 78, 78), ('xxv. Cybersecurity Plan', 79, 79), ('VII. Questions/Agency Contacts', 80, 80), ('VIII. Other Information', 80, 82), ('H. Requirement for Full and Complete Disclosure', 82, 82), ('I. Retention of Submissions', 83, 83), ('J. Title to Subject Inventions', 83, 83), ('K. Government Rights in Subject Inventions', 84, 84), ('L. Rights in Technical Data', 85, 85), ('M. Copyright', 85, 85), ('N. Export Control', 86, 86), ('O. Prohibition on Certain Telecommunications and Video Surveillance Services or Equipment', 86, 86), ('P. Personally Identifiable Information (PII)', 86, 86), ('Q. Annual Independent Audits', 87, 87), ('1.1.5 Heading 1', 5, 5), ('1.1.6 Heading 2', 6, 6), ('Appendix A – Cost Share Information', 88, 88), ('Appendix B – Sample Cost Share Calculation for Blended Cost Share Percentage', 93, 93), ('Appendix C – Waiver Requests For: 1. Foreign Entity Participation; and 2. Foreign Work', 95, 95), ('Appendix E – Definition of Technology Readiness Levels', 102, 102), ('Appendix F – List of Acronyms', 103, 103), ('Appendix G – R&D Community Benefits Plan Guidance', 105, 105), ('Heading 1', 1, 3), ('Heading 2', 4, 4), ('Heading 3', 5, 6)]\n",
      "Query:\n",
      "Where can I find all the evaluation criteria?\n",
      "---\n",
      "Return a list of tuples as expressed above.\n",
      "Results:\n"
     ]
    }
   ],
   "source": [
    "PROMPT = \"\"\"Given are the Table of Contents of an RFP document. Based on the user query, return the section and it's contents where the requested information is found.\n",
    "Each table of content tuple contains the unique heading, start page and end page of the section.\n",
    "Table of Contents:\n",
    "{toc}\n",
    "Query:\n",
    "{query}\n",
    "---\n",
    "Return a list of tuples as expressed above.\n",
    "Results:\"\"\"\n",
    "print(PROMPT.format(toc=heading_tuples, query=\"Where can I find all the evaluation criteria?\"))"
   ]
  },
  {
   "cell_type": "code",
   "execution_count": 15,
   "metadata": {},
   "outputs": [],
   "source": [
    "from llama_index.llms.openai import OpenAI\n",
    "llm = OpenAI(model=\"gpt-3.5-turbo\")\n",
    "# response = llm.complete(PROMPT.format(toc=heading_tuples, query=\"Where can I find all the evaluation criteria? Return the section start and end item.\")).text"
   ]
  },
  {
   "cell_type": "code",
   "execution_count": 19,
   "metadata": {},
   "outputs": [
    {
     "data": {
      "text/plain": [
       "\"[('V. Application Review Information', 56, 61), ('A. Technical Review Criteria', 56, 61), ('i. Concept Papers', 56, 61), ('ii. Full Applications', 57, 61)]\""
      ]
     },
     "execution_count": 19,
     "metadata": {},
     "output_type": "execute_result"
    }
   ],
   "source": [
    "response"
   ]
  },
  {
   "cell_type": "code",
   "execution_count": 20,
   "metadata": {},
   "outputs": [
    {
     "data": {
      "text/plain": [
       "[('V. Application Review Information', 56, 61),\n",
       " ('A. Technical Review Criteria', 56, 61),\n",
       " ('i. Concept Papers', 56, 61),\n",
       " ('ii. Full Applications', 57, 61)]"
      ]
     },
     "execution_count": 20,
     "metadata": {},
     "output_type": "execute_result"
    }
   ],
   "source": [
    "import ast\n",
    "response = ast.literal_eval(response)\n",
    "response"
   ]
  },
  {
   "cell_type": "code",
   "execution_count": 10,
   "metadata": {},
   "outputs": [
    {
     "data": {
      "text/plain": [
       "(27, 34)"
      ]
     },
     "execution_count": 10,
     "metadata": {},
     "output_type": "execute_result"
    }
   ],
   "source": [
    "page_start = 27\n",
    "page_end = 34\n",
    "page_start, page_end"
   ]
  },
  {
   "cell_type": "code",
   "execution_count": 12,
   "metadata": {},
   "outputs": [
    {
     "data": {
      "text/plain": [
       "['SOLICITATION NUMBER 75N992-24-Q -00001  \\nPage 28 of 42  \\nSECTION 4 – EVALUATIO N FACTORS AND AWARD PROCESS  \\n4.1 Evaluation  Criteria  \\n \\nThis procurement is being conducted under FAR Subpart  13.5 . FAR Part 15, and specifically \\nsource selection procedures at FAR  Subpart  15.3 , do not apply  to evaluation of quotations and \\nwill not be used.  \\n \\nThe Government will award  the contract  to the quoter  that represents the overall best value to \\nmeet the Government’s needs. Best Value is defined as the expected outcome of an acquisition that, in the Government’s estimation, provides the greatest overall benefit in response to the requirement, in accordance with FAR 2.101. The Government intends to determine the best value outcome by utilizing a Tradeoff Process to consider making award to other than the lowest \\nprice or other than the highest technically r ated quoter . \\n THE GOVERNMENT INTENDS TO ISSUE AWARD WITHOUT ENGAGING IN \\nEXCHANGES  WITH VENDORS, BUT RESERVES THE RIGHT TO DO SO,  AS \\nNECESSARY.  \\n \\nConsequently, quoters  are encouraged to provide their best quote with initial submissions. \\nHowever, the Governme nt reserves the right to conduct discussions , orally or in writing, with \\nquoters  submitting  a quote if it is determined advantageous to the Government to do so. The \\nGovernment reserves the right to seek clarifications of  minor technical or administrative e rrors ; \\nhowever , these clarifications will not result in an opportunity to resubmit a  quote.  \\n Note  1: The Government will conduct an initial review of quotes  for completeness following the \\nclose of the RFQ  prior to conducting the full evaluation  described in this section . Quotes  that fail \\nto adhere to the submission guidelines in section 3 of the RFQ (e.g. missing volumes/sections, \\nrequired plans, documentation, pricing, etc.) may be eliminated from further consideration  (See \\nsections 3.0.4 and 4.2.2) or further evaluated. If a quotation is eliminated during this review, the \\nofferor will be notified in writing.  \\n Note 2 : Sustainable Acquisition Requirements : In accordance with HHSAR Part 323.701 \\nApplicability, there are no opportunities to acquire sustainable acquisition supplies or services in this procurement. This requirement solely pertains to Professional Services, specifically CLM S \\nservices. None of the components of this acquisition align with the descriptions provided in HHSAR part 323.7101. Consequently, there is no evaluation of a Sustainable Acquisition Plan \\nincluded this solicitation.  \\n \\n4.2 Evaluation  Factors  \\n The following factors shall be used to evaluate quotes:  \\n \\nFactor 1: Technical Capability/Risk (non -price)  \\nFactor 2: Past Performance (non -price)  \\nFactor 3 : Price  \\n \\nFactor 1, Technical Capability/Risk is more important than Factor 2 - Past Performance. Factor ',\n",
       " 'SOLICITATION NUMBER 75N992-24-Q -00001  \\nPage 29 of 42  \\n1- Technical Capability/Risk and Factor 2-  Past Performance when combined are more \\nimportant than Factor 3- Price.  When proposals result in equal ratings for  Factor 1 -Technical \\nCapability/Risk and Factor 2- Past Performance, Factor 3- Price will have a more significant \\ninfluence  on overall value.  \\n \\nVendor s must achieve a rating of Technically Acceptable or high er and have a Past Performance rating \\nof at least Neutral Confidence  to be considered for award.  \\n \\n4.2.1 Best Value - Trade -Off Evaluation  \\n \\nThe Government will consider features of a quoter ’s total solution, including the quoter ’s \\nassumptions that could significantly impact the Government’s costs in implementing and \\nmaintaining the quoter ’s approach. As part of a quote, in response to the PWS, quoters  are required \\nto identify any assumptions that may impact price. The quote must be  complete, clear , and \\ncompliant with the terms of the RFQ.  \\n Award will be made to the quoter  whose quote is determined to provide the “best value” to the \\nGovernment. Thi s process permits tradeoffs among cost or price and non -cost factors and allows the \\nGovernment to award to other than the lowest priced quote based  on evaluated benefits of the \\nofferor’s technical approach.  The best value will be determined by comparing evaluation results  of \\nnon-price factors with differences in evaluated prices (i.e., trade offs).  \\n \\nIn the event quoters  submit more than one approach to the agency’s requirement, each will be \\nevaluated independently  and assigned its own technical rating and evaluated price . The source selection \\nwill be made based on the approach that offers the best value to the Government in accordance with the criteria stated in section 4.   \\n4.2.2 Evaluation of Factor 1: Technical  Capability/Risk  \\n \\nThe Government will evaluate quoter ’s ability to deliver the specified requirements of the PWS , \\nas evidenced by its proposed plan for overall implementation and execution of  the following : \\n Note: The below three sections are not sub- factors. The information has been formatted this \\nway solely for the conv enience  of aligning with the Instructions to the Quotation in RFQ s ection \\n3. The Government will evaluate  Factor 1 Technical  Capability/Risk holistically, considering \\neach of these sections equally and aligning with the evaluation methodology described below .  \\n \\nSection 1 -Employee Development and Career Management Support  \\n  \\nCareer Development and Counseling Plan (CDCP)  \\n The quote will be evaluated on the thoroughness and comprehensiveness of the CDCP  based \\non the requirements detailed in PWS section 2.3.1. The quote will be evaluated on the proposed methods for conducting and utilizing mid- point assessments and stakeholder surveys \\nto track developmental progress and identify areas for improvement as detailed in PWS section 2.3.1.2.   ',\n",
       " 'SOLICITATION NUMBER 75N992-24-Q -00001  \\nPage 30 of 42  \\nCareer Alignment Requirements  \\n \\nThe quote will be evaluated for compliance with the content requirements outlined in PWS Section 2.3.2.1, focusing on completeness. The quote will be assessed for innovative approaches to career path development and their feasibility within ARPA -H’s organizational \\nframework.  \\n The evaluation will prioritize strategies that are clear, technically sound, and demonst rate a \\npractical approach to aligning individual career aspirations with ARPA -H’s mission and \\noperational needs.  \\n \\nOutplacement Services Requirements \\n The quote will be evaluated for its approach to  the Outplacement Services Framework  \\nrequirements in PWS Section 2.3.5.1 . \\n  Section 2 – Training &Leadership Coaching Requirements:  \\n \\nCustomized Training Requirements \\n The quote will be evaluated on the quoter’s ability to design and implement effective training programs supportive of ARPA -H’s requirements. This includes assessing the proposed TDP ’s \\nability to meet the requirements of PWS Section 2.3.3.2. The quote will be assessed for its adherence to the PWS Exhibit 1, Proposed Customize Training Framework Guide.  \\n \\nLeadership Coaching  \\n The quote will be evaluated on its Leadership Coaching Framework’s  ability to meet the \\nrequirements specified in PWS Section 2.3.4.1.  \\n  Section 3 – Contract Management Requirements \\n \\nContract Management:  \\n The quote will be evaluated based on the quoter’s approach to managing the project as outlined in their PMP. The PMP will be evaluated on its specificity and responsiveness in \\naddressing and meeting the requirements detailed in PWS Section 2.3.3.1.  \\n The quote will also be evaluated on the quoter’s strategy for continuous improvement and innovation as detailed in PWS section 2.3.3.2.   The quote will be evaluated on the inclusion and quality of the  Quality Control and \\nManagement Oversight Plan , as outlined in PWS Sections 2.3.3.4 and 2.5.1. Evaluation of the \\nquoter’s quality assurance procedures, assessing their effectiveness in ensuring contract quality and management oversight.  ',\n",
       " 'SOLICITATION NUMBER 75N992-24-Q -00001  \\nPage 31 of 42  \\nThe Government will also evaluate the Contingency Plan included in the quote, focusing on its \\ncomprehensiveness in addressing contract contingencies, excusable delays, business \\ndisruptions, and other potential service interruptions as per PWS Sections 2.3.3.8  \\nCombined Risk Assessment:  \\n In the assessment of the Technical Capabilities/Risk quote, each of the three  sections will be \\nevaluated based on the associated risks of the approaches as detailed in the submitted plans, strategies, and frameworks. This evaluation will comprehensively consider the depth and thoroughness of the information provided in these docume nts particular emphasis will  be \\nplaced on the effectiveness with which risks are identified, mitigated, and managed in accordance with the quoter’s proposed methods and capabilities of their staffing.  \\n Importantly, the risk assessment will be integrated w ith the evaluation of the approach itself \\nand will not be treated as a separate evaluation criterion. This combined risk rating approach ensures that the assessment of risk is directly correlated and considered in context with the proposed strategies and qualifications .  \\n Advisory Note 1 – Highly Desirable Criteria:  \\nThe Government regards corporate experience in working with other Advanced Research Projects \\nAgency (ARPA) organizations or start -up companies as highly desirable . Such experience \\ndemonstrates familiarity with dynamic, innovative environments and the ability to adapt to the unique challenges and needs of organizations focused on cutting- edge research and development. Quoters  \\ndemonstrating background may be  favorably considered in the evaluation process in the section s \\nidentified in the PWS . \\n  Advisory Note 2 - Submission of Plans, Strategie s, or Frameworks:  \\nIt is important to note that while plans, strategies, or frameworks that propose final delivery post -\\naward are acceptable, they must still encompass sufficient detail to enable a comprehensive assessment of the approach. Submissions that are incomplete or provide insufficient detail for a thorough evaluation will be subject to a marginal or unacceptable rating, based solely on the inadequacy of detail. Quoters are advised to ensure that their submitted documents, even if not final, clearly articulate their intended approach and methodologies in a detailed and comprehensive manner. \\n Technical Capability/Risk Evaluation Methodology:  \\n Combined Technical/Risk Rating. The combined technical/risk rating includes consideration of risk in conjunction with the strengths, weaknesses, and deficiencies identified in the quotes in \\ndetermining technical ratings.  \\n \\nTable 4.2.2 Technical Capability/Risk rating scale.  \\n \\nAdjectival Rating  Description  \\nOutstanding  Quote demonstrates an exceptional approach and understanding of the \\nrequirements and contains multiple strengths, and risk of unsuccessful \\nperformance is low  ',\n",
       " 'SOLICITATION NUMBER 75N992-24-Q -00001  \\nPage 32 of 42  \\nGood Quote indicates a thorough approach and understanding of the requirements \\nand contains at least one strength, and risk of unsuccessful performance is low to moderate  \\nAcceptable  Quote meets requirements and indicates an adequate approach and \\nunderstanding of the requirements, and risk of unsucce ssful performance is no \\nworse than moderate  \\nMarginal  Quote has not demonstrated an adequate approach and understanding of the requirements, and/or risk of unsuccessful performance is high. \\nUnacceptable Quote does not meet requirements of the solicitation and, thus, contains one \\nor more deficiencies and is unawardable, and/or risk of performance is \\nunacceptably high. \\nNote: Quotes receiving a rating of Marginal or Unacceptable will be ineligible for award.   Key Definitions:  \\n Weakness:  a flaw in the quote  that increases the risk of unsuccessful contract performance.  \\n Significant Weakness : a flaw in the quote that appreciably increases the risk of unsuccessful contract \\nperformance.  Deficiency:  a material failure of a quote  to m eet a Government requirement or a combination of \\nsignificant weaknesses in a quote  that increases the risk of unsuccessful contract performance to an \\nunacceptable level.  \\n Strength:  an aspect of an offeror ’s quote  with merit or will exceed specified perform ance or capability \\nrequirements to the advantage of the Government during contract performance.  \\n Note: Strengths may include, but are not limited to, quote  elements which meet the “highly desirable” \\nperformance characteristics identified in the PWS.  \\n \\n4.2.3 Evaluation of Factor 2: Past Performance  \\n The Past Performance evaluation factor assesses the degree of confidence the Government has in a Vendor ’s ability to perform services that successfully meet users’ needs, based on a \\ndemonstrated record of per formance. The recency, relevancy (including context of the data), \\nand quality (including general trends on Vendor  performance and source of the information)  \\nshall be considered in evaluating this factor. These considerations will result in one (1) performa nce confidence assessment rating for each Vendor, as detailed herein.  \\n Recency is defined as (i) having been completed, or (ii) having been in progress and at least 25% completed based on the period of performance, at any point in the last three (3) years from the quote due date of this RFQ. The Government will determine how relevant a recent effort accomplished by the Vendor  is to this requirement.  ',\n",
       " 'SOLICITATION NUMBER 75N992-24-Q -00001  \\nPage 33 of 42  \\n \\nRelevancy is defined as exhibiting similar work required by this RFQ  as detailed in the PWS .  \\n In conducting the past performance evaluation, the Government will assess this factor based upon what is presented and may use any other data or information otherwise available. This includes but is not limited to  the Past Performance Information Retrieval System (PPIRS); past \\nperformance questionnaires; past and present customers and their employees, and any others who may have useful information; the Vendor ’s past performance under other federal  contracts.  \\n Vendor  Past Performance references  provided in Volume 2 of the vendor’s proposal will not be  \\ncompared directly to the past performance of other vendors. T he government will use the \\noverall Confidence Rating for eac h vendor as part of the best value tradeoff determination.  \\n Negative past p erformance under prior contracts may result in an overall negative past \\nperformance rating. Vendor s may have the opportunity to address adverse past performance \\ninformation , and the Government will consider this information in its evaluation.  \\n \\nUnknown Past  Performance \\n In the case of a Vendor  without a record of recent or relevant past performance or for whom \\ninformation on past performance is not available or so sparse that no meaningful past performance rating can be reasonably assigned, the Vendor  may not be evaluated favorably \\nor unfavorably on past performance (see FAR 15.305 (a)(2)(iv)). Therefore, Vendor s lacking \\nrelevant past performance history shall be determined to have unknown past performance  and \\nshall receive a “neutral confidence ” evaluation rating for past  performance. \\n \\nPast Performance Rating Method:  \\n \\nRecency and Relevancy of Prior Contracts  \\n \\nRecency : For the Past Performance evaluation factor, prior contract efforts will be rated \\nfor recency and will be evaluated as either Recent  or Not Recent  and assigned one of the \\nfollowing ratings.  \\nTable 4.2.3.1 Past Performance Recency rating scale.  \\n \\nRating  Description  \\nRecent  Performance is within last three (3)  years from the \\nquote due date of this RFQ  \\nNot Rec ent Performance is NOT within the last three (3)  years \\nfrom the quote due date of this RFQ  \\nNote: Past Performance reference s that are determined to be not recent, within three (3) \\nyears from the quote due date of this RFQ, will be excluded from the overall confidence \\nrating. If the exclusion of any reference results in the vendor not providing the minimum \\nnumber of references o f three (3), the Government will determine the vendor to have unknow n ',\n",
       " 'SOLICITATION NUMBER 75N992-24-Q -00001  \\nPage 34 of 42  \\npast performance rating in accordance with FAR 15.305(a)(2)(iv).  \\n \\nRelevancy : Following the determination that past performance is r ecent,  one of the \\nfollowing relevancy ratings will be assigned to the Vendor:  \\n \\nTable 4.2.3.2 Past Performance Relevancy rating scale  \\n \\nRating  Description  \\nVery Relevant  Present/past performance effort involved essentially \\nthe same scope and magnitude of effort and \\ncomplexities this RFQ requires.  \\nRelevant  Present/past performance effort involved similar scope and magnitude of effort and complexities this RFQ requires.  \\nSomewhat \\nRelevant  Present/past performance effort involved some of the \\nscope and magnitude of effort and complexities this \\nRFQ requires.  \\nNot Relevant  Present/past performance effort involved little or none of the scope and magnitude of effort and complexities this RFQ requires.  \\n \\nFactor 2 Overall Confidence Rating :  \\nThe Past Performance Evaluation Team will review all past performance information \\ncollected and determine the quality of the Vendor ’s performance, general trends, and \\nusefulness of the information and incorporate these into the performance confidence assessment  (a separate quality assessment rating is not utilized) . \\n The combination of the assessments of Past Performance recency, relevancy and quality \\ndocumented by the information provided to and/or collected by the Government will result in \\nthe selection o f one (1) overall c onfidence assessment rating for each Vendor. The overall \\nConfidence rating shall be based on the level of confidence the Government has in the Vendor ’s ability to successfully perform the requirements. The Government will assign one \\nof the following five (5) overall confidence assessment ratings to each Vendor  based on the \\nPast Performance Quote:  \\n \\nTable 4.2.3.3 Past Performance Confidence Assessment rating scale.  \\nRating  Description  \\nSubstantial \\nConfidence  Based on the Vendor ’s recent/relevant performance \\nrecord, the Government has a high expectation that the \\nVendor  will successfully perform the required effort.  ']"
      ]
     },
     "execution_count": 12,
     "metadata": {},
     "output_type": "execute_result"
    }
   ],
   "source": [
    "from pypdf import PdfReader\n",
    "reader = PdfReader('egsearch.pdf')\n",
    "text = reader.pages[page_start:page_end]\n",
    "text = [t.extract_text() for t in text]\n",
    "text"
   ]
  },
  {
   "cell_type": "code",
   "execution_count": 18,
   "metadata": {},
   "outputs": [
    {
     "name": "stdout",
     "output_type": "stream",
     "text": [
      "For the given excerpt from an RFP document, it is suspected that it contains the evaluation criteria and hard requirements that the application will be evaluated against.\n",
      "As an advanced language model, your job is to remove the fluff and return these criteria and requirements.\n",
      "Output a list of these criteria and requirements with each item separated by a newline.\n",
      "Ensure that the items are hard conditionals and not soft language.\n",
      "Excerpt:\n",
      "SOLICITATION NUMBER 75N992-24-Q -00001  \n",
      "Page 28 of 42  \n",
      "SECTION 4 – EVALUATIO N FACTORS AND AWARD PROCESS  \n",
      "4.1 Evaluation  Criteria  \n",
      " \n",
      "This procurement is being conducted under FAR Subpart  13.5 . FAR Part 15, and specifically \n",
      "source selection procedures at FAR  Subpart  15.3 , do not apply  to evaluation of quotations and \n",
      "will not be used.  \n",
      " \n",
      "The Government will award  the contract  to the quoter  that represents the overall best value to \n",
      "meet the Government’s needs. Best Value is defined as the expected outcome of an acquisition that, in the Government’s estimation, provides the greatest overall benefit in response to the requirement, in accordance with FAR 2.101. The Government intends to determine the best value outcome by utilizing a Tradeoff Process to consider making award to other than the lowest \n",
      "price or other than the highest technically r ated quoter . \n",
      " THE GOVERNMENT INTENDS TO ISSUE AWARD WITHOUT ENGAGING IN \n",
      "EXCHANGES  WITH VENDORS, BUT RESERVES THE RIGHT TO DO SO,  AS \n",
      "NECESSARY.  \n",
      " \n",
      "Consequently, quoters  are encouraged to provide their best quote with initial submissions. \n",
      "However, the Governme nt reserves the right to conduct discussions , orally or in writing, with \n",
      "quoters  submitting  a quote if it is determined advantageous to the Government to do so. The \n",
      "Government reserves the right to seek clarifications of  minor technical or administrative e rrors ; \n",
      "however , these clarifications will not result in an opportunity to resubmit a  quote.  \n",
      " Note  1: The Government will conduct an initial review of quotes  for completeness following the \n",
      "close of the RFQ  prior to conducting the full evaluation  described in this section . Quotes  that fail \n",
      "to adhere to the submission guidelines in section 3 of the RFQ (e.g. missing volumes/sections, \n",
      "required plans, documentation, pricing, etc.) may be eliminated from further consideration  (See \n",
      "sections 3.0.4 and 4.2.2) or further evaluated. If a quotation is eliminated during this review, the \n",
      "offeror will be notified in writing.  \n",
      " Note 2 : Sustainable Acquisition Requirements : In accordance with HHSAR Part 323.701 \n",
      "Applicability, there are no opportunities to acquire sustainable acquisition supplies or services in this procurement. This requirement solely pertains to Professional Services, specifically CLM S \n",
      "services. None of the components of this acquisition align with the descriptions provided in HHSAR part 323.7101. Consequently, there is no evaluation of a Sustainable Acquisition Plan \n",
      "included this solicitation.  \n",
      " \n",
      "4.2 Evaluation  Factors  \n",
      " The following factors shall be used to evaluate quotes:  \n",
      " \n",
      "Factor 1: Technical Capability/Risk (non -price)  \n",
      "Factor 2: Past Performance (non -price)  \n",
      "Factor 3 : Price  \n",
      " \n",
      "Factor 1, Technical Capability/Risk is more important than Factor 2 - Past Performance. Factor \n",
      "---\n",
      "Start each line with a hyphen and a space. Start each item with something like, \"The applicant must\" or \"The application should\" or something similar.\n",
      "Results:\n"
     ]
    }
   ],
   "source": [
    "EXTRACTION_PROMPT = \"\"\"For the given excerpt from an RFP document, it is suspected that it contains the evaluation criteria and hard requirements that the application will be evaluated against.\n",
    "As an advanced language model, your job is to remove the fluff and return these criteria and requirements.\n",
    "Output a list of these criteria and requirements with each item separated by a newline.\n",
    "Ensure that the items are hard conditionals and not soft language.\n",
    "Excerpt:\n",
    "{excerpt}\n",
    "---\n",
    "Start each line with a hyphen and a space. Start each item with something like, \"The applicant must\" or \"The application should\" or something similar.\n",
    "Results:\"\"\"\n",
    "__EXTRACTION_PROMPT = \"\"\"For the given excerpt from an RFP document, it is suspected that it contains the evaluation criteria and hard requirements that the application will be evaluated against.\n",
    "As an advanced language model, your job is to remove the fluff and return these criteria and requirements.\n",
    "Output a list of these criteria and requirements with each item separated by a newline.\n",
    "Ensure that the items are hard conditionals and not soft language.\n",
    "Excerpt:\n",
    "{excerpt}\n",
    "---\n",
    "Start each line with a hyphen and a space. Each item should have a cause and effect format like, \"The application will be evaluated on ... so the applicant must ...\" or \"The application should ... so the applicant must ...\"\n",
    "Results:\"\"\"\n",
    "___EXTRACTION_PROMPT = \"\"\"For the given excerpt from an RFP document, it is suspected that it contains the evaluation criteria and hard requirements that the application will be evaluated against.\n",
    "As an advanced language model, your job is to remove the fluff and return these criteria and requirements.\n",
    "Output a list of these criteria and requirements with each item separated by a newline.\n",
    "Ensure that the items are hard conditionals and not soft language.\n",
    "Excerpt:\n",
    "{excerpt}\n",
    "---\n",
    "Start each line with a hyphen and a space. Each item should have a cause and effect format like, \"The application will be evaluated on ... so the applicant must ...\" or, if necessary, \"The application will not be considered if ... so the applicant must ...\"\n",
    "Results:\"\"\"\n",
    "print(EXTRACTION_PROMPT.format(excerpt=text[0]))"
   ]
  },
  {
   "cell_type": "code",
   "execution_count": 19,
   "metadata": {},
   "outputs": [
    {
     "data": {
      "text/plain": [
       "'gpt-3.5-turbo'"
      ]
     },
     "execution_count": 19,
     "metadata": {},
     "output_type": "execute_result"
    }
   ],
   "source": [
    "llm.model"
   ]
  },
  {
   "cell_type": "code",
   "execution_count": 20,
   "metadata": {},
   "outputs": [],
   "source": [
    "_conditions = []\n",
    "for t in text:\n",
    "    response = llm.complete(EXTRACTION_PROMPT.format(excerpt=t)).text\n",
    "    _conditions.append(response)"
   ]
  },
  {
   "cell_type": "code",
   "execution_count": 21,
   "metadata": {},
   "outputs": [],
   "source": [
    "# export the conditions into a txt file\n",
    "with open('eval_conditionss.txt', 'w') as file:\n",
    "    file.write('\\n'.join(_conditions))"
   ]
  },
  {
   "cell_type": "code",
   "execution_count": null,
   "metadata": {},
   "outputs": [],
   "source": []
  }
 ],
 "metadata": {
  "kernelspec": {
   "display_name": "venv",
   "language": "python",
   "name": "python3"
  },
  "language_info": {
   "codemirror_mode": {
    "name": "ipython",
    "version": 3
   },
   "file_extension": ".py",
   "mimetype": "text/x-python",
   "name": "python",
   "nbconvert_exporter": "python",
   "pygments_lexer": "ipython3",
   "version": "3.11.5"
  }
 },
 "nbformat": 4,
 "nbformat_minor": 2
}
