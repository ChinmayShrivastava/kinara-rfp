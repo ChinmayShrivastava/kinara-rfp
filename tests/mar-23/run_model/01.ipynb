{
 "cells": [
  {
   "cell_type": "markdown",
   "metadata": {},
   "source": [
    "# RFP Extraction"
   ]
  },
  {
   "cell_type": "code",
   "execution_count": 1,
   "metadata": {},
   "outputs": [
    {
     "name": "stderr",
     "output_type": "stream",
     "text": [
      "Initialized PDFAnnotator with egsearch.pdf\n"
     ]
    }
   ],
   "source": [
    "from rfpextractor.scripts import DocExtraction\n",
    "import time\n",
    "\n",
    "start = time.time()\n",
    "\n",
    "de = DocExtraction(\n",
    "    pdf_path=\"egsearch.pdf\",\n",
    "    verbose=True,\n",
    ")"
   ]
  },
  {
   "cell_type": "code",
   "execution_count": 2,
   "metadata": {},
   "outputs": [],
   "source": [
    "de.annotator.load_contents('egsearch.txt')"
   ]
  },
  {
   "cell_type": "code",
   "execution_count": 4,
   "metadata": {},
   "outputs": [],
   "source": [
    "# de.annotator.save_contents(\"egsearch.txt\")"
   ]
  },
  {
   "cell_type": "code",
   "execution_count": 5,
   "metadata": {},
   "outputs": [
    {
     "data": {
      "text/plain": [
       "64"
      ]
     },
     "execution_count": 5,
     "metadata": {},
     "output_type": "execute_result"
    }
   ],
   "source": [
    "len(de.annotator.contents)"
   ]
  },
  {
   "cell_type": "code",
   "execution_count": 21,
   "metadata": {},
   "outputs": [
    {
     "data": {
      "text/plain": [
       "{'query': 'Important dates',\n",
       " 'start_page': 1,\n",
       " 'end_page': 1,\n",
       " 'texts': ['SEE ADDENDUM IS CHECKEDCODE 18a. P AYMENT WILL BE MADE BY\\nCODE F\\nACILITY CODE \\n17b. CHECK IF REMITTANCE IS DIFFERENT AND PUT SUCH ADDRESS IN OFFER OFFERORARPA-H\\n, MD 208921 Center DriveBG NIHBC 01 Room 228NIH Advanced Research Projects AgCODE 16. ADMINISTERED BY CODE XXX\\n611430\\nSIZE STANDARD: 100.00 % FOR: SE T ASIDE: UNRESTRICTED OR ARPA-H\\nREQUEST FOR \\nPROPOSAL \\n(RFP)INVITATION \\nFOR BID (IFB)10. THIS ACQUISITION IS CODE \\nREQUEST FOR \\nQUOTE (RFQ)14. METHOD OF SOLICITATION13b. RATINGNORTH AMERICAN INDUSTRY \\nCLASSIFICATION STANDARD \\n(NAICS):SMALL BUSINESS\\n04/15/2024 1600 EDT03/21/2024\\n+1 000 000 0000 BRYAN SIMMONS(No collect calls)\\nINFORMATION CALL:FOR SOLICI\\nTATION8. OFFER DUE D ATE/LOCAL TIME b. TELEPHONE  NUMBER a. NAME4. ORDER NUMBER 3. A WARD/ 6. SOLICI TATION 5. SOLICITATION NUMBER\\n75N99224Q00001SOLICITATION/CONTRACT/ORDER FOR COMMERCIA L ITEMS1. REQUISITION NUMBER PAGE     OF\\n1 41 OFFEROR TO COMPLETE BLOCKS 12, 17, 23, 24, & 30\\nTELEPHONE NO.17a. CONTRAC TOR/,15. DELIVER  TO, MD 208921 Center DriveBG NIHBC 01 Room 2289. ISSUED B Y 7.  2. CONTRAC T NO. \\nEFFECTIVE DATE\\n$15\\n18b. SUBMI\\nT INVOICES TO ADDRESS SHOWN IN BLOCK 18a UNLESS BLOCK  BELOWISSUE DATE\\nDELIVERY FOR FREE ON BOARD \\n(FOB) DESTINATION UNLESS \\nBLOCK IS MARKED11. \\nSEE SCHEDULEX12. DISCOUN T TERMS THIS CONTRACT IS A RATED \\nORDER UNDER\\n THE DEFENSE \\nPRIORITIES AND ALLOCATIONS \\nSYSTEM - DPAS (15 CFR 700)13a. SERVICE-DISABLED\\nVETERAN-OWNED\\nSMALL BUSINESS \\n(SDVOSB)HUBZONE SMALL \\nBUSINESS\\n8(A)NIH Advanced Research Projects AgWOMEN-OWNED SMALL\\nBUSINESS (WOSB)\\nECONOMICAL\\nLY DISADVANTAGED \\nWOMEN-OWNED SMALL \\nBUSINESS (EDWOSB)\\n24.\\nAMOUNT23.\\nUNI\\nT PRICE22.\\nUNIT21. \\nQUANTITY20.\\nSCHEDULE OF SUPPLIES/SERVICES19.\\nITEM NO.\\nPeriod of Performance: 07/01/2024 to 06/30/2029\\n1001    Task 1, 2, and 6 (Combined): This combined price 12 EA\\nshould encompass all costs associated with\\nEmployee Development, Career Alignment, and\\nProgram and Contract Management, including\\npersonnel costs, materials, overhead, and any\\nother direct and indirect costs. Please note that\\nthis price will be billed monthly.\\nProduct/Service Code:  R431\\nContinued ...\\n(Use Reverse and/or Attach Additional Sheets as Necessary)\\nHEREIN, IS  ACCEPTED AS TO ITEMS: XX X\\nD\\nATED\\nSTAS L. BLAUSHILD.  YOUR OFFER ON SOLICITATION (BLOCK 5), \\nINCLUDING ANY ADDITIONS OR  CHANGES WHICH ARE SET FORTH  1\\nCOPIES TO ISSUING OFFICE.  CONTRACTOR AGREES TO FURNISH AND DELIVERAREARE\\n31c. DATE SIGNED27b. CONTRACT/PURCHASE ORDER INCORPORATES BY REFERENCE FAR 52.212-4. FAR 52.212-5 IS ATTACHED.           ADDENDA\\n31a. UNITED STATES OF AMERICA (SIGNATURE OF CONTRACTING OFFICER) \\n30c. D ATE SIGNED 31b. NAME OF CONTRACTING OFFICER (T ype or print)ALL ITEMS SET FORTH OR OTHERWISE IDENTIFIED ABOVE AND ON ANY ADDITIONAL \\nSHEETS SUBJECT TO THE TERMS AND CONDITIONS SPECIFIED.27a. SOLICITATION INCORPORATES BY REFERENCE (FEDERAL ACQUISITION REGULATION) FAR 52.212-1, 52.212-4.  FAR 52.212-3 \\nAND 52.212-5 ARE ATTACHED.     ADDENDA26. TOTAL AWARD AMOUNT (For Government Use Only)\\nOFFER \\nSTANDARD FORM 1449 (REV. 11/2021)\\nPrescribed by GSA - FAR (48 CFR) 53.212ARE NOT ATTACHED.\\nARE NOT ATTACHED.\\nAUTHORIZED FOR LOCAL REPRODUCTION\\nPREVIOUS EDITION IS NO\\nT USABLE 30b. NAME AND TITLE OF SIGNER (Type or print)30a. SIGN ATURE OF OFFEROR/CONTRACTOR28. CONTRAC TOR IS REQUIRED TO SIGN THIS DOCUMENT AND RETURN 25. ACCOUNTING  AND APPROPRIATION DATA\\n29. AWARD OF CONTRACT: REFERENCE']}"
      ]
     },
     "execution_count": 21,
     "metadata": {},
     "output_type": "execute_result"
    }
   ],
   "source": [
    "de.annotator.get_relevant_pages(\"Important dates\")"
   ]
  },
  {
   "cell_type": "code",
   "execution_count": 7,
   "metadata": {},
   "outputs": [],
   "source": [
    "de.rfp_info()"
   ]
  },
  {
   "cell_type": "code",
   "execution_count": 8,
   "metadata": {},
   "outputs": [],
   "source": [
    "from IPython.display import display, Markdown"
   ]
  },
  {
   "cell_type": "code",
   "execution_count": 9,
   "metadata": {},
   "outputs": [
    {
     "data": {
      "text/markdown": [
       "title: Request for Quotation\n",
       "issuing_organization: Advanced Research Projects Agency for Health (ARPA-H)\n",
       "unique_id: 75N992-24-Q-00001\n",
       "url: Not found"
      ],
      "text/plain": [
       "<IPython.core.display.Markdown object>"
      ]
     },
     "metadata": {},
     "output_type": "display_data"
    }
   ],
   "source": [
    "display(Markdown(de.state_manager.get_current_state().metadata['rfp_info'][0]))"
   ]
  },
  {
   "cell_type": "code",
   "execution_count": 10,
   "metadata": {},
   "outputs": [],
   "source": [
    "de.important_dates()"
   ]
  },
  {
   "cell_type": "code",
   "execution_count": 11,
   "metadata": {},
   "outputs": [
    {
     "data": {
      "text/markdown": [
       "Based on the text provided, the extracted dates are as follows:\n",
       "\n",
       "- Method of Solicitation: 04/15/2024\n",
       "- Offer Due Date/Local Time: 03/21/2024\n",
       "- Period of Performance: 07/01/2024 to 06/30/2029"
      ],
      "text/plain": [
       "<IPython.core.display.Markdown object>"
      ]
     },
     "metadata": {},
     "output_type": "display_data"
    }
   ],
   "source": [
    "for i in de.state_manager.get_current_state().metadata['important_dates']:\n",
    "    display(Markdown(i))"
   ]
  },
  {
   "cell_type": "code",
   "execution_count": 12,
   "metadata": {},
   "outputs": [],
   "source": [
    "de.eligibility()"
   ]
  },
  {
   "cell_type": "code",
   "execution_count": 13,
   "metadata": {},
   "outputs": [
    {
     "data": {
      "text/markdown": [
       "1: The applicant must demonstrate technical capability and manage risk effectively. \n",
       "2: The applicant must have a strong past performance record. \n",
       "3: The applicant must provide a competitive price."
      ],
      "text/plain": [
       "<IPython.core.display.Markdown object>"
      ]
     },
     "metadata": {},
     "output_type": "display_data"
    },
    {
     "data": {
      "text/markdown": [
       "- The applicant must achieve a rating of Technically Acceptable or higher \n",
       "- The applicant must have a Past Performance rating of at least Neutral Confidence \n",
       "- The quote must be complete, clear, and compliant with the terms of the RFQ \n",
       "- The applicant must identify any assumptions that may impact price \n",
       "- The applicant must have a proposed plan for overall implementation and execution \n",
       "- The applicant must have a Career Development and Counseling Plan (CDCP) \n",
       "- The applicant must propose methods for conducting and utilizing mid-point assessments and stakeholder surveys \n",
       "- The applicant must offer the best value to the Government in accordance with the criteria stated in section 4."
      ],
      "text/plain": [
       "<IPython.core.display.Markdown object>"
      ]
     },
     "metadata": {},
     "output_type": "display_data"
    },
    {
     "data": {
      "text/markdown": [
       "- The applicant must be able to align individual career aspirations with ARPA-H's mission and operational needs\n",
       "- The applicant must have an approach to Outplacement Services Framework requirements\n",
       "- The applicant must be able to design and implement effective training programs supportive of ARPA-H's requirements\n",
       "- The applicant must adhere to the Proposed Customize Training Framework Guide\n",
       "- The applicant must have a Leadership Coaching Framework that meets the requirements specified\n",
       "- The applicant must have a project management approach outlined in their PMP that meets the requirements detailed\n",
       "- The applicant must have a strategy for continuous improvement and innovation\n",
       "- The applicant must have a Quality Control and Management Oversight Plan\n",
       "- The applicant must have quality assurance procedures in place for contract quality and management oversight"
      ],
      "text/plain": [
       "<IPython.core.display.Markdown object>"
      ]
     },
     "metadata": {},
     "output_type": "display_data"
    },
    {
     "data": {
      "text/markdown": [
       "- The applicant must be able to demonstrate an exceptional approach and understanding of the requirements\n",
       "- The applicant must have corporate experience in working with other Advanced Research Projects Agency (ARPA) organizations or start-up companies\n",
       "- The applicant must have the ability to adapt to dynamic, innovative environments\n",
       "- The applicant must be able to identify, mitigate, and manage risks effectively\n",
       "- The applicant's plans, strategies, or frameworks must encompass sufficient detail for comprehensive assessment\n",
       "- The applicant's submissions must clearly articulate their intended approach and methodologies in a detailed and comprehensive manner."
      ],
      "text/plain": [
       "<IPython.core.display.Markdown object>"
      ]
     },
     "metadata": {},
     "output_type": "display_data"
    },
    {
     "data": {
      "text/markdown": [
       "- The applicant must be able to demonstrate a thorough approach and understanding of the requirements\n",
       "- The applicant must have at least one strength in their quote\n",
       "- The risk of unsuccessful performance must be low to moderate\n",
       "- The applicant's quote must meet requirements and indicate an adequate approach and understanding of the requirements\n",
       "- The risk of unsuccessful performance must be no worse than moderate\n",
       "- The applicant's quote must not demonstrate a high risk of unsuccessful performance\n",
       "- The applicant's quote must not have any deficiencies\n",
       "- The risk of performance must be at an acceptable level\n",
       "- The applicant must not receive a rating of Marginal or Unacceptable\n",
       "- The applicant's past performance must demonstrate a record of successful performance\n",
       "- The past performance must be recent, relevant, and of high quality\n",
       "- The past performance must have been completed in the last three years from the quote due date"
      ],
      "text/plain": [
       "<IPython.core.display.Markdown object>"
      ]
     },
     "metadata": {},
     "output_type": "display_data"
    },
    {
     "data": {
      "text/markdown": [
       "- The applicant must be able to exhibit similar work required by this RFQ as detailed in the PWS\n",
       "- The applicant must have a record of recent or relevant past performance\n",
       "- The applicant must provide at least three past performance references\n",
       "- Negative past performance under prior contracts may result in an overall negative past performance rating\n",
       "- The applicant may have the opportunity to address adverse past performance information\n",
       "- If the applicant lacks relevant past performance history, they shall be determined to have unknown past performance and receive a \"neutral confidence\" evaluation rating for past performance\n",
       "- Past performance will be rated for recency, with performance within the last three years being considered recent and anything beyond that being considered not recent\n",
       "- Past performance references that are not recent will be excluded from the overall confidence rating"
      ],
      "text/plain": [
       "<IPython.core.display.Markdown object>"
      ]
     },
     "metadata": {},
     "output_type": "display_data"
    },
    {
     "data": {
      "text/markdown": [
       "- The applicant must have a past performance rating in accordance with FAR 15.305(a)(2)(iv)\n",
       "- The applicant must have a relevancy rating of Very Relevant, Relevant, Somewhat Relevant, or Not Relevant\n",
       "- The applicant must have an overall confidence rating of Substantial Confidence"
      ],
      "text/plain": [
       "<IPython.core.display.Markdown object>"
      ]
     },
     "metadata": {},
     "output_type": "display_data"
    },
    {
     "data": {
      "text/markdown": [
       "- The applicant must have a satisfactory confidence based on recent/relevant performance record\n",
       "- The applicant must not have a rating of less than Neutral Confidence\n",
       "- The applicant must have a limited confidence based on recent/relevant performance record\n",
       "- The applicant must not have a no confidence rating\n",
       "- The applicant's price quote must be fair and reasonable according to FAR 13.106-3 Award and Documentation"
      ],
      "text/plain": [
       "<IPython.core.display.Markdown object>"
      ]
     },
     "metadata": {},
     "output_type": "display_data"
    }
   ],
   "source": [
    "for i in de.state_manager.get_current_state().metadata['eligibility']:\n",
    "    display(Markdown(i))"
   ]
  },
  {
   "cell_type": "code",
   "execution_count": 14,
   "metadata": {},
   "outputs": [],
   "source": [
    "de.submission()"
   ]
  },
  {
   "cell_type": "code",
   "execution_count": 15,
   "metadata": {},
   "outputs": [
    {
     "data": {
      "text/markdown": [
       "- The applicant must submit a quote in response to this RFQ.\n",
       "- The applicant must address correspondence to the listed POCs.\n",
       "- The applicant shall not use, disclose, or reproduce PII obtained in preparation of its response to the RFQ without authorization.\n",
       "- The applicant must maintain strict confidentiality of sensitive information related to the RFQ and any subsequently awarded contract.\n",
       "- The applicant must provide information only to authorized employees and subcontractors who need to know such information.\n",
       "- Information made available by the Government for the performance of the contract shall only be used for those purposes."
      ],
      "text/plain": [
       "<IPython.core.display.Markdown object>"
      ]
     },
     "metadata": {},
     "output_type": "display_data"
    },
    {
     "data": {
      "text/markdown": [
       "- The applicant must submit their quotes electronically via email to Acquisitions@ARPA-H.GOV."
      ],
      "text/plain": [
       "<IPython.core.display.Markdown object>"
      ]
     },
     "metadata": {},
     "output_type": "display_data"
    }
   ],
   "source": [
    "for i in de.state_manager.get_current_state().metadata['submission']:\n",
    "    display(Markdown(i))"
   ]
  },
  {
   "cell_type": "code",
   "execution_count": 16,
   "metadata": {},
   "outputs": [],
   "source": [
    "de.evaluation()"
   ]
  },
  {
   "cell_type": "code",
   "execution_count": 17,
   "metadata": {},
   "outputs": [
    {
     "data": {
      "text/markdown": [
       "1 will be evaluated based on the quoter's ability to meet the technical requirements and associated risks of the project. Factor 2 will be evaluated based on the quoter's past performance on similar projects. Factor 3 will be evaluated based on the price quoted by the quoter."
      ],
      "text/plain": [
       "<IPython.core.display.Markdown object>"
      ]
     },
     "metadata": {},
     "output_type": "display_data"
    },
    {
     "data": {
      "text/markdown": [
       "Evaluation Criteria:\n",
       "1. Technical Capability/Risk\n",
       "2. Past Performance\n",
       "3. Price\n",
       "4. Best Value - Trade-Off Evaluation\n",
       "\n",
       "Rubric:\n",
       "- Vendors must achieve a rating of Technically Acceptable or higher and have a Past Performance rating of at least Neutral Confidence to be considered for award.\n",
       "- The quote must be complete, clear, and compliant with the terms of the RFQ.\n",
       "- Award will be made to the quoter whose quote is determined to provide the \"best value\" to the Government.\n",
       "- Evaluation of Factor 1: Technical Capability/Risk will consider Employee Development and Career Management Support, including the Career Development and Counseling Plan (CDCP).\n",
       "- The quote will be evaluated on the thoroughness and comprehensiveness of the CDCP based on the requirements detailed in PWS section 2.3.1.\n",
       "- The quote will be evaluated on the proposed methods for conducting and utilizing mid-point assessments and stakeholder surveys to track developmental progress and identify areas for improvement as detailed in PWS section 2.3.1.2."
      ],
      "text/plain": [
       "<IPython.core.display.Markdown object>"
      ]
     },
     "metadata": {},
     "output_type": "display_data"
    }
   ],
   "source": [
    "for i in de.state_manager.get_current_state().metadata['evaluation']:\n",
    "    display(Markdown(i))"
   ]
  },
  {
   "cell_type": "code",
   "execution_count": 18,
   "metadata": {},
   "outputs": [],
   "source": [
    "de.compliances()"
   ]
  },
  {
   "cell_type": "code",
   "execution_count": 19,
   "metadata": {},
   "outputs": [
    {
     "data": {
      "text/markdown": [
       "- The applicant is required to adhere to the submission guidelines in section 3 of the RFQ.\n",
       "- The applicant must provide their best quote with initial submissions.\n",
       "- The applicant must participate in the Tradeoff Process for consideration of award.\n",
       "- The applicant shall not have an opportunity to resubmit a quote if clarifications of minor technical or administrative errors are sought.\n",
       "- The applicant must include Technical Capability/Risk, Past Performance, and Price factors in their quote.\n",
       "- The applicant is encouraged to align with Sustainable Acquisition Requirements, if applicable.\n",
       "- The applicant is required to comply with HHSAR Part 323.701 Applicability for sustainable acquisition supplies or services.\n",
       "- The applicant must include all required volumes/sections, plans, documentation, and pricing in their quote."
      ],
      "text/plain": [
       "<IPython.core.display.Markdown object>"
      ]
     },
     "metadata": {},
     "output_type": "display_data"
    },
    {
     "data": {
      "text/markdown": [
       "- Vendors must achieve a rating of Technically Acceptable or higher\n",
       "- Vendors must have a Past Performance rating of at least Neutral Confidence\n",
       "- Quoters are required to identify any assumptions that may impact price\n",
       "- Quotes must be complete, clear, and compliant with the terms of the RFQ\n",
       "- Award will be made to the quoter whose quote provides the \"best value\" to the Government\n",
       "- Quoters must provide a proposed plan for overall implementation and execution\n",
       "- Quotes will be evaluated based on the thoroughness and comprehensiveness of the CDCP\n",
       "- Quotes will be evaluated on the proposed methods for conducting and utilizing mid-point assessments and stakeholder surveys."
      ],
      "text/plain": [
       "<IPython.core.display.Markdown object>"
      ]
     },
     "metadata": {},
     "output_type": "display_data"
    },
    {
     "data": {
      "text/markdown": [
       "- The applicant is required to comply with the content requirements outlined in PWS Section 2.3.2.1\n",
       "- The applicant must demonstrate innovative approaches to career path development within ARPA-H’s organizational framework\n",
       "- The applicant shall prioritize strategies that are clear, technically sound, and practical in aligning individual career aspirations with ARPA-H’s mission and operational needs\n",
       "- The applicant must adhere to the Outplacement Services Framework requirements in PWS Section 2.3.5.1\n",
       "- The applicant is required to design and implement effective training programs supportive of ARPA-H’s requirements\n",
       "- The applicant must meet the requirements of PWS Section 2.3.3.2 and adhere to the Proposed Customize Training Framework Guide in PWS Exhibit 1\n",
       "- The applicant shall meet the Leadership Coaching Framework requirements specified in PWS Section 2.3.4.1\n",
       "- The applicant must approach project management as outlined in their PMP, meeting the requirements detailed in PWS Section 2.3.3.1\n",
       "- The applicant is required to have a strategy for continuous improvement and innovation as detailed in PWS section 2.3.3.2\n",
       "- The applicant must include and maintain the Quality Control and Management Oversight Plan as outlined in PWS Sections 2.3.3.4 and 2.5.1\n",
       "- The applicant shall have effective quality assurance procedures to ensure contract quality and management oversight."
      ],
      "text/plain": [
       "<IPython.core.display.Markdown object>"
      ]
     },
     "metadata": {},
     "output_type": "display_data"
    },
    {
     "data": {
      "text/markdown": [
       "- The applicant is required to address contract contingencies, excusable delays, business disruptions, and other potential service interruptions as per PWS Sections 2.3.3.8\n",
       "- The applicant must provide comprehensive information on risks, including identification, mitigation, and management in accordance with proposed methods and staffing capabilities\n",
       "- Corporate experience working with other Advanced Research Projects Agency (ARPA) organizations or start-up companies is highly desirable\n",
       "- Plans, strategies, or frameworks must encompass sufficient detail to enable a comprehensive assessment of the approach\n",
       "- Submissions that are incomplete or provide insufficient detail for a thorough evaluation will be subject to a marginal or unacceptable rating\n",
       "- The combined technical/risk rating includes consideration of risk in conjunction with strengths, weaknesses, and deficiencies identified in the quotes in determining technical ratings."
      ],
      "text/plain": [
       "<IPython.core.display.Markdown object>"
      ]
     },
     "metadata": {},
     "output_type": "display_data"
    },
    {
     "data": {
      "text/markdown": [
       "- The applicant is required to indicate a thorough approach and understanding of the requirements\n",
       "- The applicant must meet requirements and indicate an adequate approach and understanding of the requirements\n",
       "- The applicant is required to demonstrate an adequate approach and understanding of the requirements\n",
       "- The applicant must meet the \"highly desirable\" performance characteristics identified in the PWS\n",
       "- The applicant shall consider recency, relevancy, and quality in evaluating past performance\n",
       "- The applicant must have a demonstrated record of performance\n",
       "- The applicant is required to have a performance confidence assessment rating\n",
       "- The applicant shall have completed a recent effort within the last three years from the quote due date\n",
       "- The applicant must have a low to moderate risk of unsuccessful performance\n",
       "- The applicant is required to have a risk of unsuccessful performance no worse than moderate"
      ],
      "text/plain": [
       "<IPython.core.display.Markdown object>"
      ]
     },
     "metadata": {},
     "output_type": "display_data"
    },
    {
     "data": {
      "text/markdown": [
       "- The applicant is required to exhibit similar work required by this RFQ as detailed in the PWS.\n",
       "- The applicant must provide Vendor Past Performance references in Volume 2 of the vendor's proposal.\n",
       "- The applicant may have the opportunity to address adverse past performance information.\n",
       "- Vendors lacking relevant past performance history shall be determined to have unknown past performance.\n",
       "- Vendors lacking relevant past performance history shall receive a \"neutral confidence\" evaluation rating for past performance.\n",
       "- Past contract efforts will be rated for recency and evaluated as either Recent or Not Recent.\n",
       "- Past Performance must be within the last three (3) years from the quote due date of this RFQ.\n",
       "- Past Performance references that are determined to be not recent will be excluded from the overall confidence rating."
      ],
      "text/plain": [
       "<IPython.core.display.Markdown object>"
      ]
     },
     "metadata": {},
     "output_type": "display_data"
    },
    {
     "data": {
      "text/markdown": [
       "- The applicant is required to have a past performance rating in accordance with FAR 15.305(a)(2)(iv)\n",
       "- The applicant is required to have a very relevant, relevant, somewhat relevant, or not relevant past performance relevancy rating\n",
       "- The applicant is required to have an overall confidence assessment rating based on past performance recency, relevancy, and quality\n",
       "- The applicant is required to have a substantial confidence rating based on recent/relevant performance record."
      ],
      "text/plain": [
       "<IPython.core.display.Markdown object>"
      ]
     },
     "metadata": {},
     "output_type": "display_data"
    },
    {
     "data": {
      "text/markdown": [
       "- The applicant is required to have a satisfactory confidence based on their recent/relevant performance record.\n",
       "- The applicant is required to have a neutral confidence if no recent/relevant performance record is available.\n",
       "- The applicant is required to have limited confidence if the government has a low expectation of successful performance based on their recent/relevant performance record.\n",
       "- The applicant is required to have no confidence if the government has no expectation of successful performance based on their recent/relevant performance record.\n",
       "- Quotes receiving a rating of less than Neutral Confidence will be ineligible for award.\n",
       "- The applicant is required to have pricing that is fair and reasonable in accordance with FAR 13.106-3 Award and Documentation."
      ],
      "text/plain": [
       "<IPython.core.display.Markdown object>"
      ]
     },
     "metadata": {},
     "output_type": "display_data"
    }
   ],
   "source": [
    "for i in de.state_manager.get_current_state().metadata['compliances']:\n",
    "    display(Markdown(i))"
   ]
  },
  {
   "cell_type": "code",
   "execution_count": 20,
   "metadata": {},
   "outputs": [],
   "source": [
    "import pandas as pd\n",
    "\n",
    "# create a table for each of the sections and export a xlsx file with each table on a separate sheet\n",
    "# rfp_info\n",
    "rfp_info = pd.DataFrame(de.state_manager.get_current_state().metadata['rfp_info'])\n",
    "# important_dates\n",
    "important_dates = pd.DataFrame(de.state_manager.get_current_state().metadata['important_dates'])\n",
    "# eligibility\n",
    "eligibility = pd.DataFrame(de.state_manager.get_current_state().metadata['eligibility'])\n",
    "# submission\n",
    "submission = pd.DataFrame(de.state_manager.get_current_state().metadata['submission'])\n",
    "# evaluation\n",
    "evaluation = pd.DataFrame(de.state_manager.get_current_state().metadata['evaluation'])\n",
    "# compliances\n",
    "compliances = pd.DataFrame(de.state_manager.get_current_state().metadata['compliances'])\n",
    "\n",
    "with pd.ExcelWriter('egsearch.xlsx') as writer:\n",
    "    rfp_info.to_excel(writer, sheet_name='rfp_info', index=False)\n",
    "    important_dates.to_excel(writer, sheet_name='important_dates', index=False)\n",
    "    eligibility.to_excel(writer, sheet_name='eligibility', index=False)\n",
    "    submission.to_excel(writer, sheet_name='submission', index=False)\n",
    "    evaluation.to_excel(writer, sheet_name='evaluation', index=False)\n",
    "    compliances.to_excel(writer, sheet_name='compliances', index=False)\n",
    "\n",
    "end = time.time()"
   ]
  },
  {
   "cell_type": "code",
   "execution_count": 21,
   "metadata": {},
   "outputs": [],
   "source": [
    "total_time = end - start"
   ]
  },
  {
   "cell_type": "code",
   "execution_count": 22,
   "metadata": {},
   "outputs": [
    {
     "data": {
      "text/plain": [
       "73.4514639377594"
      ]
     },
     "execution_count": 22,
     "metadata": {},
     "output_type": "execute_result"
    }
   ],
   "source": [
    "total_time"
   ]
  },
  {
   "cell_type": "code",
   "execution_count": null,
   "metadata": {},
   "outputs": [],
   "source": []
  }
 ],
 "metadata": {
  "kernelspec": {
   "display_name": "venv",
   "language": "python",
   "name": "python3"
  },
  "language_info": {
   "codemirror_mode": {
    "name": "ipython",
    "version": 3
   },
   "file_extension": ".py",
   "mimetype": "text/x-python",
   "name": "python",
   "nbconvert_exporter": "python",
   "pygments_lexer": "ipython3",
   "version": "3.11.5"
  }
 },
 "nbformat": 4,
 "nbformat_minor": 2
}
