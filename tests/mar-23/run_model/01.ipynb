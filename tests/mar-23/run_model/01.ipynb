{
 "cells": [
  {
   "cell_type": "markdown",
   "metadata": {},
   "source": [
    "# RFP Extraction"
   ]
  },
  {
   "cell_type": "code",
   "execution_count": 1,
   "metadata": {},
   "outputs": [
    {
     "name": "stderr",
     "output_type": "stream",
     "text": [
      "Initialized PDFAnnotator with egsearch.pdf\n"
     ]
    }
   ],
   "source": [
    "from rfpextractor.scripts import DocExtraction\n",
    "import time\n",
    "\n",
    "start = time.time()\n",
    "\n",
    "de = DocExtraction(\n",
    "    pdf_path=\"egsearch.pdf\",\n",
    "    verbose=True,\n",
    ")"
   ]
  },
  {
   "cell_type": "code",
   "execution_count": 2,
   "metadata": {},
   "outputs": [],
   "source": [
    "de.annotator.load_contents('egsearch.txt')"
   ]
  },
  {
   "cell_type": "code",
   "execution_count": 3,
   "metadata": {},
   "outputs": [],
   "source": [
    "# de.annotator.save_contents(\"egsearch.txt\")"
   ]
  },
  {
   "cell_type": "code",
   "execution_count": 4,
   "metadata": {},
   "outputs": [
    {
     "data": {
      "text/plain": [
       "64"
      ]
     },
     "execution_count": 4,
     "metadata": {},
     "output_type": "execute_result"
    }
   ],
   "source": [
    "len(de.annotator.contents)"
   ]
  },
  {
   "cell_type": "code",
   "execution_count": 5,
   "metadata": {},
   "outputs": [
    {
     "data": {
      "text/plain": [
       "{'query': 'Important dates',\n",
       " 'start_page': 1,\n",
       " 'end_page': 1,\n",
       " 'texts': ['SEE ADDENDUM IS CHECKEDCODE 18a. P AYMENT WILL BE MADE BY\\nCODE F\\nACILITY CODE \\n17b. CHECK IF REMITTANCE IS DIFFERENT AND PUT SUCH ADDRESS IN OFFER OFFERORARPA-H\\n, MD 208921 Center DriveBG NIHBC 01 Room 228NIH Advanced Research Projects AgCODE 16. ADMINISTERED BY CODE XXX\\n611430\\nSIZE STANDARD: 100.00 % FOR: SE T ASIDE: UNRESTRICTED OR ARPA-H\\nREQUEST FOR \\nPROPOSAL \\n(RFP)INVITATION \\nFOR BID (IFB)10. THIS ACQUISITION IS CODE \\nREQUEST FOR \\nQUOTE (RFQ)14. METHOD OF SOLICITATION13b. RATINGNORTH AMERICAN INDUSTRY \\nCLASSIFICATION STANDARD \\n(NAICS):SMALL BUSINESS\\n04/15/2024 1600 EDT03/21/2024\\n+1 000 000 0000 BRYAN SIMMONS(No collect calls)\\nINFORMATION CALL:FOR SOLICI\\nTATION8. OFFER DUE D ATE/LOCAL TIME b. TELEPHONE  NUMBER a. NAME4. ORDER NUMBER 3. A WARD/ 6. SOLICI TATION 5. SOLICITATION NUMBER\\n75N99224Q00001SOLICITATION/CONTRACT/ORDER FOR COMMERCIA L ITEMS1. REQUISITION NUMBER PAGE     OF\\n1 41 OFFEROR TO COMPLETE BLOCKS 12, 17, 23, 24, & 30\\nTELEPHONE NO.17a. CONTRAC TOR/,15. DELIVER  TO, MD 208921 Center DriveBG NIHBC 01 Room 2289. ISSUED B Y 7.  2. CONTRAC T NO. \\nEFFECTIVE DATE\\n$15\\n18b. SUBMI\\nT INVOICES TO ADDRESS SHOWN IN BLOCK 18a UNLESS BLOCK  BELOWISSUE DATE\\nDELIVERY FOR FREE ON BOARD \\n(FOB) DESTINATION UNLESS \\nBLOCK IS MARKED11. \\nSEE SCHEDULEX12. DISCOUN T TERMS THIS CONTRACT IS A RATED \\nORDER UNDER\\n THE DEFENSE \\nPRIORITIES AND ALLOCATIONS \\nSYSTEM - DPAS (15 CFR 700)13a. SERVICE-DISABLED\\nVETERAN-OWNED\\nSMALL BUSINESS \\n(SDVOSB)HUBZONE SMALL \\nBUSINESS\\n8(A)NIH Advanced Research Projects AgWOMEN-OWNED SMALL\\nBUSINESS (WOSB)\\nECONOMICAL\\nLY DISADVANTAGED \\nWOMEN-OWNED SMALL \\nBUSINESS (EDWOSB)\\n24.\\nAMOUNT23.\\nUNI\\nT PRICE22.\\nUNIT21. \\nQUANTITY20.\\nSCHEDULE OF SUPPLIES/SERVICES19.\\nITEM NO.\\nPeriod of Performance: 07/01/2024 to 06/30/2029\\n1001    Task 1, 2, and 6 (Combined): This combined price 12 EA\\nshould encompass all costs associated with\\nEmployee Development, Career Alignment, and\\nProgram and Contract Management, including\\npersonnel costs, materials, overhead, and any\\nother direct and indirect costs. Please note that\\nthis price will be billed monthly.\\nProduct/Service Code:  R431\\nContinued ...\\n(Use Reverse and/or Attach Additional Sheets as Necessary)\\nHEREIN, IS  ACCEPTED AS TO ITEMS: XX X\\nD\\nATED\\nSTAS L. BLAUSHILD.  YOUR OFFER ON SOLICITATION (BLOCK 5), \\nINCLUDING ANY ADDITIONS OR  CHANGES WHICH ARE SET FORTH  1\\nCOPIES TO ISSUING OFFICE.  CONTRACTOR AGREES TO FURNISH AND DELIVERAREARE\\n31c. DATE SIGNED27b. CONTRACT/PURCHASE ORDER INCORPORATES BY REFERENCE FAR 52.212-4. FAR 52.212-5 IS ATTACHED.           ADDENDA\\n31a. UNITED STATES OF AMERICA (SIGNATURE OF CONTRACTING OFFICER) \\n30c. D ATE SIGNED 31b. NAME OF CONTRACTING OFFICER (T ype or print)ALL ITEMS SET FORTH OR OTHERWISE IDENTIFIED ABOVE AND ON ANY ADDITIONAL \\nSHEETS SUBJECT TO THE TERMS AND CONDITIONS SPECIFIED.27a. SOLICITATION INCORPORATES BY REFERENCE (FEDERAL ACQUISITION REGULATION) FAR 52.212-1, 52.212-4.  FAR 52.212-3 \\nAND 52.212-5 ARE ATTACHED.     ADDENDA26. TOTAL AWARD AMOUNT (For Government Use Only)\\nOFFER \\nSTANDARD FORM 1449 (REV. 11/2021)\\nPrescribed by GSA - FAR (48 CFR) 53.212ARE NOT ATTACHED.\\nARE NOT ATTACHED.\\nAUTHORIZED FOR LOCAL REPRODUCTION\\nPREVIOUS EDITION IS NO\\nT USABLE 30b. NAME AND TITLE OF SIGNER (Type or print)30a. SIGN ATURE OF OFFEROR/CONTRACTOR28. CONTRAC TOR IS REQUIRED TO SIGN THIS DOCUMENT AND RETURN 25. ACCOUNTING  AND APPROPRIATION DATA\\n29. AWARD OF CONTRACT: REFERENCE']}"
      ]
     },
     "execution_count": 5,
     "metadata": {},
     "output_type": "execute_result"
    }
   ],
   "source": [
    "de.annotator.get_relevant_pages(\"Important dates\")"
   ]
  },
  {
   "cell_type": "code",
   "execution_count": 6,
   "metadata": {},
   "outputs": [],
   "source": [
    "de.rfp_info()"
   ]
  },
  {
   "cell_type": "code",
   "execution_count": 7,
   "metadata": {},
   "outputs": [],
   "source": [
    "from IPython.display import display, Markdown"
   ]
  },
  {
   "cell_type": "code",
   "execution_count": 8,
   "metadata": {},
   "outputs": [
    {
     "data": {
      "text/markdown": [
       "title: Request for Quotation\n",
       "issuing_organization: Advanced Research Projects Agency for Health (ARPA-H)\n",
       "unique_id: 75N992-24-Q -00001\n",
       "url: N/A"
      ],
      "text/plain": [
       "<IPython.core.display.Markdown object>"
      ]
     },
     "metadata": {},
     "output_type": "display_data"
    }
   ],
   "source": [
    "display(Markdown(de.state_manager.get_current_state().metadata['rfp_info'][0]))"
   ]
  },
  {
   "cell_type": "code",
   "execution_count": 9,
   "metadata": {},
   "outputs": [],
   "source": [
    "de.important_dates()"
   ]
  },
  {
   "cell_type": "code",
   "execution_count": 10,
   "metadata": {},
   "outputs": [
    {
     "data": {
      "text/markdown": [
       "Based on the given text, the important dates extracted are as follows:\n",
       "\n",
       "- Deadline: 04/15/2024 1600 EDT\n",
       "- Announcement Date: 03/21/2024\n",
       "- Submission Start Date: Not provided\n",
       "- Submission End Date: Not provided\n",
       "- Period of Performance: 07/01/2024 to 06/30/2029"
      ],
      "text/plain": [
       "<IPython.core.display.Markdown object>"
      ]
     },
     "metadata": {},
     "output_type": "display_data"
    }
   ],
   "source": [
    "for i in de.state_manager.get_current_state().metadata['important_dates']:\n",
    "    display(Markdown(i))"
   ]
  },
  {
   "cell_type": "code",
   "execution_count": 11,
   "metadata": {},
   "outputs": [],
   "source": [
    "de.eligibility()"
   ]
  },
  {
   "cell_type": "code",
   "execution_count": 12,
   "metadata": {},
   "outputs": [
    {
     "data": {
      "text/markdown": [
       "1: The applicant must adhere to the submission guidelines in section 3 of the RFQ.\n",
       "2: The applicant must provide their best quote with initial submissions.\n",
       "3: The applicant must not have missing volumes/sections, required plans, documentation, pricing, etc. in their quote.\n",
       "4: The applicant must have technical capability and be able to manage risk effectively.\n",
       "5: The applicant must have a positive past performance record.\n",
       "6: The applicant must provide a price quote.\n",
       "7: The applicant must not have opportunities to acquire sustainable acquisition supplies or services in this procurement."
      ],
      "text/plain": [
       "<IPython.core.display.Markdown object>"
      ]
     },
     "metadata": {},
     "output_type": "display_data"
    },
    {
     "data": {
      "text/markdown": [
       "- The applicant must achieve a rating of Technically Acceptable or higher\n",
       "- The applicant must have a Past Performance rating of at least Neutral Confidence\n",
       "- The applicant's quote must be complete, clear, and compliant with the terms of the RFQ\n",
       "- The applicant must identify any assumptions that may impact price in their quote\n",
       "- The applicant's quote must provide the \"best value\" to the Government\n",
       "- The applicant will be evaluated on their ability to deliver the specified requirements of the PWS\n",
       "- The applicant's Career Development and Counseling Plan (CDCP) will be evaluated based on the requirements detailed in PWS section 2.3.1."
      ],
      "text/plain": [
       "<IPython.core.display.Markdown object>"
      ]
     },
     "metadata": {},
     "output_type": "display_data"
    },
    {
     "data": {
      "text/markdown": [
       "- The applicant must be able to design and implement effective training programs supportive of ARPA-H's requirements.\n",
       "- The applicant must have a Leadership Coaching Framework that meets the requirements specified in PWS Section 2.3.4.1.\n",
       "- The applicant must have an approach to managing the project as outlined in their PMP.\n",
       "- The applicant must have a strategy for continuous improvement and innovation as detailed in PWS Section 2.3.3.2.\n",
       "- The applicant must have a Quality Control and Management Oversight Plan as outlined in PWS Sections 2.3.3.4 and 2.5.1."
      ],
      "text/plain": [
       "<IPython.core.display.Markdown object>"
      ]
     },
     "metadata": {},
     "output_type": "display_data"
    },
    {
     "data": {
      "text/markdown": [
       "- The applicant must be able to address contract contingencies, excusable delays, business disruptions, and other potential service interruptions as per PWS Sections 2.3.3.8\n",
       "- The applicant must provide a Contingency Plan in their quote\n",
       "- The applicant must demonstrate effectiveness in identifying, mitigating, and managing risks in accordance with proposed methods and staffing capabilities\n",
       "- Corporate experience in working with other Advanced Research Projects Agency (ARPA) organizations or start-up companies is highly desirable\n",
       "- Plans, strategies, or frameworks submitted must encompass sufficient detail for a comprehensive assessment of the approach\n",
       "- Incomplete or insufficiently detailed submissions will be subject to a marginal or unacceptable rating\n",
       "- The applicant's quote must demonstrate an exceptional approach and understanding of the requirements with low risk of unsuccessful performance."
      ],
      "text/plain": [
       "<IPython.core.display.Markdown object>"
      ]
     },
     "metadata": {},
     "output_type": "display_data"
    },
    {
     "data": {
      "text/markdown": [
       "- The applicant must be able to provide a good quote that indicates a thorough approach and understanding of the requirements, contains at least one strength, and has a low to moderate risk of unsuccessful performance.\n",
       "- The applicant must be able to provide an acceptable quote that meets requirements, indicates an adequate approach and understanding of the requirements, and has a risk of unsuccessful performance that is no worse than moderate.\n",
       "- The applicant must not provide a marginal or unacceptable quote, as these will make them ineligible for award.\n",
       "- The applicant must have a demonstrated record of past performance that shows the ability to successfully meet users' needs, with consideration given to recency, relevancy, and quality of the performance data."
      ],
      "text/plain": [
       "<IPython.core.display.Markdown object>"
      ]
     },
     "metadata": {},
     "output_type": "display_data"
    },
    {
     "data": {
      "text/markdown": [
       "- The applicant must exhibit similar work required by this RFQ as detailed in the PWS\n",
       "- The applicant must have past performance information available for evaluation\n",
       "- The applicant's past performance under federal contracts will be considered\n",
       "- Negative past performance under prior contracts may result in an overall negative past performance rating\n",
       "- Applicants without recent or relevant past performance may receive a \"neutral confidence\" evaluation rating\n",
       "- Past performance will be rated for recency, within the last three years from the quote due date of this RFQ\n",
       "- Past performance references not recent within three years from the quote due date will be excluded from the overall confidence rating\n",
       "- The applicant must provide a minimum of three references for past performance evaluation"
      ],
      "text/plain": [
       "<IPython.core.display.Markdown object>"
      ]
     },
     "metadata": {},
     "output_type": "display_data"
    },
    {
     "data": {
      "text/markdown": [
       "- The applicant must have a past performance rating in accordance with FAR 15.305(a)(2)(iv).\n",
       "- The applicant's past performance effort must be very relevant, relevant, somewhat relevant, or not relevant to the scope and magnitude of effort and complexities required by the RFQ.\n",
       "- The applicant must have an overall confidence assessment rating of substantial confidence based on recent/relevant performance record."
      ],
      "text/plain": [
       "<IPython.core.display.Markdown object>"
      ]
     },
     "metadata": {},
     "output_type": "display_data"
    },
    {
     "data": {
      "text/markdown": [
       "- The applicant must have a satisfactory confidence based on recent/relevant performance record\n",
       "- The applicant must not have a rating of less than Neutral Confidence\n",
       "- The applicant's performance record must not be so sparse that no meaningful confidence assessment rating can be assigned\n",
       "- The applicant must not have limited confidence based on recent/relevant performance record\n",
       "- The applicant must not have no confidence based on recent/relevant performance record"
      ],
      "text/plain": [
       "<IPython.core.display.Markdown object>"
      ]
     },
     "metadata": {},
     "output_type": "display_data"
    }
   ],
   "source": [
    "for i in de.state_manager.get_current_state().metadata['eligibility']:\n",
    "    display(Markdown(i))"
   ]
  },
  {
   "cell_type": "code",
   "execution_count": 13,
   "metadata": {},
   "outputs": [],
   "source": [
    "de.submission()"
   ]
  },
  {
   "cell_type": "code",
   "execution_count": 14,
   "metadata": {},
   "outputs": [
    {
     "data": {
      "text/markdown": [
       "- Vendors must submit their quotes electronically via email to Acquisitions@ARPA-H.GOV \n",
       "- Quotes must be clearly identifiable with the following in the subject line of the email: \"VENDOR NAME Quote for RFQ 75N992-24-Q-00001 Career Lifecycle Management Support Service.\"\n",
       "- Quotes must be received by the closing date and time as stipulated in the RFQ section 1.11 Quote Submission. \n",
       "- The first page of the quote must show the RFQ number, the name, address, e-mail address, and telephone number(s) of the Vendor. \n",
       "- A statement specifying the extent of agreement with all terms, conditions, and provisions included in the RFQ and agreement to furnish any or all items upon which prices are offered at the prices set opposite each item. \n",
       "- Names, titles, signatures, telephone, and electronic address of persons authorized to negotiate on the Vendor's behalf with the Government in connection with this RFQ must be provided. \n",
       "- Quotes signed by an agent shall be accompanied by evidence of that agent’s authority, unless that evidence has been previously furnished to the issuing office."
      ],
      "text/plain": [
       "<IPython.core.display.Markdown object>"
      ]
     },
     "metadata": {},
     "output_type": "display_data"
    },
    {
     "data": {
      "text/markdown": [
       "- Quotes must be submitted to the Government office designated in the RFQ by the specified time  \n",
       "- Quotes will be valid for 120 days  \n",
       "- Vendors must submit quotes in four separate volumes: Technical Capability/Risk, Past Performance, Price Quote, and Contract Documentation  \n",
       "- Technical Capability/Risk volume must not exceed 18 pages  \n",
       "- Past Performance volume must not exceed 3-5 pages  \n",
       "- Price Quote and Contract Documentation volumes have no page limit  \n",
       "- Pages must be 8.5 by 11 inches or 11 by 8.5 inches, with specific formatting requirements  \n",
       "- Pages must be single-spaced, in 11-point font, with certain exceptions for different elements  \n",
       "- Margins of 1 inch on all sides  \n",
       "- Page numbers must be sequential by volume  \n",
       "- Excess pages will not be considered in the evaluation of the quote"
      ],
      "text/plain": [
       "<IPython.core.display.Markdown object>"
      ]
     },
     "metadata": {},
     "output_type": "display_data"
    }
   ],
   "source": [
    "for i in de.state_manager.get_current_state().metadata['submission']:\n",
    "    display(Markdown(i))"
   ]
  },
  {
   "cell_type": "code",
   "execution_count": 15,
   "metadata": {},
   "outputs": [],
   "source": [
    "de.evaluation()"
   ]
  },
  {
   "cell_type": "code",
   "execution_count": 16,
   "metadata": {},
   "outputs": [
    {
     "data": {
      "text/markdown": [
       "1 will be evaluated based on the quoter's ability to meet technical requirements and mitigate risks associated with the project. Factor 2 will be evaluated based on the quoter's past performance on similar projects. Factor 3 will be evaluated based on the price quoted by the vendor."
      ],
      "text/plain": [
       "<IPython.core.display.Markdown object>"
      ]
     },
     "metadata": {},
     "output_type": "display_data"
    },
    {
     "data": {
      "text/markdown": [
       "Evaluation Criteria:\n",
       "1. Technical Capability/Risk\n",
       "2. Past Performance\n",
       "3. Price\n",
       "\n",
       "Evaluation Rubric:\n",
       "- Vendors must achieve a rating of Technically Acceptable or higher\n",
       "- Past Performance rating of at least Neutral Confidence\n",
       "- Completeness, clarity, and compliance with the terms of the RFQ\n",
       "- Identification of assumptions that may impact price\n",
       "- Best value to the Government\n",
       "- Tradeoffs among cost or price and non-cost factors\n",
       "- Evaluation of quoter's ability to deliver specified requirements\n",
       "- Evaluation of Employee Development and Career Management Support\n",
       "- Thoroughness and comprehensiveness of Career Development and Counseling Plan\n",
       "- Proposed methods for conducting and utilizing mid-point assessments and stakeholder surveys"
      ],
      "text/plain": [
       "<IPython.core.display.Markdown object>"
      ]
     },
     "metadata": {},
     "output_type": "display_data"
    }
   ],
   "source": [
    "for i in de.state_manager.get_current_state().metadata['evaluation']:\n",
    "    display(Markdown(i))"
   ]
  },
  {
   "cell_type": "code",
   "execution_count": 17,
   "metadata": {},
   "outputs": [],
   "source": [
    "de.compliances()"
   ]
  },
  {
   "cell_type": "code",
   "execution_count": 18,
   "metadata": {},
   "outputs": [
    {
     "data": {
      "text/markdown": [
       "1 will be evaluated on a pass/fail basis. Failure to pass this factor will result in elimination from further consideration. Factors 2 and 3 will be evaluated on a qualitative basis."
      ],
      "text/plain": [
       "<IPython.core.display.Markdown object>"
      ]
     },
     "metadata": {},
     "output_type": "display_data"
    },
    {
     "data": {
      "text/markdown": [
       "- Vendors must achieve a rating of Technically Acceptable or higher\n",
       "- Vendors must have a Past Performance rating of at least Neutral Confidence\n",
       "- Quoters are required to identify any assumptions that may impact price\n",
       "- Quotes must be complete, clear, and compliant with the terms of the RFQ\n",
       "- Award will be made to the quoter whose quote provides the \"best value\" to the Government\n",
       "- The Government will evaluate the quoter's ability to deliver the specified requirements of the PWS\n",
       "- The quote will be evaluated on the thoroughness and comprehensiveness of the CDCP based on the requirements detailed in PWS section 2.3.1"
      ],
      "text/plain": [
       "<IPython.core.display.Markdown object>"
      ]
     },
     "metadata": {},
     "output_type": "display_data"
    },
    {
     "data": {
      "text/markdown": [
       "- comply with the content requirements outlined in PWS Section 2.3.2.1  \n",
       "- innovative approaches to career path development  \n",
       "- feasibility within ARPA-H's organizational framework  \n",
       "- approach to the Outplacement Services Framework requirements in PWS Section 2.3.5.1  \n",
       "- design and implement effective training programs  \n",
       "- ability to meet the requirements of PWS Section 2.3.3.2  \n",
       "- adherence to the PWS Exhibit 1, Proposed Customize Training Framework Guide  \n",
       "- Leadership Coaching Framework's ability to meet the requirements specified in PWS Section 2.3.4.1  \n",
       "- approach to managing the project as outlined in the PMP  \n",
       "- specificity and responsiveness in addressing and meeting the requirements  \n",
       "- strategy for continuous improvement and innovation  \n",
       "- inclusion and quality of the Quality Control and Management Oversight Plan as outlined in PWS Sections 2.3.3.4 and 2.5.1  \n",
       "- quality assurance procedures to ensure contract quality and management oversight"
      ],
      "text/plain": [
       "<IPython.core.display.Markdown object>"
      ]
     },
     "metadata": {},
     "output_type": "display_data"
    },
    {
     "data": {
      "text/markdown": [
       "- The applicant is required to include a Contingency Plan in the quote addressing contract contingencies, excusable delays, business disruptions, and other potential service interruptions as per PWS Sections 2.3.3.8\n",
       "- The applicant must comprehensively identify, mitigate, and manage risks in accordance with proposed methods and capabilities of their staffing\n",
       "- Corporate experience in working with other Advanced Research Projects Agency (ARPA) organizations or start-up companies is highly desirable\n",
       "- Plans, strategies, or frameworks must encompass sufficient detail to enable a comprehensive assessment of the approach\n",
       "- Submissions that are incomplete or provide insufficient detail for a thorough evaluation will be subject to a marginal or unacceptable rating\n",
       "- The combined technical/risk rating includes consideration of risk in conjunction with the strengths, weaknesses, and deficiencies identified in the quotes in determining technical ratings"
      ],
      "text/plain": [
       "<IPython.core.display.Markdown object>"
      ]
     },
     "metadata": {},
     "output_type": "display_data"
    },
    {
     "data": {
      "text/markdown": [
       "- The applicant is required to have a thorough approach and understanding of the requirements\n",
       "- The applicant is required to meet all government requirements\n",
       "- The applicant is required to have a low to moderate risk of unsuccessful performance\n",
       "- The applicant is required to have a moderate risk of unsuccessful performance at worst\n",
       "- The applicant is required to have a high risk of unsuccessful performance for a quote to be considered marginal\n",
       "- The applicant is required to have a very high risk of unsuccessful performance for a quote to be considered unacceptable\n",
       "- Quotes receiving a rating of Marginal or Unacceptable will be ineligible for award\n",
       "- The applicant is required to have no weaknesses in the quote\n",
       "- The applicant is required to have no significant weaknesses in the quote\n",
       "- The applicant is required to have no deficiencies in the quote\n",
       "- The applicant is required to have strengths in the quote that exceed specified performance or capability requirements\n",
       "- Strengths in the quote may include meeting the \"highly desirable\" performance characteristics identified in the PWS\n",
       "- The applicant is required to have a demonstrated record of performance for the Past Performance evaluation factor\n",
       "- The recency, relevancy, and quality of past performance shall be considered in evaluating this factor\n",
       "- Past performance must have been completed or at least 25% completed in the last three years from the quote due date"
      ],
      "text/plain": [
       "<IPython.core.display.Markdown object>"
      ]
     },
     "metadata": {},
     "output_type": "display_data"
    },
    {
     "data": {
      "text/markdown": [
       "- The applicant is required to provide Vendor Past Performance references in Volume 2 of the vendor's proposal.  \n",
       "- The applicant is required to have a record of recent or relevant past performance.  \n",
       "- The applicant must have a minimum number of three (3) Past Performance references.  \n",
       "- The applicant must address adverse past performance information if necessary.  \n",
       "- The applicant shall be determined to have unknown past performance if lacking relevant past performance history.  \n",
       "- The applicant shall receive a \"neutral confidence\" evaluation rating for past performance if determined to have unknown past performance.  \n",
       "- Past performance will be rated for recency, within the last three (3) years from the quote due date of this RFQ.  \n",
       "- Past Performance references that are not recent will be excluded from the overall confidence rating."
      ],
      "text/plain": [
       "<IPython.core.display.Markdown object>"
      ]
     },
     "metadata": {},
     "output_type": "display_data"
    },
    {
     "data": {
      "text/markdown": [
       "- The applicant is required to have a past performance rating in accordance with FAR 15.305(a)(2)(iv).\n",
       "- The applicant is required to be assigned a relevancy rating based on their past performance.\n",
       "- The applicant is required to have an overall confidence rating based on their past performance.\n",
       "- The overall confidence rating shall be based on the level of confidence the Government has in the Vendor's ability to successfully perform the requirements."
      ],
      "text/plain": [
       "<IPython.core.display.Markdown object>"
      ]
     },
     "metadata": {},
     "output_type": "display_data"
    },
    {
     "data": {
      "text/markdown": [
       "- The applicant is required to have a satisfactory performance record\n",
       "- The applicant may not be evaluated favorably or unfavorably if no recent/relevant performance record is available\n",
       "- The applicant is required to have limited confidence in their ability to successfully perform the required effort\n",
       "- The applicant is required to have no confidence in their ability to successfully perform the required effort\n",
       "- Quotes receiving a rating of less than Neutral Confidence will be ineligible for award\n",
       "- The applicant is required to have pricing that is fair and reasonable in accordance with FAR 13.106-3 Award and Documentation\n",
       "- The Government will award the contract to the Vendor that represents the overall best value to meet the Government’s needs based on the criteria and evaluation mechanisms identified in Section 4.2"
      ],
      "text/plain": [
       "<IPython.core.display.Markdown object>"
      ]
     },
     "metadata": {},
     "output_type": "display_data"
    }
   ],
   "source": [
    "for i in de.state_manager.get_current_state().metadata['compliances']:\n",
    "    display(Markdown(i))"
   ]
  },
  {
   "cell_type": "code",
   "execution_count": 19,
   "metadata": {},
   "outputs": [],
   "source": [
    "import pandas as pd\n",
    "\n",
    "# create a table for each of the sections and export a xlsx file with each table on a separate sheet\n",
    "# rfp_info\n",
    "rfp_info = pd.DataFrame(de.state_manager.get_current_state().metadata['rfp_info'])\n",
    "# important_dates\n",
    "important_dates = pd.DataFrame(de.state_manager.get_current_state().metadata['important_dates'])\n",
    "# eligibility\n",
    "eligibility = pd.DataFrame(de.state_manager.get_current_state().metadata['eligibility'])\n",
    "# submission\n",
    "submission = pd.DataFrame(de.state_manager.get_current_state().metadata['submission'])\n",
    "# evaluation\n",
    "evaluation = pd.DataFrame(de.state_manager.get_current_state().metadata['evaluation'])\n",
    "# compliances\n",
    "compliances = pd.DataFrame(de.state_manager.get_current_state().metadata['compliances'])\n",
    "\n",
    "with pd.ExcelWriter('egsearch.xlsx') as writer:\n",
    "    rfp_info.to_excel(writer, sheet_name='rfp_info', index=False)\n",
    "    important_dates.to_excel(writer, sheet_name='important_dates', index=False)\n",
    "    eligibility.to_excel(writer, sheet_name='eligibility', index=False)\n",
    "    submission.to_excel(writer, sheet_name='submission', index=False)\n",
    "    evaluation.to_excel(writer, sheet_name='evaluation', index=False)\n",
    "    compliances.to_excel(writer, sheet_name='compliances', index=False)\n",
    "\n",
    "end = time.time()"
   ]
  },
  {
   "cell_type": "code",
   "execution_count": 20,
   "metadata": {},
   "outputs": [],
   "source": [
    "total_time = end - start"
   ]
  },
  {
   "cell_type": "code",
   "execution_count": 21,
   "metadata": {},
   "outputs": [
    {
     "data": {
      "text/plain": [
       "75.42147827148438"
      ]
     },
     "execution_count": 21,
     "metadata": {},
     "output_type": "execute_result"
    }
   ],
   "source": [
    "total_time"
   ]
  },
  {
   "cell_type": "code",
   "execution_count": null,
   "metadata": {},
   "outputs": [],
   "source": []
  }
 ],
 "metadata": {
  "kernelspec": {
   "display_name": "venv",
   "language": "python",
   "name": "python3"
  },
  "language_info": {
   "codemirror_mode": {
    "name": "ipython",
    "version": 3
   },
   "file_extension": ".py",
   "mimetype": "text/x-python",
   "name": "python",
   "nbconvert_exporter": "python",
   "pygments_lexer": "ipython3",
   "version": "3.11.5"
  }
 },
 "nbformat": 4,
 "nbformat_minor": 2
}
