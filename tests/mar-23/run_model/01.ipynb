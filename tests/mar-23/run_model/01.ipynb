{
 "cells": [
  {
   "cell_type": "code",
   "execution_count": 1,
   "metadata": {},
   "outputs": [
    {
     "name": "stderr",
     "output_type": "stream",
     "text": [
      "Initialized PDFAnnotator with egsearch.pdf\n"
     ]
    }
   ],
   "source": [
    "from rfpextractor.scripts import DocExtraction\n",
    "\n",
    "de = DocExtraction(\n",
    "    pdf_path=\"egsearch.pdf\",\n",
    "    verbose=True,\n",
    ")"
   ]
  },
  {
   "cell_type": "code",
   "execution_count": 2,
   "metadata": {},
   "outputs": [],
   "source": [
    "de.annotator.load_contents('egsearch.txt')"
   ]
  },
  {
   "cell_type": "code",
   "execution_count": 3,
   "metadata": {},
   "outputs": [],
   "source": [
    "# de.annotator.save_contents(\"egsearch.txt\")"
   ]
  },
  {
   "cell_type": "code",
   "execution_count": 4,
   "metadata": {},
   "outputs": [
    {
     "data": {
      "text/plain": [
       "64"
      ]
     },
     "execution_count": 4,
     "metadata": {},
     "output_type": "execute_result"
    }
   ],
   "source": [
    "len(de.annotator.contents)"
   ]
  },
  {
   "cell_type": "code",
   "execution_count": 5,
   "metadata": {},
   "outputs": [
    {
     "data": {
      "text/plain": [
       "{'query': 'past performance rating method',\n",
       " 'start_page': 33,\n",
       " 'end_page': 33,\n",
       " 'texts': ['SOLICITATION NUMBER 75N992-24-Q -00001  \\nPage 33 of 42  \\n \\nRelevancy is defined as exhibiting similar work required by this RFQ  as detailed in the PWS .  \\n In conducting the past performance evaluation, the Government will assess this factor based upon what is presented and may use any other data or information otherwise available. This includes but is not limited to  the Past Performance Information Retrieval System (PPIRS); past \\nperformance questionnaires; past and present customers and their employees, and any others who may have useful information; the Vendor ’s past performance under other federal  contracts.  \\n Vendor  Past Performance references  provided in Volume 2 of the vendor’s proposal will not be  \\ncompared directly to the past performance of other vendors. T he government will use the \\noverall Confidence Rating for eac h vendor as part of the best value tradeoff determination.  \\n Negative past p erformance under prior contracts may result in an overall negative past \\nperformance rating. Vendor s may have the opportunity to address adverse past performance \\ninformation , and the Government will consider this information in its evaluation.  \\n \\nUnknown Past  Performance \\n In the case of a Vendor  without a record of recent or relevant past performance or for whom \\ninformation on past performance is not available or so sparse that no meaningful past performance rating can be reasonably assigned, the Vendor  may not be evaluated favorably \\nor unfavorably on past performance (see FAR 15.305 (a)(2)(iv)). Therefore, Vendor s lacking \\nrelevant past performance history shall be determined to have unknown past performance  and \\nshall receive a “neutral confidence ” evaluation rating for past  performance. \\n \\nPast Performance Rating Method:  \\n \\nRecency and Relevancy of Prior Contracts  \\n \\nRecency : For the Past Performance evaluation factor, prior contract efforts will be rated \\nfor recency and will be evaluated as either Recent  or Not Recent  and assigned one of the \\nfollowing ratings.  \\nTable 4.2.3.1 Past Performance Recency rating scale.  \\n \\nRating  Description  \\nRecent  Performance is within last three (3)  years from the \\nquote due date of this RFQ  \\nNot Rec ent Performance is NOT within the last three (3)  years \\nfrom the quote due date of this RFQ  \\nNote: Past Performance reference s that are determined to be not recent, within three (3) \\nyears from the quote due date of this RFQ, will be excluded from the overall confidence \\nrating. If the exclusion of any reference results in the vendor not providing the minimum \\nnumber of references o f three (3), the Government will determine the vendor to have unknow n ']}"
      ]
     },
     "execution_count": 5,
     "metadata": {},
     "output_type": "execute_result"
    }
   ],
   "source": [
    "de.annotator.get_relevant_pages(\"past performance rating method\")"
   ]
  },
  {
   "cell_type": "code",
   "execution_count": 6,
   "metadata": {},
   "outputs": [],
   "source": [
    "de.rfp_info()"
   ]
  },
  {
   "cell_type": "code",
   "execution_count": 7,
   "metadata": {},
   "outputs": [
    {
     "data": {
      "text/plain": [
       "{'init state': 'init state',\n",
       " 'rfp_info': ['title: REQUEST FOR QUOTATION\\nissuing_organization: Advanced Research Projects Agency for Health (ARPA-H)\\nunique_id: 75N992-24-Q-00001\\nurl: N/A']}"
      ]
     },
     "execution_count": 7,
     "metadata": {},
     "output_type": "execute_result"
    }
   ],
   "source": [
    "de.state_manager.get_current_state().metadata"
   ]
  },
  {
   "cell_type": "code",
   "execution_count": 8,
   "metadata": {},
   "outputs": [],
   "source": [
    "de.important_dates()"
   ]
  },
  {
   "cell_type": "code",
   "execution_count": 9,
   "metadata": {},
   "outputs": [
    {
     "data": {
      "text/plain": [
       "{'init state': 'init state',\n",
       " 'rfp_info': ['title: REQUEST FOR QUOTATION\\nissuing_organization: Advanced Research Projects Agency for Health (ARPA-H)\\nunique_id: 75N992-24-Q-00001\\nurl: N/A'],\n",
       " 'important_dates': ['Based on the text provided, the following dates can be extracted:\\n\\n- Submission Start Date: Not specified\\n- Submission End Date: Not specified\\n- Announcement Date: Not specified\\n- Deadline: Not specified',\n",
       "  'Based on the text provided, the following dates can be extracted:\\n\\n- No specific deadline date is mentioned.\\n- No specific announcement date is mentioned.\\n- No specific submission start date is mentioned.\\n- No specific submission end date is mentioned.',\n",
       "  'No important dates were found in the provided text.',\n",
       "  'submission_end_date: designated closing time and date indicated below']}"
      ]
     },
     "execution_count": 9,
     "metadata": {},
     "output_type": "execute_result"
    }
   ],
   "source": [
    "de.state_manager.get_current_state().metadata"
   ]
  },
  {
   "cell_type": "code",
   "execution_count": 10,
   "metadata": {},
   "outputs": [],
   "source": [
    "de.eligibility()"
   ]
  },
  {
   "cell_type": "code",
   "execution_count": 11,
   "metadata": {},
   "outputs": [
    {
     "data": {
      "text/plain": [
       "[\"1: The applicant must adhere to the submission guidelines in section 3 of the RFQ.\\n2: The applicant must provide their best quote with initial submissions.\\n3: The applicant must not have missing volumes/sections, required plans, documentation, pricing, etc. in their quote.\\n4: The applicant must have technical capability and be able to manage risks effectively.\\n5: The applicant's past performance will be evaluated.\\n6: The applicant's price will be a factor in evaluation.\",\n",
       " '- The applicant must achieve a rating of Technically Acceptable or higher\\n- The applicant must have a Past Performance rating of at least Neutral Confidence\\n- The applicant\\'s quote must be complete, clear, and compliant with the terms of the RFQ\\n- The applicant must identify any assumptions that may impact price in their quote\\n- The applicant\\'s quote must provide the \"best value\" to the Government\\n- The applicant\\'s ability to deliver the specified requirements will be evaluated\\n- The applicant must have a Career Development and Counseling Plan (CDCP) as detailed in PWS section 2.3.1\\n- The applicant\\'s quote will be evaluated on proposed methods for conducting and utilizing mid-point assessments and stakeholder surveys to track developmental progress and identify areas for improvement.',\n",
       " \"- The applicant must be able to design and implement effective training programs supportive of ARPA-H's requirements\\n- The applicant must have a Leadership Coaching Framework that meets the requirements specified in PWS Section 2.3.4.1\\n- The applicant must have a project management approach outlined in their PMP that addresses and meets the requirements detailed in PWS Section 2.3.3.1\\n- The applicant must have a strategy for continuous improvement and innovation as detailed in PWS Section 2.3.3.2\\n- The applicant must include a Quality Control and Management Oversight Plan as outlined in PWS Sections 2.3.3.4 and 2.5.1\",\n",
       " \"- The applicant must be able to demonstrate a comprehensive Contingency Plan addressing contract contingencies, excusable delays, business disruptions, and other potential service interruptions as per PWS Sections 2.3.3.8\\n- The applicant must provide detailed plans, strategies, or frameworks with sufficient detail for a comprehensive assessment of their approach\\n- The applicant's risk assessment must demonstrate effectiveness in identifying, mitigating, and managing risks in accordance with proposed methods and capabilities\\n- Highly desirable criteria include corporate experience in working with ARPA organizations or start-up companies\\n- The applicant's submission must clearly articulate their intended approach and methodologies in a detailed and comprehensive manner\",\n",
       " '- The applicant must have a good quote that indicates a thorough approach and understanding of the requirements\\n- The applicant must have a quote with at least one strength\\n- The risk of unsuccessful performance must be low to moderate\\n- The applicant must not have a quote rated as Marginal or Unacceptable\\n- The applicant must have acceptable quote that meets requirements and indicates an adequate approach and understanding of the requirements\\n- The risk of unsuccessful performance must be no worse than moderate\\n- The applicant must have a demonstrated record of performance for the Past Performance evaluation factor\\n- The recency of the past performance must be within the last three years from the quote due date\\n- The past performance must be relevant to the current requirement',\n",
       " \"- The applicant must be able to exhibit similar work required by the RFQ as detailed in the PWS\\n- The applicant must have a record of recent and relevant past performance\\n- The applicant must provide at least three past performance references\\n- The applicant's past performance will be evaluated based on the overall Confidence Rating\\n- Negative past performance under prior contracts may result in an overall negative past performance rating\\n- Applicants without a record of recent or relevant past performance will receive a neutral confidence evaluation rating\\n- Past performance will be rated for recency, with recent performance defined as within the last three years from the quote due date of the RFQ\",\n",
       " '- The applicant must have a past performance rating in accordance with FAR 15.305(a)(2)(iv).\\n- The applicant must have a relevancy rating of Very Relevant, Relevant, Somewhat Relevant, or Not Relevant based on past performance efforts.\\n- The applicant must have an overall confidence rating of Substantial Confidence based on recent/relevant performance record.',\n",
       " \"- The applicant must have a recent/relevant performance record\\n- The applicant must not have a performance record that is so sparse that no confidence assessment rating can be assigned\\n- The applicant must have a performance confidence rating of at least Neutral\\n- The applicant must not have a performance confidence rating of less than Neutral\\n- The applicant must have a past performance that is known and assigned a performance confidence rating of Limited Confidence or higher\\n- The applicant's price quote must be fair and reasonable according to FAR 13.106-3 Award and Documentation\"]"
      ]
     },
     "execution_count": 11,
     "metadata": {},
     "output_type": "execute_result"
    }
   ],
   "source": [
    "de.state_manager.get_current_state().metadata['eligibility']"
   ]
  },
  {
   "cell_type": "code",
   "execution_count": 12,
   "metadata": {},
   "outputs": [],
   "source": [
    "de.submission()"
   ]
  },
  {
   "cell_type": "code",
   "execution_count": 15,
   "metadata": {},
   "outputs": [
    {
     "name": "stdout",
     "output_type": "stream",
     "text": [
      "- The applicant must submit a quote in response to this RFQ.\n",
      "- The applicant must address all correspondence regarding the RFQ to the designated points of contact.\n",
      "- The applicant must not use, disclose, or reproduce Personally Identifiable Information (PII) developed or obtained in preparation of its response to the RFQ and/or performance of the PWS, except as authorized by Government personnel and/or upon written approval of the CO.\n",
      "- The applicant must maintain, transmit, retain in strictest confidence, and prevent the unauthorized duplication, use, and disclosure of sensitive information relating to this RFQ and/or performance of any subsequently awarded contract.\n",
      "- The applicant must provide information only to authorized employees and/or subcontractors who need to know such information in the performance of their duties under any resulting contract.\n",
      "- Information made available to the applicant by the Government for the performance or administration of this effort shall be used only for those purposes and shall not be used in any other manner.\n",
      "- The applicant must submit their quotes electronically via email to Acquisitions@ARPA-H.GOV.\n",
      "- Electronic copies must be received by the designated closing time and date indicated below to be considered for this solicitation.\n"
     ]
    }
   ],
   "source": [
    "print(de.state_manager.get_current_state().metadata['submission'][0])\n",
    "print(de.state_manager.get_current_state().metadata['submission'][1])"
   ]
  },
  {
   "cell_type": "code",
   "execution_count": 16,
   "metadata": {},
   "outputs": [],
   "source": [
    "de.evaluation()"
   ]
  },
  {
   "cell_type": "code",
   "execution_count": 17,
   "metadata": {},
   "outputs": [
    {
     "name": "stdout",
     "output_type": "stream",
     "text": [
      "1: Technical Capability/Risk\n",
      "2: Past Performance\n",
      "3: Price\n",
      "Evaluation Criteria:\n",
      "1. Technical Capability/Risk\n",
      "2. Past Performance\n",
      "3. Price\n",
      "\n",
      "Evaluation Rubric:\n",
      "- Vendors must achieve a rating of Technically Acceptable or higher\n",
      "- Vendors must have a Past Performance rating of at least Neutral Confidence\n",
      "- Best Value - Trade-Off Evaluation\n",
      "- Complete, clear, and compliant quote with terms of RFQ\n",
      "- Quoter whose quote provides the best value to the Government\n",
      "- Evaluation of Factor 1: Technical Capability/Risk\n",
      "- Ability to deliver specified requirements of the PWS\n",
      "- Employee Development and Career Management Support\n",
      "- Career Development and Counseling Plan (CDCP) evaluation based on thoroughness and comprehensiveness\n",
      "- Evaluation of proposed methods for conducting and utilizing assessments and surveys to track developmental progress and identify areas for improvement.\n"
     ]
    },
    {
     "data": {
      "text/plain": [
       "[None, None]"
      ]
     },
     "execution_count": 17,
     "metadata": {},
     "output_type": "execute_result"
    }
   ],
   "source": [
    "[print(de.state_manager.get_current_state().metadata['evaluation'][i]) for i in range(len(de.state_manager.get_current_state().metadata['evaluation']))]"
   ]
  },
  {
   "cell_type": "code",
   "execution_count": 19,
   "metadata": {},
   "outputs": [],
   "source": [
    "de.compliances()"
   ]
  },
  {
   "cell_type": "code",
   "execution_count": 20,
   "metadata": {},
   "outputs": [
    {
     "name": "stdout",
     "output_type": "stream",
     "text": [
      "- The applicant is required to provide their best quote with initial submissions\n",
      "- The applicant must adhere to the submission guidelines in section 3 of the RFQ\n",
      "- The applicant shall not engage in exchanges with vendors unless necessary\n",
      "- The applicant must provide all required documentation, pricing, and plans as outlined in the RFQ\n",
      "- The applicant must adhere to Sustainable Acquisition Requirements as outlined in HHSAR Part 323.701\n",
      "- The applicant shall be notified in writing if their quotation is eliminated during the initial review for completeness.\n",
      "- Vendors must achieve a rating of Technically Acceptable or higher and have a Past Performance rating of at least Neutral Confidence to be considered for award.\n",
      "- Quoters are required to identify any assumptions that may impact price.\n",
      "- The quote must be complete, clear, and compliant with the terms of the RFQ.\n",
      "- Award will be made to the quoter whose quote is determined to provide the “best value” to the Government.\n",
      "- Quoters are required to submit only one approach to the agency’s requirement.\n",
      "- The Government will evaluate the quoter’s ability to deliver the specified requirements of the PWS.\n",
      "- The quote will be evaluated on the thoroughness and comprehensiveness of the CDCP based on the requirements detailed in PWS section 2.3.1.\n",
      "- The applicant is required to comply with the content requirements outlined in PWS Section 2.3.2.1\n",
      "- The applicant must demonstrate innovative approaches to career path development within ARPA-H's organizational framework\n",
      "- The applicant shall prioritize strategies that are clear, technically sound, and demonstrate a practical approach to aligning individual career aspirations with ARPA-H's mission and operational needs\n",
      "- The applicant must adhere to the Outplacement Services Framework requirements outlined in PWS Section 2.3.5.1\n",
      "- The applicant is required to design and implement effective training programs supportive of ARPA-H's requirements\n",
      "- The applicant must meet the requirements of PWS Section 2.3.3.2\n",
      "- The applicant shall adhere to the Proposed Customize Training Framework Guide in PWS Exhibit 1\n",
      "- The applicant must meet the requirements specified in PWS Section 2.3.4.1 for Leadership Coaching\n",
      "- The applicant is required to manage the project according to their PMP, which must address and meet the requirements detailed in PWS Section 2.3.3.1\n",
      "- The applicant must have a strategy for continuous improvement and innovation as detailed in PWS Section 2.3.3.2\n",
      "- The applicant is required to include and provide quality control and management oversight as outlined in PWS Sections 2.3.3.4 and 2.5.1\n",
      "- The applicant must have effective quality assurance procedures to ensure contract quality and management oversight\n",
      "- The applicant is required to have a Contingency Plan addressing contract contingencies, excusable delays, business disruptions, and potential service interruptions as per PWS Sections 2.3.3.8\n",
      "- The applicant must provide plans, strategies, or frameworks with sufficient detail to enable a comprehensive assessment of the approach\n",
      "- The applicant must identify, mitigate, and manage risks in accordance with their proposed methods and capabilities\n",
      "- The risk assessment will be integrated with the evaluation of the approach and will not be treated as a separate criterion\n",
      "- Corporate experience in working with ARPA organizations or start-up companies is highly desirable and may be favorably considered\n",
      "- The combined technical/risk rating methodology will consider risk in conjunction with strengths, weaknesses, and deficiencies identified in the quotes\n",
      "- Submissions that are incomplete or provide insufficient detail for a thorough evaluation will be subject to a marginal or unacceptable rating based on the inadequacy of detail.\n",
      "- The applicant is required to provide a good quote that indicates a thorough approach and understanding of the requirements\n",
      "- The applicant must provide an acceptable quote that meets requirements and indicates an adequate approach and understanding of the requirements\n",
      "- The applicant shall not provide a marginal quote that has not demonstrated an adequate approach and understanding of the requirements\n",
      "- The applicant must not provide an unacceptable quote that does not meet requirements of the solicitation\n",
      "- Quotes receiving a rating of Marginal or Unacceptable will be ineligible for award\n",
      "- The recency, relevancy, and quality of past performance shall be considered in evaluating the Past Performance evaluation factor\n",
      "- The applicant is required to exhibit similar work required by this RFQ as detailed in the PWS.\n",
      "- The applicant must provide Vendor Past Performance references in Volume 2 of the vendor's proposal.\n",
      "- The applicant must have a record of recent and relevant past performance.\n",
      "- The applicant's past performance will be evaluated for recency, with performance within the last three years being considered recent.\n",
      "- The applicant is required to have a past performance rating in accordance with FAR 15.305(a)(2)(iv).\n",
      "- The applicant is required to provide information on past performance relevancy.\n",
      "- The applicant must be assigned one of the following relevancy ratings: Very Relevant, Relevant, Somewhat Relevant, or Not Relevant.\n",
      "- The applicant must have an overall confidence rating assigned based on past performance information collected.\n",
      "- The applicant shall have an overall confidence assessment rating assigned based on the level of confidence the Government has in their ability to successfully perform the requirements.\n",
      "- The applicant must be assigned one of the following confidence assessment ratings: Substantial Confidence.\n",
      "- The applicant is required to have a recent/relevant performance record\n",
      "- The applicant must have a satisfactory confidence rating\n",
      "- The applicant must not receive a rating of less than Neutral Confidence\n",
      "- The applicant's price quote must be evaluated for fairness and reasonability\n",
      "- The applicant must represent the overall best value to meet the Government's needs\n"
     ]
    },
    {
     "data": {
      "text/plain": [
       "[None, None, None, None, None, None, None, None]"
      ]
     },
     "execution_count": 20,
     "metadata": {},
     "output_type": "execute_result"
    }
   ],
   "source": [
    "[print(de.state_manager.get_current_state().metadata['compliances'][i]) for i in range(len(de.state_manager.get_current_state().metadata['compliances']))]"
   ]
  },
  {
   "cell_type": "code",
   "execution_count": null,
   "metadata": {},
   "outputs": [],
   "source": []
  }
 ],
 "metadata": {
  "kernelspec": {
   "display_name": "venv",
   "language": "python",
   "name": "python3"
  },
  "language_info": {
   "codemirror_mode": {
    "name": "ipython",
    "version": 3
   },
   "file_extension": ".py",
   "mimetype": "text/x-python",
   "name": "python",
   "nbconvert_exporter": "python",
   "pygments_lexer": "ipython3",
   "version": "3.11.5"
  }
 },
 "nbformat": 4,
 "nbformat_minor": 2
}
