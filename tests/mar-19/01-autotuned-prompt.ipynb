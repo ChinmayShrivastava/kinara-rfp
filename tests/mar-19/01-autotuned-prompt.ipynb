{
 "cells": [
  {
   "cell_type": "code",
   "execution_count": 1,
   "metadata": {},
   "outputs": [],
   "source": [
    "# Prompt: Based on the giveen excerpt from an RFP, generate a list of exhaustive standalone compliance requirements for the applicant.\n",
    "# Task: As an RFP agent, generate the compliance requirements by reading the RFP application in chunks for the applicant to use as a checklist while drafting the application proposal."
   ]
  },
  {
   "cell_type": "code",
   "execution_count": 3,
   "metadata": {},
   "outputs": [
    {
     "ename": "KeyboardInterrupt",
     "evalue": "Interrupted by user",
     "output_type": "error",
     "traceback": [
      "\u001b[0;31m---------------------------------------------------------------------------\u001b[0m",
      "\u001b[0;31mKeyboardInterrupt\u001b[0m                         Traceback (most recent call last)",
      "Cell \u001b[0;32mIn[3], line 27\u001b[0m\n\u001b[1;32m      3\u001b[0m prompt \u001b[38;5;241m=\u001b[39m \u001b[38;5;124m'''\u001b[39m\u001b[38;5;124mGiven the following compliances, return any compliances that are required while writing an application for the RFP.\u001b[39m\n\u001b[1;32m      4\u001b[0m \u001b[38;5;124mReturn None, if no such compliances are found.\u001b[39m\n\u001b[1;32m      5\u001b[0m \u001b[38;5;124m--------------------\u001b[39m\n\u001b[0;32m   (...)\u001b[0m\n\u001b[1;32m     21\u001b[0m \u001b[38;5;124m--------------------\u001b[39m\n\u001b[1;32m     22\u001b[0m \u001b[38;5;124mResponse:\u001b[39m\u001b[38;5;124m'''\u001b[39m\n\u001b[1;32m     24\u001b[0m task \u001b[38;5;241m=\u001b[39m \u001b[38;5;124m\"\"\"\u001b[39m\u001b[38;5;124mYou will be given excerpts from an RFP application. THe excerpts can be a paragraph or multiple paragraphs. You are required to generate a list of exhaustive standalone compliance requirements for the applicant. This list will be used as a checklist while drafting the application proposal. If no such compliances are found, return None.\u001b[39m\n\u001b[1;32m     25\u001b[0m \u001b[38;5;124mPleae leave out anything that is additional and not a compliance requirement.\u001b[39m\u001b[38;5;124m\"\"\"\u001b[39m\n\u001b[0;32m---> 27\u001b[0m tuner \u001b[38;5;241m=\u001b[39m \u001b[43mTunePrompt\u001b[49m\u001b[43m(\u001b[49m\u001b[43m)\u001b[49m\n\u001b[1;32m     29\u001b[0m tuner()\n",
      "File \u001b[0;32m~/Documents/GitHub/kinara-rfp/venv/lib/python3.11/site-packages/prompt_autotune/TunePrompt.py:26\u001b[0m, in \u001b[0;36mTunePrompt.__init__\u001b[0;34m(self, prompt, task, examples, powerllm, llm, number_of_examples, number_of_cycles, verbose)\u001b[0m\n\u001b[1;32m     14\u001b[0m \u001b[38;5;28;01mdef\u001b[39;00m \u001b[38;5;21m__init__\u001b[39m(\n\u001b[1;32m     15\u001b[0m     \u001b[38;5;28mself\u001b[39m,\n\u001b[1;32m     16\u001b[0m     prompt: \u001b[38;5;28mstr\u001b[39m \u001b[38;5;241m=\u001b[39m \u001b[38;5;28;01mNone\u001b[39;00m,\n\u001b[0;32m   (...)\u001b[0m\n\u001b[1;32m     23\u001b[0m     verbose: \u001b[38;5;28mbool\u001b[39m \u001b[38;5;241m=\u001b[39m \u001b[38;5;28;01mTrue\u001b[39;00m\n\u001b[1;32m     24\u001b[0m ) \u001b[38;5;241m-\u001b[39m\u001b[38;5;241m>\u001b[39m \u001b[38;5;28;01mNone\u001b[39;00m:\n\u001b[1;32m     25\u001b[0m     \u001b[38;5;28;01mif\u001b[39;00m task \u001b[38;5;129;01mis\u001b[39;00m \u001b[38;5;28;01mNone\u001b[39;00m:\n\u001b[0;32m---> 26\u001b[0m         task \u001b[38;5;241m=\u001b[39m \u001b[38;5;28;43minput\u001b[39;49m\u001b[43m(\u001b[49m\u001b[38;5;124;43m\"\u001b[39;49m\u001b[38;5;124;43mEnter task: \u001b[39;49m\u001b[38;5;124;43m\"\u001b[39;49m\u001b[43m)\u001b[49m\n\u001b[1;32m     27\u001b[0m     \u001b[38;5;28;01mif\u001b[39;00m prompt \u001b[38;5;129;01mis\u001b[39;00m \u001b[38;5;28;01mNone\u001b[39;00m:\n\u001b[1;32m     28\u001b[0m         prompt \u001b[38;5;241m=\u001b[39m \u001b[38;5;28minput\u001b[39m(\u001b[38;5;124m\"\u001b[39m\u001b[38;5;124mEnter prompt: \u001b[39m\u001b[38;5;124m\"\u001b[39m)\n",
      "File \u001b[0;32m~/Documents/GitHub/kinara-rfp/venv/lib/python3.11/site-packages/ipykernel/kernelbase.py:1282\u001b[0m, in \u001b[0;36mKernel.raw_input\u001b[0;34m(self, prompt)\u001b[0m\n\u001b[1;32m   1280\u001b[0m     msg \u001b[38;5;241m=\u001b[39m \u001b[38;5;124m\"\u001b[39m\u001b[38;5;124mraw_input was called, but this frontend does not support input requests.\u001b[39m\u001b[38;5;124m\"\u001b[39m\n\u001b[1;32m   1281\u001b[0m     \u001b[38;5;28;01mraise\u001b[39;00m StdinNotImplementedError(msg)\n\u001b[0;32m-> 1282\u001b[0m \u001b[38;5;28;01mreturn\u001b[39;00m \u001b[38;5;28;43mself\u001b[39;49m\u001b[38;5;241;43m.\u001b[39;49m\u001b[43m_input_request\u001b[49m\u001b[43m(\u001b[49m\n\u001b[1;32m   1283\u001b[0m \u001b[43m    \u001b[49m\u001b[38;5;28;43mstr\u001b[39;49m\u001b[43m(\u001b[49m\u001b[43mprompt\u001b[49m\u001b[43m)\u001b[49m\u001b[43m,\u001b[49m\n\u001b[1;32m   1284\u001b[0m \u001b[43m    \u001b[49m\u001b[38;5;28;43mself\u001b[39;49m\u001b[38;5;241;43m.\u001b[39;49m\u001b[43m_parent_ident\u001b[49m\u001b[43m[\u001b[49m\u001b[38;5;124;43m\"\u001b[39;49m\u001b[38;5;124;43mshell\u001b[39;49m\u001b[38;5;124;43m\"\u001b[39;49m\u001b[43m]\u001b[49m\u001b[43m,\u001b[49m\n\u001b[1;32m   1285\u001b[0m \u001b[43m    \u001b[49m\u001b[38;5;28;43mself\u001b[39;49m\u001b[38;5;241;43m.\u001b[39;49m\u001b[43mget_parent\u001b[49m\u001b[43m(\u001b[49m\u001b[38;5;124;43m\"\u001b[39;49m\u001b[38;5;124;43mshell\u001b[39;49m\u001b[38;5;124;43m\"\u001b[39;49m\u001b[43m)\u001b[49m\u001b[43m,\u001b[49m\n\u001b[1;32m   1286\u001b[0m \u001b[43m    \u001b[49m\u001b[43mpassword\u001b[49m\u001b[38;5;241;43m=\u001b[39;49m\u001b[38;5;28;43;01mFalse\u001b[39;49;00m\u001b[43m,\u001b[49m\n\u001b[1;32m   1287\u001b[0m \u001b[43m\u001b[49m\u001b[43m)\u001b[49m\n",
      "File \u001b[0;32m~/Documents/GitHub/kinara-rfp/venv/lib/python3.11/site-packages/ipykernel/kernelbase.py:1325\u001b[0m, in \u001b[0;36mKernel._input_request\u001b[0;34m(self, prompt, ident, parent, password)\u001b[0m\n\u001b[1;32m   1322\u001b[0m \u001b[38;5;28;01mexcept\u001b[39;00m \u001b[38;5;167;01mKeyboardInterrupt\u001b[39;00m:\n\u001b[1;32m   1323\u001b[0m     \u001b[38;5;66;03m# re-raise KeyboardInterrupt, to truncate traceback\u001b[39;00m\n\u001b[1;32m   1324\u001b[0m     msg \u001b[38;5;241m=\u001b[39m \u001b[38;5;124m\"\u001b[39m\u001b[38;5;124mInterrupted by user\u001b[39m\u001b[38;5;124m\"\u001b[39m\n\u001b[0;32m-> 1325\u001b[0m     \u001b[38;5;28;01mraise\u001b[39;00m \u001b[38;5;167;01mKeyboardInterrupt\u001b[39;00m(msg) \u001b[38;5;28;01mfrom\u001b[39;00m \u001b[38;5;28;01mNone\u001b[39;00m\n\u001b[1;32m   1326\u001b[0m \u001b[38;5;28;01mexcept\u001b[39;00m \u001b[38;5;167;01mException\u001b[39;00m:\n\u001b[1;32m   1327\u001b[0m     \u001b[38;5;28mself\u001b[39m\u001b[38;5;241m.\u001b[39mlog\u001b[38;5;241m.\u001b[39mwarning(\u001b[38;5;124m\"\u001b[39m\u001b[38;5;124mInvalid Message:\u001b[39m\u001b[38;5;124m\"\u001b[39m, exc_info\u001b[38;5;241m=\u001b[39m\u001b[38;5;28;01mTrue\u001b[39;00m)\n",
      "\u001b[0;31mKeyboardInterrupt\u001b[0m: Interrupted by user"
     ]
    }
   ],
   "source": [
    "from prompt_autotune import TunePrompt\n",
    "\n",
    "prompt = '''Given the following compliances, return any compliances that are required while writing an application for the RFP.\n",
    "Return None, if no such compliances are found.\n",
    "--------------------\n",
    "Example 1:\n",
    "Given compliances:\n",
    "- Deadline: 08/31/2023 1700 ET\n",
    "- Offer due date: 08/31/2023 1700 ET\n",
    "- Submit invoices to address shown in block 18a\n",
    "Response:\n",
    "- Deadline is 5:00 PM ET on August 31, 2023\n",
    "--------------------\n",
    "Example 2:\n",
    "Given compliances:\n",
    "- Any deviation or delay upon the agreed upon delivery time will be recorded and influence the contractor closing assessment made by the COR\n",
    "- Offeror must provide description of service(s) or product(s)\n",
    "- Number and Names of Sub-contractors, if any\n",
    "Response:\n",
    "- None\n",
    "--------------------\n",
    "Response:'''\n",
    "\n",
    "task = \"\"\"You will be given excerpts from an RFP application. THe excerpts can be a paragraph or multiple paragraphs. You are required to generate a list of exhaustive standalone compliance requirements for the applicant. This list will be used as a checklist while drafting the application proposal. If no such compliances are found, return None.\n",
    "Pleae leave out anything that is additional and not a compliance requirement.\"\"\"\n",
    "\n",
    "tuner = TunePrompt()\n",
    "\n",
    "tuner()"
   ]
  },
  {
   "cell_type": "code",
   "execution_count": 3,
   "metadata": {},
   "outputs": [
    {
     "data": {
      "text/plain": [
       "[<prompt_autotune.GenerateExamples.Example at 0x125459350>,\n",
       " <prompt_autotune.GenerateExamples.Example at 0x125e751d0>,\n",
       " <prompt_autotune.GenerateExamples.Example at 0x1255a8690>,\n",
       " <prompt_autotune.GenerateExamples.Example at 0x125e49650>,\n",
       " <prompt_autotune.GenerateExamples.Example at 0x125e6dc50>,\n",
       " <prompt_autotune.GenerateExamples.Example at 0x125e6d850>,\n",
       " <prompt_autotune.GenerateExamples.Example at 0x125e6d8d0>,\n",
       " <prompt_autotune.GenerateExamples.Example at 0x125e6d6d0>,\n",
       " <prompt_autotune.GenerateExamples.Example at 0x125e87fd0>]"
      ]
     },
     "execution_count": 3,
     "metadata": {},
     "output_type": "execute_result"
    }
   ],
   "source": [
    "tuner.examples"
   ]
  },
  {
   "cell_type": "code",
   "execution_count": 5,
   "metadata": {},
   "outputs": [
    {
     "data": {
      "text/markdown": [
       "\"Based on the provided RFP excerpt, identify and list the key compliance requirements under the heading 'Compliance Requirement:'. Ensure to replicate the exact wording, specificity, and tense from the excerpt. Avoid splitting a single requirement into multiple points and refrain from adding extraneous details.\""
      ],
      "text/plain": [
       "<IPython.core.display.Markdown object>"
      ]
     },
     "metadata": {},
     "output_type": "display_data"
    }
   ],
   "source": [
    "from IPython.display import display, Markdown\n",
    "\n",
    "display(Markdown(tuner.prompt))"
   ]
  },
  {
   "cell_type": "code",
   "execution_count": 19,
   "metadata": {},
   "outputs": [
    {
     "data": {
      "text/plain": [
       "[('1',\n",
       "  'The project requires the applicant to adhere to all local environmental regulations, including waste management and emissions control. Additionally, the applicant must demonstrate a commitment to sustainable practices throughout the project lifecycle.',\n",
       "  '\\n1. Adhere to local environmental regulations.\\n2. Comply with waste management regulations.\\n3. Comply with emissions control regulations.\\n4. Demonstrate a commitment to sustainable practices throughout the project lifecycle.'),\n",
       " ('2',\n",
       "  'Applicants must ensure that all employees working on the project have undergone safety training relevant to their roles. Furthermore, the project must comply with the national standards for workplace safety.',\n",
       "  '\\n1. Ensure all employees have undergone relevant safety training.\\n2. Comply with national standards for workplace safety.'),\n",
       " ('3',\n",
       "  'The proposal should include a detailed budget that accounts for all costs associated with the project. This includes, but is not limited to, labor, materials, and any subcontracting fees.',\n",
       "  '\\n1. Include a detailed budget in the proposal.\\n2. Account for labor costs.\\n3. Account for material costs.\\n4. Account for subcontracting fees.'),\n",
       " ('4',\n",
       "  'No specific compliance requirements are mentioned in the provided excerpt.',\n",
       "  'None'),\n",
       " ('5',\n",
       "  \"The applicant is required to provide evidence of insurance coverage for the entire duration of the project. This includes liability insurance and worker's compensation insurance.\",\n",
       "  \"\\n1. Provide evidence of insurance coverage for the project duration.\\n2. Provide evidence of liability insurance.\\n3. Provide evidence of worker's compensation insurance.\"),\n",
       " ('6',\n",
       "  'All software developed as part of the project must be compliant with the General Data Protection Regulation (GDPR).',\n",
       "  '\\n1. Ensure all software developed is compliant with the General Data Protection Regulation (GDPR).'),\n",
       " ('7',\n",
       "  'The project must not only comply with current industry standards but also anticipate future regulatory changes and incorporate flexibility to adapt accordingly.',\n",
       "  '\\n1. Comply with current industry standards.\\n2. Anticipate future regulatory changes.\\n3. Incorporate flexibility to adapt to future regulatory changes.'),\n",
       " ('8',\n",
       "  'Applicants are required to have a minimum of five years of experience in the field and must provide references from previous projects of similar scope and complexity.',\n",
       "  '\\n1. Have a minimum of five years of experience in the field.\\n2. Provide references from previous projects of similar scope and complexity.'),\n",
       " ('9',\n",
       "  'The application must be submitted in English and include three copies of all documents. Additionally, all technical diagrams must be provided in both PDF and editable formats.',\n",
       "  '\\n1. Submit the application in English.\\n2. Include three copies of all documents.\\n3. Provide all technical diagrams in PDF format.\\n4. Provide all technical diagrams in an editable format.'),\n",
       " ('10',\n",
       "  'The project requires compliance with the International Standards Organization (ISO) 9001 Quality Management System standards. Additionally, the project must be completed within a 12-month timeframe.',\n",
       "  '\\n1. Comply with ISO 9001 Quality Management System standards.\\n2. Complete the project within a 12-month timeframe.')]"
      ]
     },
     "execution_count": 19,
     "metadata": {},
     "output_type": "execute_result"
    }
   ],
   "source": [
    "examples = \"\"\"---\n",
    "Example 1:\n",
    "INPUT: The project requires the applicant to adhere to all local environmental regulations, including waste management and emissions control. Additionally, the applicant must demonstrate a commitment to sustainable practices throughout the project lifecycle.\n",
    "\n",
    "OUTPUT: \n",
    "1. Adhere to local environmental regulations.\n",
    "2. Comply with waste management regulations.\n",
    "3. Comply with emissions control regulations.\n",
    "4. Demonstrate a commitment to sustainable practices throughout the project lifecycle.\n",
    "\n",
    "---\n",
    "Example 2:\n",
    "INPUT: Applicants must ensure that all employees working on the project have undergone safety training relevant to their roles. Furthermore, the project must comply with the national standards for workplace safety.\n",
    "\n",
    "OUTPUT: \n",
    "1. Ensure all employees have undergone relevant safety training.\n",
    "2. Comply with national standards for workplace safety.\n",
    "\n",
    "---\n",
    "Example 3:\n",
    "INPUT: The proposal should include a detailed budget that accounts for all costs associated with the project. This includes, but is not limited to, labor, materials, and any subcontracting fees.\n",
    "\n",
    "OUTPUT: \n",
    "1. Include a detailed budget in the proposal.\n",
    "2. Account for labor costs.\n",
    "3. Account for material costs.\n",
    "4. Account for subcontracting fees.\n",
    "\n",
    "---\n",
    "Example 4:\n",
    "INPUT: No specific compliance requirements are mentioned in the provided excerpt.\n",
    "\n",
    "OUTPUT: None\n",
    "\n",
    "---\n",
    "Example 5:\n",
    "INPUT: The applicant is required to provide evidence of insurance coverage for the entire duration of the project. This includes liability insurance and worker's compensation insurance.\n",
    "\n",
    "OUTPUT: \n",
    "1. Provide evidence of insurance coverage for the project duration.\n",
    "2. Provide evidence of liability insurance.\n",
    "3. Provide evidence of worker's compensation insurance.\n",
    "\n",
    "---\n",
    "Example 6:\n",
    "INPUT: All software developed as part of the project must be compliant with the General Data Protection Regulation (GDPR).\n",
    "\n",
    "OUTPUT: \n",
    "1. Ensure all software developed is compliant with the General Data Protection Regulation (GDPR).\n",
    "\n",
    "---\n",
    "Example 7:\n",
    "INPUT: The project must not only comply with current industry standards but also anticipate future regulatory changes and incorporate flexibility to adapt accordingly.\n",
    "\n",
    "OUTPUT: \n",
    "1. Comply with current industry standards.\n",
    "2. Anticipate future regulatory changes.\n",
    "3. Incorporate flexibility to adapt to future regulatory changes.\n",
    "\n",
    "---\n",
    "Example 8:\n",
    "INPUT: Applicants are required to have a minimum of five years of experience in the field and must provide references from previous projects of similar scope and complexity.\n",
    "\n",
    "OUTPUT: \n",
    "1. Have a minimum of five years of experience in the field.\n",
    "2. Provide references from previous projects of similar scope and complexity.\n",
    "\n",
    "---\n",
    "Example 9:\n",
    "INPUT: The application must be submitted in English and include three copies of all documents. Additionally, all technical diagrams must be provided in both PDF and editable formats.\n",
    "\n",
    "OUTPUT: \n",
    "1. Submit the application in English.\n",
    "2. Include three copies of all documents.\n",
    "3. Provide all technical diagrams in PDF format.\n",
    "4. Provide all technical diagrams in an editable format.\n",
    "\n",
    "---\n",
    "Example 10:\n",
    "INPUT: The project requires compliance with the International Standards Organization (ISO) 9001 Quality Management System standards. Additionally, the project must be completed within a 12-month timeframe.\n",
    "\n",
    "OUTPUT: \n",
    "1. Comply with ISO 9001 Quality Management System standards.\n",
    "2. Complete the project within a 12-month timeframe.\n",
    "\n",
    "\"\"\"\n",
    "\n",
    "import re\n",
    "# extract a list of tuples containing the id, input, and output for each example. Id can be any number 0-99\n",
    "example_regex = re.compile(r'Example (\\d+):\\nINPUT: (.+?)\\n\\nOUTPUT: (.+?)\\n\\n', re.DOTALL)\n",
    "examples = example_regex.findall(examples)\n",
    "examples"
   ]
  },
  {
   "cell_type": "code",
   "execution_count": 20,
   "metadata": {},
   "outputs": [
    {
     "data": {
      "text/plain": [
       "[<prompt_autotune.GenerateExamples.Example at 0x129ca99d0>,\n",
       " <prompt_autotune.GenerateExamples.Example at 0x129caba90>,\n",
       " <prompt_autotune.GenerateExamples.Example at 0x129caaa90>,\n",
       " <prompt_autotune.GenerateExamples.Example at 0x129ca90d0>,\n",
       " <prompt_autotune.GenerateExamples.Example at 0x129cab9d0>,\n",
       " <prompt_autotune.GenerateExamples.Example at 0x129cab390>,\n",
       " <prompt_autotune.GenerateExamples.Example at 0x129cabb50>,\n",
       " <prompt_autotune.GenerateExamples.Example at 0x129ca9610>,\n",
       " <prompt_autotune.GenerateExamples.Example at 0x129cabf90>,\n",
       " <prompt_autotune.GenerateExamples.Example at 0x129caae10>]"
      ]
     },
     "execution_count": 20,
     "metadata": {},
     "output_type": "execute_result"
    }
   ],
   "source": [
    "from prompt_autotune.GenerateExamples import Example\n",
    "\n",
    "examples = [Example(id=int(i[0]), input=i[1], output=i[2]) for i in examples]\n",
    "examples\n"
   ]
  },
  {
   "cell_type": "code",
   "execution_count": 21,
   "metadata": {},
   "outputs": [
    {
     "name": "stdout",
     "output_type": "stream",
     "text": [
      "Example: 1\n",
      "Input: The project requires the applicant to adhere to all local environmental regulations, including waste management and emissions control. Additionally, the applicant must demonstrate a commitment to sustainable practices throughout the project lifecycle.\n",
      "Output: \n",
      "1. Adhere to local environmental regulations.\n",
      "2. Comply with waste management regulations.\n",
      "3. Comply with emissions control regulations.\n",
      "4. Demonstrate a commitment to sustainable practices throughout the project lifecycle.\n",
      "Example: 2\n",
      "Input: Applicants must ensure that all employees working on the project have undergone safety training relevant to their roles. Furthermore, the project must comply with the national standards for workplace safety.\n",
      "Output: \n",
      "1. Ensure all employees have undergone relevant safety training.\n",
      "2. Comply with national standards for workplace safety.\n",
      "Example: 3\n",
      "Input: The proposal should include a detailed budget that accounts for all costs associated with the project. This includes, but is not limited to, labor, materials, and any subcontracting fees.\n",
      "Output: \n",
      "1. Include a detailed budget in the proposal.\n",
      "2. Account for labor costs.\n",
      "3. Account for material costs.\n",
      "4. Account for subcontracting fees.\n",
      "Example: 4\n",
      "Input: No specific compliance requirements are mentioned in the provided excerpt.\n",
      "Output: None\n",
      "Example: 5\n",
      "Input: The applicant is required to provide evidence of insurance coverage for the entire duration of the project. This includes liability insurance and worker's compensation insurance.\n",
      "Output: \n",
      "1. Provide evidence of insurance coverage for the project duration.\n",
      "2. Provide evidence of liability insurance.\n",
      "3. Provide evidence of worker's compensation insurance.\n",
      "Example: 6\n",
      "Input: All software developed as part of the project must be compliant with the General Data Protection Regulation (GDPR).\n",
      "Output: \n",
      "1. Ensure all software developed is compliant with the General Data Protection Regulation (GDPR).\n",
      "Example: 7\n",
      "Input: The project must not only comply with current industry standards but also anticipate future regulatory changes and incorporate flexibility to adapt accordingly.\n",
      "Output: \n",
      "1. Comply with current industry standards.\n",
      "2. Anticipate future regulatory changes.\n",
      "3. Incorporate flexibility to adapt to future regulatory changes.\n",
      "Example: 8\n",
      "Input: Applicants are required to have a minimum of five years of experience in the field and must provide references from previous projects of similar scope and complexity.\n",
      "Output: \n",
      "1. Have a minimum of five years of experience in the field.\n",
      "2. Provide references from previous projects of similar scope and complexity.\n",
      "Example: 9\n",
      "Input: The application must be submitted in English and include three copies of all documents. Additionally, all technical diagrams must be provided in both PDF and editable formats.\n",
      "Output: \n",
      "1. Submit the application in English.\n",
      "2. Include three copies of all documents.\n",
      "3. Provide all technical diagrams in PDF format.\n",
      "4. Provide all technical diagrams in an editable format.\n",
      "Example: 10\n",
      "Input: The project requires compliance with the International Standards Organization (ISO) 9001 Quality Management System standards. Additionally, the project must be completed within a 12-month timeframe.\n",
      "Output: \n",
      "1. Comply with ISO 9001 Quality Management System standards.\n",
      "2. Complete the project within a 12-month timeframe.\n"
     ]
    },
    {
     "name": "stderr",
     "output_type": "stream",
     "text": [
      "Generating responses for cycle 0\n",
      "Generating responses for cycle 0\n",
      "INFO:prompt_autotune.TunePrompt:Generating responses for cycle 0\n",
      "100%|██████████| 10/10 [00:11<00:00,  1.15s/it]\n",
      "Evaluating responses for cycle 0\n",
      "Evaluating responses for cycle 0\n",
      "INFO:prompt_autotune.TunePrompt:Evaluating responses for cycle 0\n",
      "Old prompt: Given the follo...\n",
      "Old prompt: Given the follo...\n",
      "INFO:prompt_autotune.TunePrompt:Old prompt: Given the follo...\n",
      "New prompt: You will be pro...\n",
      "New prompt: You will be pro...\n",
      "INFO:prompt_autotune.TunePrompt:New prompt: You will be pro...\n",
      "Generating responses for cycle 1\n",
      "Generating responses for cycle 1\n",
      "INFO:prompt_autotune.TunePrompt:Generating responses for cycle 1\n",
      "100%|██████████| 10/10 [00:17<00:00,  1.77s/it]\n",
      "Evaluating responses for cycle 1\n",
      "Evaluating responses for cycle 1\n",
      "INFO:prompt_autotune.TunePrompt:Evaluating responses for cycle 1\n",
      "Old prompt: You will be pro...\n",
      "Old prompt: You will be pro...\n",
      "INFO:prompt_autotune.TunePrompt:Old prompt: You will be pro...\n",
      "New prompt: You will be giv...\n",
      "New prompt: You will be giv...\n",
      "INFO:prompt_autotune.TunePrompt:New prompt: You will be giv...\n",
      "Generating responses for cycle 2\n",
      "Generating responses for cycle 2\n",
      "INFO:prompt_autotune.TunePrompt:Generating responses for cycle 2\n",
      "100%|██████████| 10/10 [00:19<00:00,  1.98s/it]\n",
      "Evaluating responses for cycle 2\n",
      "Evaluating responses for cycle 2\n",
      "INFO:prompt_autotune.TunePrompt:Evaluating responses for cycle 2\n",
      "Old prompt: You will be giv...\n",
      "Old prompt: You will be giv...\n",
      "INFO:prompt_autotune.TunePrompt:Old prompt: You will be giv...\n",
      "New prompt: You will be giv...\n",
      "New prompt: You will be giv...\n",
      "INFO:prompt_autotune.TunePrompt:New prompt: You will be giv...\n"
     ]
    }
   ],
   "source": [
    "from prompt_autotune import TunePrompt\n",
    "\n",
    "prompt = '''Given the following compliances, return any compliances that are required while writing an application for the RFP.\n",
    "Return None, if no such compliances are found.\n",
    "--------------------\n",
    "Example 1:\n",
    "Given compliances:\n",
    "- Deadline: 08/31/2023 1700 ET\n",
    "- Offer due date: 08/31/2023 1700 ET\n",
    "- Submit invoices to address shown in block 18a\n",
    "Response:\n",
    "- Deadline is 5:00 PM ET on August 31, 2023\n",
    "--------------------\n",
    "Example 2:\n",
    "Given compliances:\n",
    "- Any deviation or delay upon the agreed upon delivery time will be recorded and influence the contractor closing assessment made by the COR\n",
    "- Offeror must provide description of service(s) or product(s)\n",
    "- Number and Names of Sub-contractors, if any\n",
    "Response:\n",
    "- None\n",
    "--------------------\n",
    "Response:'''\n",
    "\n",
    "task = \"\"\"You will be given excerpts from an RFP application. THe excerpts can be a paragraph or multiple paragraphs. You are required to generate a list of exhaustive standalone compliance requirements for the applicant. This list will be used as a checklist while drafting the application proposal. If no such compliances are found, return None.\n",
    "Pleae leave out anything that is additional and not a compliance requirement.\"\"\"\n",
    "\n",
    "tuner = TunePrompt(\n",
    "    prompt=prompt,\n",
    "    task=task,\n",
    "    examples=examples\n",
    ")\n",
    "\n",
    "tuner()"
   ]
  },
  {
   "cell_type": "code",
   "execution_count": 24,
   "metadata": {},
   "outputs": [
    {
     "data": {
      "text/markdown": [
       "You will be given excerpts from an RFP application. Your task is to extract all compliance requirements that the applicant needs to meet while drafting the proposal. Break down complex requirements into simpler, standalone ones, rephrase them into an actionable form, and identify all requirements even if they are embedded within a sentence or phrase. If no requirements are found, return 'None'. Ignore any information that is not a compliance requirement.\n",
       "\n",
       "Example 1:\n",
       "Excerpt:\n",
       "- Deadline: 08/31/2023 1700 ET\n",
       "- Offer due date: 08/31/2023 1700 ET\n",
       "- Submit invoices to address shown in block 18a\n",
       "Response:\n",
       "- Submit the application by August 31, 2023, 5:00 PM ET\n",
       "- Send invoices to the address in block 18a\n",
       "\n",
       "Example 2:\n",
       "Excerpt:\n",
       "- Any deviation or delay upon the agreed upon delivery time will be recorded and influence the contractor closing assessment made by the COR\n",
       "- Offeror must provide description of service(s) or product(s)\n",
       "- Number and Names of Sub-contractors, if any\n",
       "Response:\n",
       "- Ensure no deviation or delay from the agreed delivery time\n",
       "- Provide a description of the service(s) or product(s)\n",
       "- List the number and names of any sub-contractors, if any"
      ],
      "text/plain": [
       "<IPython.core.display.Markdown object>"
      ]
     },
     "metadata": {},
     "output_type": "display_data"
    }
   ],
   "source": [
    "from IPython.display import display, Markdown\n",
    "\n",
    "display(Markdown(tuner.prompt))"
   ]
  },
  {
   "cell_type": "code",
   "execution_count": null,
   "metadata": {},
   "outputs": [],
   "source": []
  },
  {
   "cell_type": "code",
   "execution_count": null,
   "metadata": {},
   "outputs": [],
   "source": []
  }
 ],
 "metadata": {
  "kernelspec": {
   "display_name": "venv",
   "language": "python",
   "name": "python3"
  },
  "language_info": {
   "codemirror_mode": {
    "name": "ipython",
    "version": 3
   },
   "file_extension": ".py",
   "mimetype": "text/x-python",
   "name": "python",
   "nbconvert_exporter": "python",
   "pygments_lexer": "ipython3",
   "version": "3.11.5"
  }
 },
 "nbformat": 4,
 "nbformat_minor": 2
}
