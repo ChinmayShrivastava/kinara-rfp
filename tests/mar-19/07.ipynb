{
 "cells": [
  {
   "cell_type": "code",
   "execution_count": 1,
   "metadata": {},
   "outputs": [
    {
     "name": "stdout",
     "output_type": "stream",
     "text": [
      "/Users/chinmayshrivastava/Documents/GitHub/kinara-rfp\n"
     ]
    }
   ],
   "source": [
    "import sys\n",
    "import os\n",
    "\n",
    "# moce two directories up and make that current directory\n",
    "os.chdir(\"../..\")\n",
    "# print current directory\n",
    "print(os.getcwd())"
   ]
  },
  {
   "cell_type": "code",
   "execution_count": 2,
   "metadata": {},
   "outputs": [],
   "source": [
    "from llama_index.llms.openai import OpenAI\n",
    "llm = OpenAI(model=\"gpt-3.5-turbo\")"
   ]
  },
  {
   "cell_type": "code",
   "execution_count": 3,
   "metadata": {},
   "outputs": [
    {
     "data": {
      "text/plain": [
       "{'applies_directly_to_the_rfp_submission': False,\n",
       " 'doesn’t_apply_to_the_rfp_submission': True,\n",
       " 'is_mandatory': False,\n",
       " 'other': False}"
      ]
     },
     "execution_count": 3,
     "metadata": {},
     "output_type": "execute_result"
    }
   ],
   "source": [
    "from govrfp.rfpinsights.llmannotations import llmannotations\n",
    "\n",
    "test_query = \"What is the purpose of the RFP?\"\n",
    "llmannotations(test_query, llm)"
   ]
  },
  {
   "cell_type": "code",
   "execution_count": null,
   "metadata": {},
   "outputs": [],
   "source": []
  },
  {
   "cell_type": "code",
   "execution_count": 4,
   "metadata": {},
   "outputs": [
    {
     "data": {
      "text/plain": [
       "['Submit a Concept Paper by 5:00 PM ET on the due date to be eligible for a Full Application',\n",
       " 'Register and submit application materials through EERE eXCHANGE at https://eere-eXCHANGE.energy.gov/',\n",
       " 'Designate primary and backup points-of-contact in EERE eXCHANGE for communication during award negotiations',\n",
       " 'Be responsive during award negotiations and meet negotiation deadlines',\n",
       " 'Register in SAM at https://www.sam.gov before submitting the application']"
      ]
     },
     "execution_count": 4,
     "metadata": {},
     "output_type": "execute_result"
    }
   ],
   "source": [
    "test_data_path = \"tests/mar-19/archive/new_critical_compliances.txt\"\n",
    "with open(test_data_path, 'r') as file:\n",
    "    test_data = file.readlines()\n",
    "test_data = [line.strip() for line in test_data]\n",
    "test_data = [line for line in test_data if line]\n",
    "test_data[:5]"
   ]
  },
  {
   "cell_type": "code",
   "execution_count": 5,
   "metadata": {},
   "outputs": [
    {
     "name": "stderr",
     "output_type": "stream",
     "text": [
      "100%|██████████| 938/938 [06:41<00:00,  2.33it/s]\n"
     ]
    }
   ],
   "source": [
    "import tqdm\n",
    "annotations = []\n",
    "for line in tqdm.tqdm(test_data):\n",
    "    annotations.append(llmannotations(line, llm))"
   ]
  },
  {
   "cell_type": "code",
   "execution_count": 6,
   "metadata": {},
   "outputs": [
    {
     "data": {
      "text/plain": [
       "172"
      ]
     },
     "execution_count": 6,
     "metadata": {},
     "output_type": "execute_result"
    }
   ],
   "source": [
    "ids  = []\n",
    "for index, annotation in enumerate(annotations):\n",
    "    if annotation['applies_directly_to_the_rfp_submission']:\n",
    "        ids.append(index)\n",
    "len(ids)"
   ]
  },
  {
   "cell_type": "code",
   "execution_count": 8,
   "metadata": {},
   "outputs": [
    {
     "name": "stdout",
     "output_type": "stream",
     "text": [
      "Submit a Concept Paper by 5:00 PM ET on the due date to be eligible for a Full Application\n",
      "Register and submit application materials through EERE eXCHANGE at https://eere-eXCHANGE.energy.gov/\n",
      "Designate primary and backup points-of-contact in EERE eXCHANGE for communication during award negotiations\n",
      "Register in SAM at https://www.sam.gov before submitting the application\n",
      "Adhere to the limitation on the number of concept papers and full applications eligible for review\n",
      "Complete the application process as outlined in section A\n",
      "Ensure the full application meets the content and form requirements in section D\n",
      "Include resumes as outlined in section D.iii\n",
      "Include letters of commitment as outlined in section D.iv\n",
      "Complete the SF-424: Application for Federal Assistance\n",
      "Complete the SF-LLL: Disclosure of Lobbying Activities\n",
      "Obtain a Unique Entity Identifier (UEI) and register with System for Award Management (SAM)\n",
      "Adhere to Submission Dates and Times\n",
      "Handle, label, package, and ship EOL Li-ion batteries according to Department of Transportation safety regulations\n",
      "- Ensure applications fall within the technical parameters specified in Sections I.A. and I.B. of the FOA\n",
      "- Include a Research and Development Community Benefits Plan (R&D Community Benefits Plan) that addresses advancing diversity, equity, inclusion, accessibility, energy equity, and investing in America's workforce in the application. See Section IV.D.xv. and Appendix G for more information on the R&D Community Benefits Plan content requirements.\n",
      "Ensure all iron, steel, manufactured goods, and construction materials used in infrastructure activities are produced in the United States\n",
      "Submit only new applications\n",
      "- Comply with the content and form requirements in Section IV of the FOA\n",
      "- Upload and submit the proposal to EERE eXCHANGE at https://eere-eXCHANGE.energy.gov\n",
      "- Submit the proposal by the deadline specified in the FOA\n",
      "- Revise or update submissions in EERE eXCHANGE until the deadline\n",
      "- Resubmit any changes made to Concept Papers, Full Applications, or Replies to Reviewer Comments before the deadline\n",
      "- Do not submit through other means than EERE eXCHANGE, after the deadline, or incomplete submissions\n",
      "Submit the application in multiple phases: Concept Paper and Full Application\n",
      "Concept Paper submission is required to be eligible for Full Application submission\n",
      "All submissions must adhere to specified form and content requirements, including maximum page lengths\n",
      "Submit documents in Adobe PDF format unless stated otherwise\n",
      "Documents must be in English and formatted to fit on 8.5\" x 11\" paper with one-inch margins on all sides\n",
      "Use Calibri typeface, black font color, and 12-point font size (10-point for figures/tables)\n",
      "Include a control number issued during the EERE eXCHANGE application process on every page header and in the file name\n",
      "Page numbers must be included in the footer of every page\n",
      "Ensure submissions do not exceed the specified maximum page limit, including all elements when printed using the specified formatting and single spacing.\n",
      "Do not exceed the maximum page lengths indicated\n",
      "Ensure no technical difficulties with submission prior to the FOA deadline\n",
      "Upload files to EERE eXCHANGE website with a maximum size of 50MB, larger files must be split and denoted accordingly\n",
      "Submit Concept Paper limited to a single concept or technology conforming to specified requirements and page limits\n",
      "Include project title, announcement Topic Area, technical and business points of contact, team member organizations, project location(s), and confidentiality statements on the cover page\n",
      "Submit a 1-page R&D Community Benefits Plan addressing DEIA, energy equity, and workforce investment\n",
      "Complete application forms on the EERE eXCHANGE website\n",
      "Do not deviate from the submission deadline stated on the FOA cover page\n",
      "Mark all Full Application documents with the control number issued to the applicant\n",
      "Ensure Full Applications meet the specified page limits\n",
      "Limit file names according to the specified format\n",
      "Submit the Technical Volume in PDF format, 30 pages\n",
      "Submit Resumes in PDF format, 3 pages each\n",
      "Provide Letters of Commitment in PDF format, 1 page each\n",
      "Submit Statement of Project Objectives in MS Word format, 7 pages\n",
      "Include SF-424 in PDF format\n",
      "Use Budget Justification Workbook in MS Excel format\n",
      "Use Subrecipient Budget Justification in MS Excel format\n",
      "Submit SF-LLL Disclosure of Lobbying Activities in PDF format\n",
      "Submit Foreign Entity Waiver Requests and Foreign Work Waiver Requests in PDF format\n",
      "Provide R&D Community Benefits Plan in PDF format, 5 pages\n",
      "Include Current and Pending Support in PDF format\n",
      "Specify Location(s) of Work in Excel format\n",
      "Conform to content and form requirements for the Technical Volume\n",
      "Save the Technical Volume as a single PDF file titled \"ControlNumber_LeadOrganization_TechnicalVolume\"\n",
      "Limit the Technical Volume to 30 pages, including cover page, table of contents, citations, charts, graphs, maps, photos, and other graphics\n",
      "Include all required information in the Technical Volume table\n",
      "Provide a Work Breakdown Structure (WBS) in the Workplan\n",
      "- Submit a project schedule with task durations, milestones, and Go/No-Go decision points\n",
      "- Submit resumes (limited to three pages) for each Principal Investigator or Lead Project Manager and Senior/Key Personnel, including contact information, education and training, research and professional experience, and awards and honors.\n",
      "Use the biographical sketch format approved by the National Science Foundation (NSF) as an alternative to a resume\n",
      "Save resumes in a single PDF file titled \"ControlNumber_LeadOrganization_Resumes\"\n",
      "Submit letters of commitment from all subrecipient and third-party cost share providers, stating the commitment to providing a specific minimum dollar amount or value of in-kind contributions allocated to cost sharing\n",
      "- Indicate the proposed cost sharing type (cash or in-kind contributions)\n",
      "- Save commitment letters in a single PDF file titled \"ControlNumber_LeadOrganization_LOCs\"\n",
      "- All required letters must be signed by an authorized representative of the Indian Tribe, such as an elected official (e.g., Chief, Chairman, Chairwoman, Governor, etc.)\n",
      "- The signer of the letter must be an authorized representative at the time of application submission\n",
      "- Complete a Statement of Project Objectives (SOPO) using the provided template on EERE eXCHANGE\n",
      "- The SOPO, including the Milestone Table, must not exceed seven pages when printed on standard 8.5\" x 11\" paper with 1\" margins and 12-point font\n",
      "- Save the SOPO in a single Microsoft Word file with the title format \"ControlNumber_LeadOrganization_SOPO\"\n",
      "- Complete the SF-424: Application for Federal Assistance available on EERE eXCHANGE\n",
      "Save the SF-424 as a single PDF file with the title format \"ControlNumber_LeadOrganization_424\"\n",
      "Complete the Budget Justification Workbook available on EERE eXCHANGE\n",
      "Fill out each tab of the Budget Justification Workbook for the project\n",
      "Save the Budget Justification Workbook in a single Microsoft Excel file with the title format \"ControlNumber_LeadOrganization_Budget_Justification\"\n",
      "Include applicant name, lead project manager/principal investigator(s), project title, objectives, project description, methods, potential impact, major participants (for collaborative projects), project commitments and goals from the Community Benefits Plan\n",
      "Limit the summary to one page when printed on standard 8.5\" x 11\" paper with 1\" margins and font not smaller than 12-point\n",
      "- Project title, prime recipient, PI/LPM, and Senior/Key Personnel information\n",
      "Provide a separate budget justification for each subrecipient expected to perform work over $250,000 or 25% of total work effort, whichever is less\n",
      "Save each subrecipient budget justification in a Microsoft Excel file with the title convention: \"ControlNumber_LeadOrganization_Subrecipient_Budget_Justification\"\n",
      "If a DOE/NNSA FFRDC is involved, provide a DOE work proposal in accordance with DOE Order 412.1A, Attachment 2\n",
      "Save the DOE work proposal in a single PDF file with the title convention: \"ControlNumber_LeadOrganization_WP\"\n",
      "Submit the FFRDC authorization with the application in a single PDF file with the title convention: \"ControlNumber_LeadOrganization_FFRDC Auth\"\n",
      "Complete and submit SF-LLL, \"Disclosure of Lobbying Activities\"\n",
      "Save the SF-LLL in a single PDF file titled \"ControlNumber_LeadOrganization_SF-LLL\"\n",
      "Include the required information listed in Appendix C for waiver requests\n",
      "All recipients and subrecipients must qualify as domestic entities for projects selected under this FOA\n",
      "Include the required information listed in Appendix C for foreign work waiver requests\n",
      "Save the Waivers in a single PDF file titled \"ControlNumber_LeadOrganization_Waiver\"\n",
      "Address all three sections of the R&D Community Benefits Plan to meet the content requirements\n",
      "- The R&D Community Benefits Plan must not exceed five pages and be in PDF format\n",
      "Identify all connections with foreign government-sponsored talent recruitment programs in current and pending support\n",
      "For each activity, provide the sponsor, award or identifying number, title of the award or activity, total cost or value, award period, and person-months of effort per year dedicated to the award or activity.\n",
      "PIs and senior/key personnel must provide a disclosure statement with current and pending support information\n",
      "Each individual must sign and date their disclosure statement\n",
      "Include a certification statement confirming the accuracy of the information provided\n",
      "Use the approved format by the NSF or SciENcv for the disclosure statement\n",
      "Save the Current and Pending Support document in a single PDF file titled \"ControlNumber_LeadOrganization_CPS\"\n",
      "Specify if the source is foreign or domestic\n",
      "Complete the Locations of Work (LOW) Documentation available on EERE eXCHANGE\n",
      "List the city, state, and zip code + 4 digits for each location where project work will be performed\n",
      "Include entity name, website address, and mailing address\n",
      "Identify all owners, principal investigators, project managers, and senior/key personnel involved in any Foreign Government-Sponsored Talent Recruitment Program\n",
      "Report any current or pending contractual or financial obligations with a foreign entity\n",
      "Indicate the percentage of foreign ownership or control for the proposed recipient or subrecipient\n",
      "Report any technology licensing or intellectual property sales to a foreign country in the last 5 years\n",
      "Identify any foreign business entity, offshore entity, or entity outside the United States related to the recipient or subrecipient\n",
      "Submit a complete capitalization table for the entity, including all equity interests, number of shares issued to each equity holder, percentage of shares, and equity on a fully diluted basis, identifying the principal place of incorporation for each equity holder\n",
      "Include a summary table identifying all rounds of financing, purchase dates, investors for each round, and governance and information rights obtained by investors\n",
      "Provide an organization chart illustrating the relationship between the entity and immediate parent, ultimate parent, intermediate parent, subsidiaries, and affiliates, identifying where each entity is incorporated\n",
      "Save the Potential Duplicative Funding Notice in a single PDF file with the title format: \"ControlNumber_LeadOrganization_PDFN\"\n",
      "Provide the name and phone number of the Designated Responsible Employee for complying with national policies prohibiting discrimination\n",
      "Submit all required documents in EERE eXCHANGE by 5 p.m.\n",
      "Submit the proposal by the dates specified on the cover page of the FOA\n",
      "- Pre-award costs cannot be incurred prior to the Selection Official signing the Selection Statement and Analysis\n",
      "- All work under awards from this FOA must be performed in the United States\n",
      "Provide a written assurance confirming compliance with Davis-Bacon Act requirements\n",
      "- Prepare and submit the Davis Bacon Semi-Annual Labor Compliance Report by April 21 and October 21 of each year\n",
      "Ensure timely electronic submission of weekly certified payrolls through the software for Davis-Bacon Act compliance\n",
      "Complete and submit SF-LLL for disclosure of lobbying activities\n",
      "Comply with government-wide suspension and debarment guidelines in 2 CFR 180\n",
      "- Individuals participating in a Foreign Government-Sponsored Talent Recruitment Program of a Foreign Country of Risk are prohibited from being part of projects selected for federal funding under this FOA.\n",
      "- Notify DOE within five (5) business days if an individual on the project team is believed to be participating in a foreign government talent recruitment program of a foreign country of risk.\n",
      "9. Provide a reasonable budget and spend plan detailed in the budget justification workbook.\n",
      "Applications must be evaluated according to the standards in EERE's Notice of Objective Merit Review Procedure and the DOE Merit Review Guide for Financial Assistance\n",
      "DOE must review and consider any responsibility and qualification information about the applicant in SAM.gov\n",
      "Receive notification from the Contracting Officer if Concept Paper or Full Application is ineligible\n",
      "- Applicants must designate a primary and backup point-of-contact in EERE eXCHANGE for award negotiations\n",
      "- Applicants must include the FOA name and number in the subject line when emailing about issues\n",
      "Have a Login.gov account to access EERE eXCHANGE, ensure email addresses match\n",
      "Use only one account as the contact point for each submission\n",
      "Register in SAM at https://www.sam.gov, designate an Electronic Business Point of Contact (E Biz POC), obtain a Marketing Partner ID Number (MPIN), update SAM registration annually\n",
      "Do not submit Letters of Intent, Concept Papers, or Full Applications through Grants.gov\n",
      "Submit the application and supplemental information electronically through DOE systems like EERE eXCHANGE and FedConnect\n",
      "Comply with the administrative requirements for DOE grants and cooperative agreements as outlined in 2 CFR Part 200 and 2 CFR Part 910\n",
      "Include executive compensation for own executives in SAM registration profile\n",
      "Confirm that the prime recipient has not been convicted of a felony criminal violation under federal law in the past 24 months\n",
      "Verify that the prime recipient does not have any unpaid federal tax liability that has been assessed and is not being paid in a timely manner\n",
      "Submit annual reports for 10 years from the date of disclosure on the utilization of subject inventions\n",
      "- Submit a continuation application at least ninety (90) days before the end of each budget period, including:\n",
      "Record UCC financing statements for equipment over $5,000 purchased with project funds\n",
      "Comply with the requirements for real property and equipment as outlined in 2 CFR 200.310, 200.311, 200.313, and 200.316 for non-profit entities and 2 CFR 910.360 for for-profit entities\n",
      "- Follow disposition requirements outlined in 2 CFR 910.360 for for-profit entities\n",
      "- Provide current and pending support disclosures and resumes for new PIs or senior/key personnel within 30 days of selection\n",
      "Include the FOA name and number in the subject line of emails\n",
      "Adhere to the DOE interim Conflict of Interest Policy for Financial Assistance\n",
      "Include all financial conflicts of interest (FCOI) in initial and ongoing FCOI reports for DOE-funded projects\n",
      "Comply with 2 CFR 200.113 Mandatory disclosures by disclosing violations of Federal criminal law involving fraud, bribery, or gratuity violations potentially affecting the Federal award\n",
      "Report certain civil, criminal, or administrative proceedings to SAM.gov as required by 2 CFR Part 200\n",
      "Comply with DOE Order 443.1C, 45 CFR Part 46, and 10 CFR Part 745 for research involving human subjects, biospecimens, or identifiable private information.\n",
      "Submit a cybersecurity plan to DOE before receiving funding\n",
      "Address questions in BIL section 40126 (b), Contents of Cybersecurity Plan\n",
      "DOE personnel are not allowed to communicate with applicants about the FOA except through the question and answer process\n",
      "Do not include trade secrets or confidential information in the application\n",
      "- Include FOA name and number in the subject line of emails\n",
      "Mark the cover sheet of the Full Application and other submissions as specified\n",
      "Identify specific pages containing trade secrets, business-sensitive, proprietary, or confidential information\n",
      "Clearly mark every line or paragraph containing such information with double brackets or highlighting\n",
      "Ensure non-federal reviewers sign conflict of interest (COI) and non-disclosure acknowledgements (NDA) before reviewing an application\n",
      "Exclude Personally Identifiable Information (PII) from all provided information\n",
      "- Do not include Social Security numbers in the application\n",
      "Provide Cash Cost Share for all contributions incurred and paid for during the project\n",
      "Provide cost sharing commitment letters from subrecipients with the original application\n",
      "Comply with DOE Financial Assistance Rules 2 CFR Part 200 as amended by 2 CFR Part 910\n",
      "- Name of the entity, point of contact, and proposed type of involvement in the project\n",
      "- Submit a risk assessment regarding IP and data protection protocols, including export control risk\n",
      "Submit a separate waiver request for each entity proposing work outside the United States\n",
      "- Applicant/Recipient name and Unique Entity Identifier (UEI)\n",
      "Include one SMART milestone in the R&D Community Benefits Plan for each budget period\n"
     ]
    }
   ],
   "source": [
    "for idx in ids:\n",
    "    print(test_data[idx])"
   ]
  },
  {
   "cell_type": "code",
   "execution_count": 9,
   "metadata": {},
   "outputs": [],
   "source": [
    "# export the compliances into a tex file\n",
    "with open('tests/mar-19/17-compliances.txt', 'w') as file:\n",
    "    for idx in ids:\n",
    "        file.write(test_data[idx] + \"\\n\")"
   ]
  },
  {
   "cell_type": "code",
   "execution_count": null,
   "metadata": {},
   "outputs": [],
   "source": []
  }
 ],
 "metadata": {
  "kernelspec": {
   "display_name": "venv",
   "language": "python",
   "name": "python3"
  },
  "language_info": {
   "codemirror_mode": {
    "name": "ipython",
    "version": 3
   },
   "file_extension": ".py",
   "mimetype": "text/x-python",
   "name": "python",
   "nbconvert_exporter": "python",
   "pygments_lexer": "ipython3",
   "version": "3.11.5"
  }
 },
 "nbformat": 4,
 "nbformat_minor": 2
}
