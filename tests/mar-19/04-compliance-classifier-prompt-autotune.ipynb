{
 "cells": [
  {
   "cell_type": "code",
   "execution_count": null,
   "metadata": {},
   "outputs": [],
   "source": [
    "from prompt_autotune import TunePrompt\n",
    "from prompt_autotune.GenerateExamples import Example\n",
    "\n",
    "initial_prompt = \"\"\"You are given compliances from an RFP application. Label the given compliance item as 0 if it is mandatory or critical, 1 if it is a good to have or informative, and -1 if it is not a compliance item or it already exists in some form in the attached list of compliance items. Critical compliances are anything that are required for the application to function properly, and without which the application would be considered non-compliant.\"\"\"\n",
    "task = \"\"\"Based on a list of already classified compliance items, as an advanced language model, your task is to classify them as critical, optional, or non-compliance.\n",
    "Critical means anything that is required for the application to function properly, it might be a hard requirement or a soft requirement or an explicitly defined requirement. Optional is anything that the applicant needs to include if they want to be competitive and or it applies to them. Non-compliance is anything that is not a compliance item or it already exists in some form in the attached list of compliance items.\n",
    "-1 means it is not a compliance item or it already exists in some form in the attached list of compliance items.\n",
    "0 means it is mandatory or critical.\n",
    "1 means it is Optional or good to have.\"\"\"\n",
    "examples = [{\n",
    "    \"input\": \"Ensure Full Applications meet the specified page limits\",\n",
    "    \"output\": \"0\"\n",
    "}, {\n",
    "    \"input\": \"Provide Authorization for Non-DOE/NNSA or DOE/NNSA FFRDCs if applicable\",\n",
    "    \"output\": \"1\"\n",
    "}, {\n",
    "    \"input\": \"Provide graphs, charts, or other data to supplement the project description within the 3-page limit\",\n",
    "    \"output\": \"0\"\n",
    "}, {\n",
    "    \"input\": \"Save the Technical Volume as a single PDF file titled \\\"ControlNumber_LeadOrganization_TechnicalVolume\\\"\",\n",
    "    \"output\": \"0\"\n",
    "}, {\n",
    "    \"input\": \"For Topic Area 2, cost share must be at least 50\\% of total project costs for demonstration projects\",\n",
    "    \"output\": \"0\"\n",
    "}, {\n",
    "    \"input\": \"Outline the Technical Scope in the Workplan\",\n",
    "    \"output\": \"0\"\n",
    "}, {\n",
    "    \"input\": \"Results from the DOE deliverables can be validated by DOE upon request\",\n",
    "    \"output\": \"-1\"\n",
    "}, {\n",
    "    \"input\": \"Indicate a means for requesting and digitally obtaining research data if no policy exists\",\n",
    "    \"output\": \"1\"\n",
    "}, {\n",
    "    \"input\", \"Consider the impacts of successful commercial deployment on the current and future workforce\",\n",
    "    \"output\": \"1\"\n",
    "}, {\n",
    "    \"input\": \"Recognize unions voluntarily and inform employees of their rights\",\n",
    "    \"output\": \"1\"\n",
    "}\n",
    "]"
   ]
  }
 ],
 "metadata": {
  "kernelspec": {
   "display_name": "venv",
   "language": "python",
   "name": "python3"
  },
  "language_info": {
   "name": "python",
   "version": "3.11.5"
  }
 },
 "nbformat": 4,
 "nbformat_minor": 2
}
