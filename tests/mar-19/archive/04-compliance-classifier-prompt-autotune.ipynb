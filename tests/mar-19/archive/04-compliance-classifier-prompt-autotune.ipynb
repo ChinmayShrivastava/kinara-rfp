{
 "cells": [
  {
   "cell_type": "code",
   "execution_count": 2,
   "metadata": {},
   "outputs": [],
   "source": [
    "from prompt_autotune import TunePrompt\n",
    "from prompt_autotune.GenerateExamples import Example\n",
    "\n",
    "initial_prompt = \"\"\"You are given compliances from an RFP application. Label the given compliance item as 0 if it is mandatory or critical, 1 if it is a good to have or informative, and -1 if it is not a compliance item or it already exists in some form in the attached list of compliance items. Critical compliances are anything that are required for the application to function properly, and without which the application would be considered non-compliant.\"\"\"\n",
    "\n",
    "task = \"\"\"Based on a list of already classified compliance items, as an advanced language model, your task is to classify them as critical, optional, or non-compliance. This classification is needed to maintain a checklist for the written application, and track the compliance items.\n",
    "Critical means anything that is required for the application to function properly, it might be a hard requirement or a soft requirement or an explicitly defined requirement. Optional is anything that the applicant needs to include if they want to be competitive and or it applies to them. Non-compliance is anything that is not a compliance item or it already exists in some form in the attached list of compliance items.\n",
    "-1 means it is not a compliance item or it already exists in some form in the attached list of compliance items.\n",
    "0 means it is mandatory or critical.\n",
    "1 means it is Optional or good to have.\"\"\"\n",
    "\n",
    "examples = [{\n",
    "    \"input\": \"Ensure Full Applications meet the specified page limits\",\n",
    "    \"output\": \"0\"\n",
    "}, {\n",
    "    \"input\": \"Provide Authorization for Non-DOE/NNSA or DOE/NNSA FFRDCs if applicable\",\n",
    "    \"output\": \"1\"\n",
    "}, {\n",
    "    \"input\": \"Provide graphs, charts, or other data to supplement the project description within the 3-page limit\",\n",
    "    \"output\": \"0\"\n",
    "}, {\n",
    "    \"input\": \"Save the Technical Volume as a single PDF file titled \\\"ControlNumber_LeadOrganization_TechnicalVolume\\\"\",\n",
    "    \"output\": \"0\"\n",
    "}, {\n",
    "    \"input\": \"For Topic Area 2, cost share must be at least 50\\% of total project costs for demonstration projects\",\n",
    "    \"output\": \"0\"\n",
    "}, {\n",
    "    \"input\": \"Outline the Technical Scope in the Workplan\",\n",
    "    \"output\": \"0\"\n",
    "}, {\n",
    "    \"input\": \"Results from the DOE deliverables can be validated by DOE upon request\",\n",
    "    \"output\": \"-1\"\n",
    "}, {\n",
    "    \"input\": \"Indicate a means for requesting and digitally obtaining research data if no policy exists\",\n",
    "    \"output\": \"1\"\n",
    "}, {\n",
    "    \"input\": \"Consider the impacts of successful commercial deployment on the current and future workforce\",\n",
    "    \"output\": \"1\"\n",
    "}, {\n",
    "    \"input\": \"Recognize unions voluntarily and inform employees of their rights\",\n",
    "    \"output\": \"1\"\n",
    "}, {\n",
    "    \"input\": \"Ensure that all laborers and mechanics are paid wages not less than prevailing rates\",\n",
    "    \"output\": \"1\"\n",
    "}, {\n",
    "    \"input\": \"\"\"Accached list of compliance items:\n",
    "    - Provide a written assurance confirming compliance with Davis-Bacon Act requirements\n",
    "\n",
    "    Compliance item:\n",
    "    Comply with the Davis-Bacon Act requirements\"\"\",\n",
    "    \"output\": \"-1\"\n",
    "}, {\n",
    "    \"input\": \"Review certified weekly payrolls for accuracy\",\n",
    "    \"output\": \"1\"\n",
    "}, {\n",
    "    \"input\": \"Do not use federal funds to influence congressional action\",\n",
    "    \"output\": \"1\"\n",
    "}, {\n",
    "    \"input\": \"Indicate if seeking a waiver for Davis-Bacon Act compliance\",\n",
    "    \"output\": \"1\"\n",
    "}\n",
    "]\n",
    "\n",
    "examples = [Example(input=ex[\"input\"], output=ex[\"output\"]) for ex in examples]\n",
    "\n",
    "tuner = TunePrompt(\n",
    "    task=task,\n",
    "    prompt=initial_prompt,\n",
    "    examples=examples,\n",
    ")\n"
   ]
  },
  {
   "cell_type": "code",
   "execution_count": 3,
   "metadata": {},
   "outputs": [
    {
     "name": "stdout",
     "output_type": "stream",
     "text": [
      "Example: None\n",
      "Input: Ensure Full Applications meet the specified page limits\n",
      "Output: 0\n",
      "Example: None\n",
      "Input: Provide Authorization for Non-DOE/NNSA or DOE/NNSA FFRDCs if applicable\n",
      "Output: 1\n",
      "Example: None\n",
      "Input: Provide graphs, charts, or other data to supplement the project description within the 3-page limit\n",
      "Output: 0\n",
      "Example: None\n",
      "Input: Save the Technical Volume as a single PDF file titled \"ControlNumber_LeadOrganization_TechnicalVolume\"\n",
      "Output: 0\n",
      "Example: None\n",
      "Input: For Topic Area 2, cost share must be at least 50\\% of total project costs for demonstration projects\n",
      "Output: 0\n",
      "Example: None\n",
      "Input: Outline the Technical Scope in the Workplan\n",
      "Output: 0\n",
      "Example: None\n",
      "Input: Results from the DOE deliverables can be validated by DOE upon request\n",
      "Output: -1\n",
      "Example: None\n",
      "Input: Indicate a means for requesting and digitally obtaining research data if no policy exists\n",
      "Output: 1\n",
      "Example: None\n",
      "Input: Consider the impacts of successful commercial deployment on the current and future workforce\n",
      "Output: 1\n",
      "Example: None\n",
      "Input: Recognize unions voluntarily and inform employees of their rights\n",
      "Output: 1\n",
      "Example: None\n",
      "Input: Ensure that all laborers and mechanics are paid wages not less than prevailing rates\n",
      "Output: 1\n",
      "Example: None\n",
      "Input: Accached list of compliance items:\n",
      "    - Provide a written assurance confirming compliance with Davis-Bacon Act requirements\n",
      "\n",
      "    Compliance item:\n",
      "    Comply with the Davis-Bacon Act requirements\n",
      "Output: -1\n",
      "Example: None\n",
      "Input: Review certified weekly payrolls for accuracy\n",
      "Output: 1\n",
      "Example: None\n",
      "Input: Do not use federal funds to influence congressional action\n",
      "Output: 1\n",
      "Example: None\n",
      "Input: Indicate if seeking a waiver for Davis-Bacon Act compliance\n",
      "Output: 1\n"
     ]
    },
    {
     "name": "stderr",
     "output_type": "stream",
     "text": [
      "Generating responses for cycle 0\n",
      "Generating responses for cycle 0\n",
      "100%|██████████| 15/15 [00:09<00:00,  1.66it/s]\n",
      "Evaluating responses for cycle 0\n",
      "Evaluating responses for cycle 0\n",
      "Old prompt: You are given c...\n",
      "Old prompt: You are given c...\n",
      "New prompt: As an advanced ...\n",
      "New prompt: As an advanced ...\n",
      "Generating responses for cycle 1\n",
      "Generating responses for cycle 1\n",
      "100%|██████████| 15/15 [00:08<00:00,  1.71it/s]\n",
      "Evaluating responses for cycle 1\n",
      "Evaluating responses for cycle 1\n",
      "Old prompt: As an advanced ...\n",
      "Old prompt: As an advanced ...\n",
      "New prompt: As an advanced ...\n",
      "New prompt: As an advanced ...\n",
      "Generating responses for cycle 2\n",
      "Generating responses for cycle 2\n",
      "100%|██████████| 15/15 [00:07<00:00,  1.91it/s]\n",
      "Evaluating responses for cycle 2\n",
      "Evaluating responses for cycle 2\n",
      "Old prompt: As an advanced ...\n",
      "Old prompt: As an advanced ...\n",
      "New prompt: As an AI langua...\n",
      "New prompt: As an AI langua...\n"
     ]
    }
   ],
   "source": [
    "tuner()"
   ]
  },
  {
   "cell_type": "code",
   "execution_count": 4,
   "metadata": {},
   "outputs": [
    {
     "data": {
      "text/markdown": [
       "As an AI language model, your task is to accurately classify compliance items from a Request for Proposal (RFP) application. Assign a label of 0 to a compliance item if it is critical, mandatory, or directly impacts the application's functionality. This could be a hard requirement, soft requirement, or an explicitly defined requirement. Label it as 1 if it is optional, meaning it is not necessary but could enhance the application or is applicable in certain cases. Phrases like \"if applicable\" or \"upon request\" often indicate optional items. Assign -1 if the item is not a compliance requirement or if it is a duplicate of an item already listed. Be mindful of the context, implications, and nuances of the compliance items to accurately classify them. Pay attention to edge cases, such as duplicate items or items that may seem critical but are actually optional based on their implications."
      ],
      "text/plain": [
       "<IPython.core.display.Markdown object>"
      ]
     },
     "metadata": {},
     "output_type": "display_data"
    }
   ],
   "source": [
    "from IPython.display import display, Markdown\n",
    "display(Markdown(tuner.prompt))"
   ]
  },
  {
   "cell_type": "code",
   "execution_count": null,
   "metadata": {},
   "outputs": [],
   "source": []
  }
 ],
 "metadata": {
  "kernelspec": {
   "display_name": "venv",
   "language": "python",
   "name": "python3"
  },
  "language_info": {
   "codemirror_mode": {
    "name": "ipython",
    "version": 3
   },
   "file_extension": ".py",
   "mimetype": "text/x-python",
   "name": "python",
   "nbconvert_exporter": "python",
   "pygments_lexer": "ipython3",
   "version": "3.11.5"
  }
 },
 "nbformat": 4,
 "nbformat_minor": 2
}
