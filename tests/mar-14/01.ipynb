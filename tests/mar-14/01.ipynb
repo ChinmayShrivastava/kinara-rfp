{
 "cells": [
  {
   "cell_type": "code",
   "execution_count": 1,
   "metadata": {},
   "outputs": [
    {
     "name": "stdout",
     "output_type": "stream",
     "text": [
      "/Users/chinmayshrivastava/Documents/GitHub/kinara-rfp\n"
     ]
    }
   ],
   "source": [
    "import sys\n",
    "import os\n",
    "\n",
    "# moce two directories up and make that current directory\n",
    "os.chdir(\"../..\")\n",
    "# print current directory\n",
    "print(os.getcwd())"
   ]
  },
  {
   "cell_type": "code",
   "execution_count": 3,
   "metadata": {},
   "outputs": [
    {
     "name": "stderr",
     "output_type": "stream",
     "text": [
      "/Users/chinmayshrivastava/Documents/GitHub/kinara-rfp/venv/lib/python3.11/site-packages/langchain_core/_api/deprecation.py:117: LangChainDeprecationWarning: The class `langchain_community.embeddings.openai.OpenAIEmbeddings` was deprecated in langchain-community 0.0.9 and will be removed in 0.2.0. An updated version of the class exists in the langchain-openai package and should be used instead. To use it run `pip install -U langchain-openai` and import as `from langchain_openai import OpenAIEmbeddings`.\n",
      "  warn_deprecated(\n"
     ]
    }
   ],
   "source": [
    "from govrfp.dynamicfs.Selector import Selector\n",
    "from govrfp.rfpparser.RFPParser import RFPParser\n",
    "from llama_index.llms.openai import OpenAI\n",
    "\n",
    "llm = OpenAI(model=\"gpt-3.5-turbo\")\n",
    "rfp = RFPParser(\n",
    "    pdf_path=\"govrfp/rfpparser/RFP 2032H323 Amendment.pdf\",\n",
    "    verbose=True\n",
    ")"
   ]
  },
  {
   "cell_type": "code",
   "execution_count": 4,
   "metadata": {},
   "outputs": [],
   "source": [
    "chunks = rfp.chunks()"
   ]
  },
  {
   "cell_type": "code",
   "execution_count": 5,
   "metadata": {},
   "outputs": [],
   "source": [
    "sel = Selector()"
   ]
  },
  {
   "cell_type": "code",
   "execution_count": 6,
   "metadata": {},
   "outputs": [
    {
     "data": {
      "text/plain": [
       "{'text': 'SEE ADDENDUM IS CHECKEDCODE 18a. P AYMENT WILL BE MADE BY\\nCODE F\\nACILITY CODE \\n17b. CHECK IF REMITTANCE IS DIFFERENT AND PUT SUCH ADDRESS IN OFFER OFFEROR1-IRS NON-IT (OTPS)\\nLanham MD 20706OS:OCPO:BSA:HQ:TO:P, Stop C7-430DCOS/ProcurementInternal Revenue ServiceU.S. Department of the TreasurySSPCODE 16. ADMINISTERED BY CODE XX\\n611430\\nSIZE STANDARD:% FOR: SE\\nT ASIDE: UNRESTRICTED OR 1-IRS NON-IT (OTPS)\\nRFP IFB10. THIS\\n ACQUISITION IS CODE \\nRFQ14. METHOD OF SOLICI TATION13b. RATINGNAICS:SMALL BUSINESS\\n08/31/2023 1700 ET08/01/2023\\nAARON HILL(No collect calls)\\nINFORMATION CALL:FOR SOLICI\\nTATION8. OFFER DUE D ATE/LOCAL TIME b. TELEPHONE  NUMBER a. NAME4. ORDER NUMBER 3. A WARD/ 6. SOLICI TATION 2032H323R000655. SOLICI TATION NUMBERSOLICITATION/CONTRACT/ORDER FOR COMMERCIA L ITEMS1. REQUISITION NUMBER PAGE     OF\\n1 91 23PR-SSP-0231 OFFEROR TO COMPLETE BLOCKS 12, 17, 23, 24, & 30\\n5000 Ellin Road\\nTELEPHONE NO.17a. CONTRAC TOR/WASHINGTON DC 202201500 PENNSYLVANIA AVE., NWFINANCIAL MANAGEMENT, ATTN:MET SQUAUS DEPARTMENT OF THE TREASURY-DEPARSSP15. DELIVER  TOLanham MD 207065000 Ellin RoadOS:OCPO:BSA:HQ:TO:P, Stop C7-430DCOS/ProcurementInternal Revenue Service9. ISSUED B Y 7.  2. CONTRAC T NO. \\nEFFECTIVE DATE\\n$15\\n18b.',\n",
       " 'metadata': {'page_no': '1', 'file_type': 'application/pdf', 'chunk_no': 0}}"
      ]
     },
     "execution_count": 6,
     "metadata": {},
     "output_type": "execute_result"
    }
   ],
   "source": [
    "chunks[0]"
   ]
  },
  {
   "cell_type": "code",
   "execution_count": 9,
   "metadata": {},
   "outputs": [
    {
     "name": "stderr",
     "output_type": "stream",
     "text": [
      "  0%|          | 0/146 [00:00<?, ?it/s]"
     ]
    },
    {
     "name": "stderr",
     "output_type": "stream",
     "text": [
      "100%|██████████| 146/146 [05:50<00:00,  2.40s/it]\n"
     ]
    }
   ],
   "source": [
    "import tqdm\n",
    "compliances = []\n",
    "for chunk in tqdm.tqdm(chunks):\n",
    "    prompt = sel.query(chunk['text'], chunk['metadata']['page_no'])\n",
    "    response = llm.complete(prompt).text\n",
    "    compliances.append(response)"
   ]
  },
  {
   "cell_type": "code",
   "execution_count": 11,
   "metadata": {},
   "outputs": [],
   "source": [
    "# save the compliances\n",
    "with open(\"tests/mar-14/01-compliances.txt\", \"w\") as f:\n",
    "    for comp in compliances:\n",
    "        f.write(comp + \"\\n\")"
   ]
  },
  {
   "cell_type": "code",
   "execution_count": 13,
   "metadata": {},
   "outputs": [],
   "source": [
    "# save critical ones, critical ones start with \"CRITICAL\"\n",
    "with open(\"tests/mar-14/02-critical-compliances.txt\", \"w\") as f:\n",
    "    for comp in compliances:\n",
    "        # break lines\n",
    "        lines = comp.split(\"\\n\")\n",
    "        # strip lines\n",
    "        lines = [line.strip() for line in lines]\n",
    "        for line in lines:\n",
    "            if line.startswith(\"CRITICAL\"):\n",
    "                f.write(line + \"\\n\")"
   ]
  },
  {
   "cell_type": "code",
   "execution_count": 14,
   "metadata": {},
   "outputs": [],
   "source": [
    "# save informative ones, informative ones start with \"INFORMATIVE\"\n",
    "with open(\"tests/mar-14/02-informative-compliances.txt\", \"w\") as f:\n",
    "    for comp in compliances:\n",
    "        # break lines\n",
    "        lines = comp.split(\"\\n\")\n",
    "        # strip lines\n",
    "        lines = [line.strip() for line in lines]\n",
    "        for line in lines:\n",
    "            if line.startswith(\"INFORMATIVE\"):\n",
    "                f.write(line + \"\\n\")"
   ]
  },
  {
   "cell_type": "code",
   "execution_count": null,
   "metadata": {},
   "outputs": [],
   "source": []
  }
 ],
 "metadata": {
  "kernelspec": {
   "display_name": "venv",
   "language": "python",
   "name": "python3"
  },
  "language_info": {
   "codemirror_mode": {
    "name": "ipython",
    "version": 3
   },
   "file_extension": ".py",
   "mimetype": "text/x-python",
   "name": "python",
   "nbconvert_exporter": "python",
   "pygments_lexer": "ipython3",
   "version": "3.11.5"
  }
 },
 "nbformat": 4,
 "nbformat_minor": 2
}
