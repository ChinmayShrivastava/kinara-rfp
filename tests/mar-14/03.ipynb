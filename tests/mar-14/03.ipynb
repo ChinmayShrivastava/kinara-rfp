{
 "cells": [
  {
   "cell_type": "code",
   "execution_count": 1,
   "metadata": {},
   "outputs": [
    {
     "name": "stdout",
     "output_type": "stream",
     "text": [
      "/Users/chinmayshrivastava/Documents/GitHub/kinara-rfp\n"
     ]
    }
   ],
   "source": [
    "import sys\n",
    "import os\n",
    "\n",
    "# moce two directories up and make that current directory\n",
    "os.chdir(\"../..\")\n",
    "# print current directory\n",
    "print(os.getcwd())"
   ]
  },
  {
   "cell_type": "code",
   "execution_count": 2,
   "metadata": {},
   "outputs": [],
   "source": [
    "from llama_index.llms.openai import OpenAI\n",
    "llm = OpenAI(model=\"gpt-3.5-turbo\")"
   ]
  },
  {
   "cell_type": "code",
   "execution_count": 3,
   "metadata": {},
   "outputs": [
    {
     "data": {
      "text/plain": [
       "{'contains_evaluation_criteria': False,\n",
       " 'contains_performance_metrics': False,\n",
       " 'contains_required_certifications': False,\n",
       " 'contains_logistical_information': False,\n",
       " 'contains_logistical_requirements_for_submission': False,\n",
       " 'contains_statement_of_work': False,\n",
       " 'contains_supporting_documents_requirements': False,\n",
       " 'contains_scope_of_work': False,\n",
       " 'contains_technical_volume_requirements': False,\n",
       " 'contains_performance_work_statement': False,\n",
       " 'contains_pricing_requirements': False}"
      ]
     },
     "execution_count": 3,
     "metadata": {},
     "output_type": "execute_result"
    }
   ],
   "source": [
    "from govrfp.rfpinsights.llmannotations import llmannotations\n",
    "\n",
    "test_query = \"What is the purpose of the RFP?\"\n",
    "llmannotations(test_query, llm)"
   ]
  },
  {
   "cell_type": "code",
   "execution_count": 4,
   "metadata": {},
   "outputs": [
    {
     "data": {
      "text/plain": [
       "['The purpose of this Request for Proposal is to award an Indefinite Delivery Indefinite Quantity (IDIQ) contract for On-Demand Coaching Services for the Treasury Executive Institute. The Period of Performance is from 9/30/2023 to 9/29/2027, with one 12-month base period and three 12-month option periods.',\n",
       " 'This is a combined synopsis/solicitation for commercial products or commercial services prepared in accordance with the format in subpart 12.6, as supplemented with additional information included in this notice. Solicitation 2032H323R00065 is issued as a request for proposal (RFP) for a single award Indefinite Delivery Indefinite Quantity (IDIQ) contract consistent with Federal Acquisition Regulations (FAR) part 12, and 13 as appropriate. All Task Orders issued from resultant IDIQ contracts will be awarded using the procedures stated at FAR16.505 and are subject to the terms and conditions outlined. The minimum guarantee for this acquisition is $57,000.00.',\n",
       " 'Individual task orders will be awarded on a Firm Fixed Price basis.',\n",
       " 'Offerors shall include a completed copy of the provision at 52.212-3, Offeror Representations and Certifications-Commercial Products and Commercial Services as well as all other applicable provisions within this solicitation, with its offer.',\n",
       " 'The Contractor shall provide online subscription services with online access to the digital libraries via the website platform, 24 hours a day, 7 days a week, with customer support.']"
      ]
     },
     "execution_count": 4,
     "metadata": {},
     "output_type": "execute_result"
    }
   ],
   "source": [
    "test_data_path = \"tests/mar-14/02-critical-compliances.txt\"\n",
    "with open(test_data_path, 'r') as file:\n",
    "    test_data = file.readlines()\n",
    "test_data = [line.strip() for line in test_data]\n",
    "test_data = [line for line in test_data if line]\n",
    "# remove 'CRITICAL:' from the start of each line\n",
    "test_data = [line[10:] if line.startswith(\"CRITICAL:\") else line for line in test_data]\n",
    "test_data[:5]"
   ]
  },
  {
   "cell_type": "code",
   "execution_count": 5,
   "metadata": {},
   "outputs": [
    {
     "name": "stderr",
     "output_type": "stream",
     "text": [
      "  0%|          | 0/115 [00:00<?, ?it/s]"
     ]
    },
    {
     "name": "stderr",
     "output_type": "stream",
     "text": [
      "100%|██████████| 115/115 [00:59<00:00,  1.95it/s]\n"
     ]
    }
   ],
   "source": [
    "import tqdm\n",
    "annotations = []\n",
    "for line in tqdm.tqdm(test_data):\n",
    "    annotations.append(llmannotations(line, llm))"
   ]
  },
  {
   "cell_type": "code",
   "execution_count": 6,
   "metadata": {},
   "outputs": [
    {
     "data": {
      "text/plain": [
       "{'contains_evaluation_criteria': False,\n",
       " 'contains_performance_metrics': False,\n",
       " 'contains_required_certifications': False,\n",
       " 'contains_logistical_information': False,\n",
       " 'contains_logistical_requirements_for_submission': False,\n",
       " 'contains_statement_of_work': False,\n",
       " 'contains_supporting_documents_requirements': False,\n",
       " 'contains_scope_of_work': False,\n",
       " 'contains_technical_volume_requirements': False,\n",
       " 'contains_performance_work_statement': True,\n",
       " 'contains_pricing_requirements': False}"
      ]
     },
     "execution_count": 6,
     "metadata": {},
     "output_type": "execute_result"
    }
   ],
   "source": [
    "annotations[0]"
   ]
  },
  {
   "cell_type": "code",
   "execution_count": 7,
   "metadata": {},
   "outputs": [
    {
     "data": {
      "text/plain": [
       "[5, 6, 7, 8, 10, 11, 12, 35, 47, 89, 93, 94, 98, 102, 106, 112, 113, 114]"
      ]
     },
     "execution_count": 7,
     "metadata": {},
     "output_type": "execute_result"
    }
   ],
   "source": [
    "metrics_ids  = []\n",
    "for index, annotation in enumerate(annotations):\n",
    "    if annotation['contains_performance_metrics']:\n",
    "        metrics_ids.append(index)\n",
    "metrics_ids"
   ]
  },
  {
   "cell_type": "code",
   "execution_count": 8,
   "metadata": {},
   "outputs": [
    {
     "name": "stdout",
     "output_type": "stream",
     "text": [
      "The executive coaching engagement shall consist of 1:1 Coaching by ICF credentialed coaches, On-Demand Coaching with sessions occurring within one business day, Learning/Development Resources to support the coachees to gain knowledge and develop skills in coaching areas which includes a whole-person approach, and Assessment to be completed at start and end of engagements.\n",
      "The Contractor shall have the capacity to offer 360 Assessments aligned with Office of Personnel Management’s Executive Core Qualifications included in the platform/licensing fee, platform access for users to serve as a single stop for all services/resources and for admins to show real-time monitoring and usage, and demonstration of ability to scale resources is necessary due to the nature of the contracting mechanism.\n",
      "Engagement Preparation Time includes timely identification of coaches within 5 business days of request, an orientation/intake session within a week of the introductory session, and development of a coaching plan within the first two sessions.\n",
      "The Contractor shall provide unlimited access to coaches for coaching sessions scheduled by the client on the platform based on coach availability and lasting for 30-60 minutes.\n",
      "The Contractor must provide a Final Report prior to the completion of the period of performance, including engagement with coaches, learning resources outside of coaching sessions, post session survey results, and behavioral change data.\n",
      "Task orders placed against this IDIQ will have their own periods of performance.\n",
      "Online service must be available 24/7.\n",
      "The total duration of the contract shall not exceed 48 months or 4 years.\n",
      "Interim and final evaluations of contractor performance will be prepared on this contract in accordance with FAR 42.15. The Assessing Official (e.g., Contracting Officer) will prepare a final performance evaluation at the time the work on the contract is completed. In addition to the final evaluation, interim evaluations will be prepared annually to coincide with the anniversary date of the contract.\n",
      "During Phase 1, the Offeror shall demonstrate an existing and fully functioning COTS On Demand Coaching Platform in a live action demonstration. Scheduling for the demonstration must be completed on or before the 7th business day after the RFP is posted. The existing platform will be evaluated on five criteria including user interface, data access, scheduling capabilities, access options, and resource availability. Failure to participate in Phase 1 precludes further consideration of an Offeror.\n",
      "The Offeror shall provide information on a minimum of one (1) project performed within the last five (5) years that are similar to this effort in terms of type, scope, complexity, and size.\n",
      "All Offerors are responsible for ensuring that Point of Contact’s (POC) and Alternate Point of Contact’s (APOC) are reachable, and that all information listed above is current and valid. The Government reserves the right to contact any reference or use any other relative past performance information deemed appropriate by the Contracting Officer. Offerors must submit all included “fill-in” Provisions/Clause including FAR 52.203-2, 52.204-5, 52.204-24, 52.212-3, and DTAR 1052.209-70. Providing a proposal without filling in the Provisions/Clauses may result in the offeror receiving an overall evaluated score of “Non-Responsive”. Proposals that fail to furnish required representations or information or reject the terms and conditions of the solicitation may be excluded from consideration. These will not be part of your page count. For evaluation purposes, only pricing provided on Attachment 3: Price Submission Sheet will be evaluated for award decision. Offerors shall input rates per unit monthly price established for the on-demand coaching services, to calculate a yearly total price for the base and 3 option periods and the possibility of an additional 6 months after option period 3, as well as any discounts offered.\n",
      "The Government intends to award a single IDIQ to the responsible Offeror whose proposal represents the best value to the Government after evaluation in accordance with the solicitation. The best value proposal will be selected using a tradeoff process, as defined in FAR 13.106-2.\n",
      "Offerors will be evaluated on their demonstration performance in Phase 1 based on the COTS On Demand Coaching Platform requirements and will be rated as High Confidence, Some Confidence, or Low Confidence.\n",
      "The Offeror's proposed management approach will be evaluated to ensure that Treasury achieves established program objectives, while mitigating performance risk. The management approach will also be evaluated to determine its ability to effectively accomplish, administer, and manage day-to-day operations including project organization, performance monitoring and control activities, quality assurance, subcontractors, and task order management process.\n",
      "The performance requirements are summarized into performance objectives with performance thresholds that describe the minimum acceptable levels of service required for each requirement, critical to mission success.\n",
      "Adherence to the delivery schedule as agreed upon by Contractor and COR is required in PWS Section 4. Deliverables must be in the proper format and submitted on time. 100% compliance to the agreed upon time of Deliverable between contractor and COR is necessary for full payment. Any deviation or delay from the agreed upon delivery time will be recorded and influence the contractor closing assessment made by the COR.\n",
      "The document is an Amendment 1 with the identifier 2032H323R00065. It includes an attachment for a Past Performance Reference Form that requires details such as Offeror’s Name, Client/Customer Company Name and Address, Title of Contract or Agreement, Client Project Manager or Contracting Representative details, Period of Performance, and Description of Service(s) or Product(s).\n"
     ]
    }
   ],
   "source": [
    "for idx in metrics_ids:\n",
    "    print(test_data[idx])"
   ]
  },
  {
   "cell_type": "code",
   "execution_count": 18,
   "metadata": {},
   "outputs": [
    {
     "data": {
      "text/plain": [
       "[39, 47, 48, 89, 97, 98, 99, 100, 102, 103, 104, 105, 106, 107, 108, 109, 111]"
      ]
     },
     "execution_count": 18,
     "metadata": {},
     "output_type": "execute_result"
    }
   ],
   "source": [
    "avaulation_ids  = []\n",
    "for index, annotation in enumerate(annotations):\n",
    "    if annotation['contains_evaluation_criteria']:\n",
    "        avaulation_ids.append(index)\n",
    "avaulation_ids"
   ]
  },
  {
   "cell_type": "code",
   "execution_count": 19,
   "metadata": {},
   "outputs": [
    {
     "name": "stdout",
     "output_type": "stream",
     "text": [
      "The terms included in the contract shall be enforceable only if they meet specific criteria, including being readily available at referenced locations, not materially changing government obligations, not increasing government prices, not decreasing the overall level of service, and not limiting any other Government rights addressed elsewhere in the contract. Any software license terms unilaterally revised subsequent to award that are inconsistent with any material term or provision of the contract are not enforceable against the Government.\n",
      "Interim and final evaluations of contractor performance will be prepared on this contract in accordance with FAR 42.15. The Assessing Official (e.g., Contracting Officer) will prepare a final performance evaluation at the time the work on the contract is completed. In addition to the final evaluation, interim evaluations will be prepared annually to coincide with the anniversary date of the contract.\n",
      "The Contractor must strictly control access to the evaluation within their organization and ensure it is never released to persons or entities outside of their control. They must also prohibit the use of evaluation data for advertising, promotional material, or other similar purposes. The Contracting Officer is the only person authorized to make or approve any changes in the requirements of the order.\n",
      "During Phase 1, the Offeror shall demonstrate an existing and fully functioning COTS On Demand Coaching Platform in a live action demonstration. Scheduling for the demonstration must be completed on or before the 7th business day after the RFP is posted. The existing platform will be evaluated on five criteria including user interface, data access, scheduling capabilities, access options, and resource availability. Failure to participate in Phase 1 precludes further consideration of an Offeror.\n",
      "The evaluation factors for award include Technical Approach, Management Approach, Past Performance, and Price.\n",
      "The Government intends to award a single IDIQ to the responsible Offeror whose proposal represents the best value to the Government after evaluation in accordance with the solicitation. The best value proposal will be selected using a tradeoff process, as defined in FAR 13.106-2.\n",
      "Factors 1 (Technical Approach) and 2 (Management Approach) are more important than Factor 3 (Past Performance) in the evaluation process. Factors 1, 2, and 3 combined are more important than Factor 4 (Price).\n",
      "The decision to award will be made based on factor ratings and Price evaluation, and the Government reserves the right to communicate with interested Offerors if deemed advantageous.\n",
      "Offerors will be evaluated on their demonstration performance in Phase 1 based on the COTS On Demand Coaching Platform requirements and will be rated as High Confidence, Some Confidence, or Low Confidence.\n",
      "Offerors will be evaluated in Phase 2 based on their technical approach and must demonstrate the ability to effectively and efficiently perform the work specified in the SOW.\n",
      "A \"significant weakness\" in the proposal is a flaw that significantly increases the risk of unsuccessful contract performance. A \"deficiency\" is a material failure of a proposal to meet a Government requirement or a combination of significant weaknesses that increases the risk of unsuccessful contract performance to an unacceptable level. Proposals with deficiencies are rated as \"unacceptable\" and are not eligible for award.\n",
      "The Government will evaluate the acceptability of the Offeror’s proposed management approach including task order ordering process and timeliness, effective communication with the government, and the process for monthly status reporting to assess the Offerors overall management competence to effectively plan, execute, and manage the contract requirements.\n",
      "The Offeror's proposed management approach will be evaluated to ensure that Treasury achieves established program objectives, while mitigating performance risk. The management approach will also be evaluated to determine its ability to effectively accomplish, administer, and manage day-to-day operations including project organization, performance monitoring and control activities, quality assurance, subcontractors, and task order management process.\n",
      "The potential for disruption to schedule, increase in price, or degradation in quality of performance based on the Offeror’s past performance will be evaluated.\n",
      "Whether an Offeror has consistently demonstrated a commitment to customer satisfaction and complied with federal, state, and local laws and regulations will also be evaluated.\n",
      "Factor 3 will be evaluated based on the Offeror's performance record, with ratings of Acceptable, Unacceptable, or Neutral. Proposals rated \"unacceptable\" for any of the Factors are NOT eligible for award and will be excluded from further consideration.\n",
      "Price will be evaluated but not assigned a confidence rating or scored. The Government intends to award a contract to the responsible Offeror(s) whose proposal represents the best value to the Government after evaluation in accordance with the solicitation. Alternate proposals are not solicited and will not be evaluated.\n"
     ]
    }
   ],
   "source": [
    "for idx in avaulation_ids:\n",
    "    print(test_data[idx])"
   ]
  },
  {
   "cell_type": "code",
   "execution_count": 9,
   "metadata": {},
   "outputs": [
    {
     "data": {
      "text/plain": [
       "[5,\n",
       " 8,\n",
       " 9,\n",
       " 12,\n",
       " 15,\n",
       " 17,\n",
       " 18,\n",
       " 31,\n",
       " 32,\n",
       " 34,\n",
       " 37,\n",
       " 44,\n",
       " 49,\n",
       " 82,\n",
       " 83,\n",
       " 86,\n",
       " 87,\n",
       " 88,\n",
       " 89,\n",
       " 91,\n",
       " 96,\n",
       " 101,\n",
       " 113]"
      ]
     },
     "execution_count": 9,
     "metadata": {},
     "output_type": "execute_result"
    }
   ],
   "source": [
    "logistical_ids  = []\n",
    "for index, annotation in enumerate(annotations):\n",
    "    if annotation['contains_logistical_requirements_for_submission']:\n",
    "        logistical_ids.append(index)\n",
    "logistical_ids"
   ]
  },
  {
   "cell_type": "code",
   "execution_count": 10,
   "metadata": {},
   "outputs": [
    {
     "name": "stdout",
     "output_type": "stream",
     "text": [
      "The executive coaching engagement shall consist of 1:1 Coaching by ICF credentialed coaches, On-Demand Coaching with sessions occurring within one business day, Learning/Development Resources to support the coachees to gain knowledge and develop skills in coaching areas which includes a whole-person approach, and Assessment to be completed at start and end of engagements.\n",
      "The Contractor shall provide unlimited access to coaches for coaching sessions scheduled by the client on the platform based on coach availability and lasting for 30-60 minutes.\n",
      "The Contractor must provide Monthly/Quarterly Status Reports and TEI access to an administrative webpage documenting the previous month activity. The reports and webpage must be delivered or made available to TEI designated staff by the 7th of the subsequent month/quarter.\n",
      "Online service must be available 24/7.\n",
      "The Government anticipates award of a firm fixed price (FFP) IDIQ contract with FFP Task Orders resulting from this solicitation. Invoices shall be submitted electronically to https://www.ipp.gov. Each invoice submitted shall be supported by appropriate documentation meeting the approval of the Contracting Officer. The Contractor shall submit payment requests electronically using the Invoice Processing Platform (IPP) unless authorized otherwise in writing by the Contracting Officer.\n",
      "Vendor invoices submitted electronically through IPP should be in the proper format and contain the required information for payment processing. A “proper invoice” must meet the minimum standards specified in FAR 32.905(b) in order to be approved for payment.\n",
      "If the Contractor is unable to utilize IPP for submitting payment requests starting on October 1, 2012, then a waiver form must be completed in advance and submitted via mail or e-mail for review and approval by the Contracting Officer. Adobe Acrobat Portable Document Format (PDF) and Microsoft Word are acceptable formats for submitting waivers electronically. If the waiver is granted, then a copy of the waiver must be submitted with each invoice that the vendor submits to the payment office.\n",
      "The Contractor shall comply with the provisions of paragraph (d) regarding Comptroller General Examination of Record if the contract was awarded using other than sealed bid, is in excess of the simplified acquisition threshold, and does not contain the clause at 52.215-2, Audit and Records-Negotiation.\n",
      "The Contractor shall make available at its offices at all reasonable times the records, materials, and other evidence for examination, audit, or reproduction, until 3 years after final payment under this contract or for any shorter period specified in FAR subpart 4.7, Contractor Records Retention, of the other clauses of this contract. Records relating to appeals under the disputes clause or to litigation or the settlement of claims arising under or relating to this contract shall be made available until such appeals, litigation, or claims are finally resolved.\n",
      "The Contractor may include in its subcontracts for commercial products and commercial services a minimal number of additional clauses necessary to satisfy its contractual obligations. Orders for supplies and services under the contract shall be issued through delivery orders or task orders by designated individuals or activities listed in the Schedule. Orders may be issued from 09/30/2023 through 09/29/2027. All delivery orders or task orders are subject to the terms and conditions of the contract. In case of conflict between an order and the contract, the contract shall prevail. Orders are considered \"issued\" when sent by mail, fax, or electronically as specified in the clause. Orders may be issued by methods other than those specified in the clause only if authorized in the contract.\n",
      "The chunk provides information on the order of documents and clauses that should be included in the solicitation, such as solicitation provisions, addenda, Standard Form 1449, specification, and more.\n",
      "Any resulting invoice must comply with the proper invoicing requirements specified in the underlying Government contract or order. This charge, if disputed by the Government, will be resolved through the clause at FAR 52.233-1, Disputes; no payment obligation shall arise on part of the Government until the conclusion of the dispute process.\n",
      "The solicitation incorporates one or more solicitation provisions by reference, with the same force and effect as if they were given in full text. The vendor must complete any blocks in the provisions and submit them with its quotation or offer. The full text of the provisions can be accessed electronically at the provided address.\n",
      "All communications and questions concerning the RFP, including any of a technical nature, shall be made through the Contracts Specialist, Aaron C. Hill and the Contracting Officer, Angela C. Gallo. Questions regarding this RFP must be submitted via email to Aaron C. Hill. The Proposal Submission Date and Time for Phase 1 Demonstration of existing Commercial Off the Shelf (COTS) On Demand Coaching Platform Resource is on or before 4:00 PM Eastern Daylight Savings Time (EDT) THURSDAY, August 10, 2023.\n",
      "Phase 2 Proposals must be submitted electronically by 2:00 PM EDT on or before THURSDAY, August 31, 2023, to the Contracts Specialist, Aaron C. Hill (Aaron.C.Hill@irs.gov) and the Contracting Officer, Angela C. Gallo (Angela.C.Gallo@irs.gov).\n",
      "Every page should have a page number, except for the Title Page. Blank pages will contain the marking “Page Intentionally Left Blank.” Every page will contain the Offeror’s name and the RFP number.\n",
      "Submissions shall be via email in MS Word, MS Excel, and/or .pdf format.\n",
      "The RFP response package shall be organized as follows: Volume I – Cover Letter, Volume II – Technical Approach, Volume III - Management Approach, Volume IV – Past Performance, and Volume V – Cost/Price.\n",
      "During Phase 1, the Offeror shall demonstrate an existing and fully functioning COTS On Demand Coaching Platform in a live action demonstration. Scheduling for the demonstration must be completed on or before the 7th business day after the RFP is posted. The existing platform will be evaluated on five criteria including user interface, data access, scheduling capabilities, access options, and resource availability. Failure to participate in Phase 1 precludes further consideration of an Offeror.\n",
      "Volume I Cover Letter must include specific information such as RFP Number, Name and address of Offeror, Name and telephone number of point-of-contact, Statement the Quote is valid through 60 calendar days after RFP closing date, Commercial and Government Entity (CAGE) number, DUNS Number, SAM Unique Entity Identifier (UEI), Taxpayer Identification Number (TIN), Total Evaluated Price (TEP) Amount, Date of submission, Name, title and signature of authorized representative, and more. The Cover Letter may include marketing style information about the Offeror’s business products and services, but this section will not be reviewed as part of the technical, past performance, or cost/price evaluation.\n",
      "The page limits for each volume are as follows: Cover Letter (2 pages), Technical Approach Volume (5 pages), Management Approach Volume (3 pages), Past Performance Volume (3 pages), and Completed RFP and Price Volume (No page limit).\n",
      "Offerors wishing to proceed to Phase 2 shall provide their notice of intent to do so to the Government in accordance with the instructions in the advisory notification. The Government intends to allow Offerors 48 hours to decide whether it wishes to proceed with a Phase 2 submission. This RFP does not commit the Government to pay any cost for preparation and submission of your proposal. In addition, the Contracting Officer is the only individual who can legally commit the Government to the expenditure of public funds in connection with this proposed acquisition. The Government plans to award one contract but reserves the right to award more if it is determined to be in the Government's best interest, considering the Government's expected volume of work over the period of the task order contracts, available funding, the need to sustain adequate competition, and the availability of best-value proposals following completion of evaluation of the proposals received.\n",
      "Adherence to the delivery schedule as agreed upon by Contractor and COR is required in PWS Section 4. Deliverables must be in the proper format and submitted on time. 100% compliance to the agreed upon time of Deliverable between contractor and COR is necessary for full payment. Any deviation or delay from the agreed upon delivery time will be recorded and influence the contractor closing assessment made by the COR.\n"
     ]
    }
   ],
   "source": [
    "for idx in logistical_ids:\n",
    "    print(test_data[idx])"
   ]
  },
  {
   "cell_type": "code",
   "execution_count": 11,
   "metadata": {},
   "outputs": [
    {
     "data": {
      "text/plain": [
       "[2, 94, 95, 97, 100, 110, 111]"
      ]
     },
     "execution_count": 11,
     "metadata": {},
     "output_type": "execute_result"
    }
   ],
   "source": [
    "pricing_ids  = []\n",
    "for index, annotation in enumerate(annotations):\n",
    "    if annotation['contains_pricing_requirements']:\n",
    "        pricing_ids.append(index)\n",
    "pricing_ids"
   ]
  },
  {
   "cell_type": "code",
   "execution_count": 12,
   "metadata": {},
   "outputs": [
    {
     "name": "stdout",
     "output_type": "stream",
     "text": [
      "Individual task orders will be awarded on a Firm Fixed Price basis.\n",
      "All Offerors are responsible for ensuring that Point of Contact’s (POC) and Alternate Point of Contact’s (APOC) are reachable, and that all information listed above is current and valid. The Government reserves the right to contact any reference or use any other relative past performance information deemed appropriate by the Contracting Officer. Offerors must submit all included “fill-in” Provisions/Clause including FAR 52.203-2, 52.204-5, 52.204-24, 52.212-3, and DTAR 1052.209-70. Providing a proposal without filling in the Provisions/Clauses may result in the offeror receiving an overall evaluated score of “Non-Responsive”. Proposals that fail to furnish required representations or information or reject the terms and conditions of the solicitation may be excluded from consideration. These will not be part of your page count. For evaluation purposes, only pricing provided on Attachment 3: Price Submission Sheet will be evaluated for award decision. Offerors shall input rates per unit monthly price established for the on-demand coaching services, to calculate a yearly total price for the base and 3 option periods and the possibility of an additional 6 months after option period 3, as well as any discounts offered.\n",
      "The corresponding rates will automatically fill in the remaining excel sheets and calculate a “Total Proposed Price”. Offerors shall not alter the format, content, or formulas on the Excel spreadsheet.\n",
      "The evaluation factors for award include Technical Approach, Management Approach, Past Performance, and Price.\n",
      "The decision to award will be made based on factor ratings and Price evaluation, and the Government reserves the right to communicate with interested Offerors if deemed advantageous.\n",
      "Proposals that do not include complete pricing will be considered incomplete and will not be considered for award. The Government will evaluate pricing for accuracy, completeness, and reasonableness. The Government may determine a proposal is unacceptable if option prices are significantly unbalanced or if there is a material difference between the Government's descriptions and the proposed pricing.\n",
      "Price will be evaluated but not assigned a confidence rating or scored. The Government intends to award a contract to the responsible Offeror(s) whose proposal represents the best value to the Government after evaluation in accordance with the solicitation. Alternate proposals are not solicited and will not be evaluated.\n"
     ]
    }
   ],
   "source": [
    "for idx in pricing_ids:\n",
    "    print(test_data[idx])"
   ]
  },
  {
   "cell_type": "code",
   "execution_count": 16,
   "metadata": {},
   "outputs": [
    {
     "data": {
      "text/plain": [
       "[0,\n",
       " 1,\n",
       " 6,\n",
       " 10,\n",
       " 11,\n",
       " 13,\n",
       " 14,\n",
       " 19,\n",
       " 27,\n",
       " 28,\n",
       " 36,\n",
       " 38,\n",
       " 40,\n",
       " 42,\n",
       " 43,\n",
       " 58,\n",
       " 92,\n",
       " 93,\n",
       " 101,\n",
       " 103,\n",
       " 112,\n",
       " 113,\n",
       " 114]"
      ]
     },
     "execution_count": 16,
     "metadata": {},
     "output_type": "execute_result"
    }
   ],
   "source": [
    "# statement of work\n",
    "sow_ids  = []\n",
    "for index, annotation in enumerate(annotations):\n",
    "    if annotation['contains_statement_of_work'] or annotation['contains_scope_of_work'] or annotation['contains_performance_work_statement']:\n",
    "        sow_ids.append(index)\n",
    "sow_ids"
   ]
  },
  {
   "cell_type": "code",
   "execution_count": 17,
   "metadata": {},
   "outputs": [
    {
     "name": "stdout",
     "output_type": "stream",
     "text": [
      "The purpose of this Request for Proposal is to award an Indefinite Delivery Indefinite Quantity (IDIQ) contract for On-Demand Coaching Services for the Treasury Executive Institute. The Period of Performance is from 9/30/2023 to 9/29/2027, with one 12-month base period and three 12-month option periods.\n",
      "This is a combined synopsis/solicitation for commercial products or commercial services prepared in accordance with the format in subpart 12.6, as supplemented with additional information included in this notice. Solicitation 2032H323R00065 is issued as a request for proposal (RFP) for a single award Indefinite Delivery Indefinite Quantity (IDIQ) contract consistent with Federal Acquisition Regulations (FAR) part 12, and 13 as appropriate. All Task Orders issued from resultant IDIQ contracts will be awarded using the procedures stated at FAR16.505 and are subject to the terms and conditions outlined. The minimum guarantee for this acquisition is $57,000.00.\n",
      "The Contractor shall have the capacity to offer 360 Assessments aligned with Office of Personnel Management’s Executive Core Qualifications included in the platform/licensing fee, platform access for users to serve as a single stop for all services/resources and for admins to show real-time monitoring and usage, and demonstration of ability to scale resources is necessary due to the nature of the contracting mechanism.\n",
      "The Contractor must provide a Final Report prior to the completion of the period of performance, including engagement with coaches, learning resources outside of coaching sessions, post session survey results, and behavioral change data.\n",
      "Task orders placed against this IDIQ will have their own periods of performance.\n",
      "The Contractor is not authorized to commence performance prior to the issuance of a signed Task Order or other written approval provided by the CO to begin work.\n",
      "The COR's assignment for this contract may be changed at any time by the Government without prior notice to the Contractor. The Contractor will be notified of the change. The Contractor shall provide a Project Manager for this contract who shall have the authority to make any no-cost technical, hiring, and dismissal decisions, or special arrangement regarding this contract. The Project Manager shall be responsible for the overall management and coordination of this contract and shall act as the central point of contact with the Government. The Project Manager shall have full authority to act for the Contractor in the performance of the required services.\n",
      "This contract incorporates one or more clauses by reference, with the same force and effect as if they were given in full text. The Contracting Officer will make their full text available upon request. The following clauses are incorporated by reference: FAR 52.203-3, 52.203-17, 52.204-4, 52.204-13, 52.204-18, 52.204-19, 52.209-10, 52.212-4, and 52.219-10.\n",
      "The RFP includes clauses related to Buy American provisions such as FAR 52.225-1 and FAR 52.225-3.\n",
      "The chunk includes various FAR clauses such as 52.225-13, 52.225-5, and 52.229-12 that are relevant to the restrictions on certain foreign purchases, trade agreements, and taxes on foreign procurements. These clauses are important for compliance and understanding of the terms and conditions of the solicitation.\n",
      "The Contractor shall not make any reference to supplies or services provided under the contract in any news release or commercial advertising without obtaining explicit written consent from the Contracting Officer. Violation of this clause may result in remedies under applicable law and may impact past performance evaluation.\n",
      "The agreement shall bind the Government as the end user but shall not bind a Government employee or person acting on behalf of the Government in their personal capacity. The agreement is governed by Federal law. Any language purporting to subject the Government to the laws of a U.S. state, U.S. territory, district, or municipality, or a foreign nation, except where Federal law expressly provides for the application of such laws, is deleted. Any language requiring dispute resolution in a specific forum or venue that is different from that prescribed by applicable Federal law is deleted. Any language prescribing a different time period for bringing an action than that prescribed by applicable Federal law in relation to a dispute is deleted. If the supplier or licensor believes the Government to be in breach of the agreement, it shall pursue its rights under the Contract Disputes Act or other applicable Federal statute with continuing performance. In the event of a claim or dispute arising under or relating to this agreement, binding arbitration shall not be used unless specifically authorized by agency guidance, and equitable or injunctive relief may be awarded against the Government only when explicitly provided by statute.\n",
      "The Contractor shall confirm its commitment to equal opportunity in employment and contracting, ensuring the fair inclusion of minorities and women in its workforce. The Contractor shall insert the substance of this clause in all subcontracts awarded under this contract whose dollar value exceeds $150,000. Within ten business days of a written request from the Contracting Officer, the Contractor shall provide documentation of the actions taken to demonstrate compliance with these provisions.\n",
      "When any supply or service acquired under a contract is subject to a CSA that includes language requiring the Government to indemnify the Contractor or any person/entity for damages, costs, fees, or any other loss, the language is unenforceable against the Government. The Government or any authorized end user is not bound by such clauses, even if agreed to through a click box or similar mechanism. Such language is deemed to be stricken from the CSA.\n",
      "The language regarding commercial supplier agreements (CSA) shall be deemed incorporated into the commercial supplier agreement when any supply or service acquired under the contract is subject to a CSA. The agreement is part of a contract between the commercial supplier and the Government for the acquisition of the supply or service that necessitates a license. The agreement shall bind the Government as the end user but shall not bind a Government employee or person acting on behalf of the Government in their personal capacity. The agreement is governed by Federal law, and any language purporting to subject the Government to the laws of a U.S. state, U.S. territory, district, or municipality, or foreign nation, except where Federal law expressly provides for the application of such laws, is deleted. Any language requiring dispute resolution in a specific forum or venue that is different from that prescribed by applicable Federal law is also deleted.\n",
      "A \"successor\" is an entity that has replaced a predecessor by acquiring the assets and carrying out the affairs of the predecessor under a new name. The term \"successor\" does not include new offices/divisions of the same company or a company that only changes its name. The extent of the responsibility of the successor for the liabilities of the predecessor may vary, depending on State law and specific circumstances.\n",
      "The Offeror shall demonstrate clear understanding of the requirements detailed in the SOW including applicable laws and regulations related to the requirements. The Offeror shall detail the capability of the online subscription services with online access to the digital libraries via the website platform to accomplish requirements in SOW Section 3.\n",
      "The Offeror shall provide information on a minimum of one (1) project performed within the last five (5) years that are similar to this effort in terms of type, scope, complexity, and size.\n",
      "Offerors wishing to proceed to Phase 2 shall provide their notice of intent to do so to the Government in accordance with the instructions in the advisory notification. The Government intends to allow Offerors 48 hours to decide whether it wishes to proceed with a Phase 2 submission. This RFP does not commit the Government to pay any cost for preparation and submission of your proposal. In addition, the Contracting Officer is the only individual who can legally commit the Government to the expenditure of public funds in connection with this proposed acquisition. The Government plans to award one contract but reserves the right to award more if it is determined to be in the Government's best interest, considering the Government's expected volume of work over the period of the task order contracts, available funding, the need to sustain adequate competition, and the availability of best-value proposals following completion of evaluation of the proposals received.\n",
      "Offerors will be evaluated in Phase 2 based on their technical approach and must demonstrate the ability to effectively and efficiently perform the work specified in the SOW.\n",
      "The performance requirements are summarized into performance objectives with performance thresholds that describe the minimum acceptable levels of service required for each requirement, critical to mission success.\n",
      "Adherence to the delivery schedule as agreed upon by Contractor and COR is required in PWS Section 4. Deliverables must be in the proper format and submitted on time. 100% compliance to the agreed upon time of Deliverable between contractor and COR is necessary for full payment. Any deviation or delay from the agreed upon delivery time will be recorded and influence the contractor closing assessment made by the COR.\n",
      "The document is an Amendment 1 with the identifier 2032H323R00065. It includes an attachment for a Past Performance Reference Form that requires details such as Offeror’s Name, Client/Customer Company Name and Address, Title of Contract or Agreement, Client Project Manager or Contracting Representative details, Period of Performance, and Description of Service(s) or Product(s).\n"
     ]
    }
   ],
   "source": [
    "for idx in sow_ids:\n",
    "    print(test_data[idx])"
   ]
  },
  {
   "cell_type": "code",
   "execution_count": 21,
   "metadata": {},
   "outputs": [
    {
     "data": {
      "text/plain": [
       "42"
      ]
     },
     "execution_count": 21,
     "metadata": {},
     "output_type": "execute_result"
    }
   ],
   "source": [
    "# statement of work\n",
    "other_reqs_ids  = []\n",
    "for index, annotation in enumerate(annotations):\n",
    "    if annotation['contains_required_certifications'] or annotation['contains_supporting_documents_requirements']:\n",
    "        other_reqs_ids.append(index)\n",
    "len(other_reqs_ids)"
   ]
  },
  {
   "cell_type": "code",
   "execution_count": 22,
   "metadata": {},
   "outputs": [
    {
     "name": "stdout",
     "output_type": "stream",
     "text": [
      "Offerors shall include a completed copy of the provision at 52.212-3, Offeror Representations and Certifications-Commercial Products and Commercial Services as well as all other applicable provisions within this solicitation, with its offer.\n",
      "The executive coaching engagement shall consist of 1:1 Coaching by ICF credentialed coaches, On-Demand Coaching with sessions occurring within one business day, Learning/Development Resources to support the coachees to gain knowledge and develop skills in coaching areas which includes a whole-person approach, and Assessment to be completed at start and end of engagements.\n",
      "The Contractor shall have the capacity to offer 360 Assessments aligned with Office of Personnel Management’s Executive Core Qualifications included in the platform/licensing fee, platform access for users to serve as a single stop for all services/resources and for admins to show real-time monitoring and usage, and demonstration of ability to scale resources is necessary due to the nature of the contracting mechanism.\n",
      "The following clauses are incorporated by full text: FAR 52.212-5 - Contract Terms and Conditions Required to Implement Statutes or Executive Orders— Commercial Products and Commercial Services (Jun 2023). The Contractor shall comply with the specified FAR clauses to implement provisions of law or Executive orders applicable to acquisitions of commercial products and commercial services.\n",
      "The Contractor shall comply with the FAR clauses indicated by the Contracting Officer as being incorporated in the contract by reference to implement provisions of law or Executive orders applicable to acquisitions of commercial products and commercial services. The clauses include 52.203-6, 52.204-10, 52.204-15, 52.204-27, and 52.209-6.\n",
      "The chunk includes clauses 52.209-9, 52.219-3, and 52.219-4.\n",
      "The amendment includes clauses such as 52.219-8, Utilization of Small Business Concerns, 52.219-9, Small Business Subcontracting Plan, 52.219-16, Liquidated Damages—Subcontracting Plan, which are essential for compliance with small business requirements.\n",
      "The chunk includes clauses 52.219-28, Post Award Small Business Program Rerepresentation, 52.219-29, Notice of Set-Aside for, or Sole-Source Award to, Economically Disadvantaged Women-Owned Small Business Concerns, and 52.219-30, Notice of Set-Aside for, or Sole-Source Award to, Women-Owned Small Business Concerns Eligible Under the Women-Owned Small Business Program.\n",
      "The amendments include clauses such as FAR 52.219-32, 52.219-33, 52.222-3, 52.222-21, 52.222-26, 52.222-35, 52.222-36, 52.222-37, 52.222-40, and 52.222-50.\n",
      "The Contractor shall comply with the FAR clauses indicated by the Contracting Officer as being incorporated in the contract by reference to implement provisions of law or Executive orders applicable to acquisitions of commercial products and commercial services. These include clauses such as 52.222-41, 52.222-42, 52.222-43, 52.222-44, 52.222-51, 52.222-53, 52.222-55, and 52.222-62.\n",
      "The RFP includes clauses such as 52.204-23, 52.204-25, 52.204-27, 52.219-8, 52.222-21, 52.222-26, and 52.222-35 which outline prohibitions on contracting for specific services or equipment, utilization of small business concerns, and equal opportunity requirements.\n",
      "The documentation requested by the Contracting Officer to demonstrate \"good faith effort\" may include the total number of Contractor's employees, number of minority and women employees, list of subcontract awards, information about subcontractors, and the Contractor's plan to ensure opportunities for minorities and women in the workforce.\n",
      "The offeror must certify that the prices in the offer have been arrived at independently and without any consultation, communication, or agreement with any other offeror or competitor. The prices should not be disclosed to any other offeror or competitor before bid opening or contract award, and no attempt should be made to restrict competition.\n",
      "The chunk includes information about FAR 52.204-5, which defines a \"Women-owned business concern\" and requires a representation if the offeror is a women-owned business concern. It also includes information about FAR 52.204-24, which states that the Offeror shall not complete a representation if they have already represented that they do not provide covered telecommunications equipment or services.\n",
      "The Offeror must indicate whether they will or will not provide covered telecommunications equipment or services to the Government in the performance of any contract resulting from this solicitation. Additional disclosure information is required if the Offeror responds \"will\" in this section.\n",
      "An Economically Disadvantaged Women-Owned Small Business (EDWOSB) concern is a small business that is at least 51% owned by women who are citizens of the United States and economically disadvantaged. The management and daily business operations must also be controlled by these women. This concern must be certified by the SBA or an approved third-party certifier to qualify as a women-owned small business eligible under the WOSB Program.\n",
      "Definitions for Highest-level owner, Immediate owner, Inverted domestic corporation, and Manufactured end product are provided in this chunk.\n",
      "The chunk provides definitions for terms like Predecessor, Reasonable inquiry, Restricted business operations, and Sensitive technology.\n",
      "The chunk provides definitions and criteria for a small business concern and a service-disabled veteran-owned small business concern. This information is crucial for potential offerors to understand the eligibility requirements for participation in the contract.\n",
      "A small disadvantaged business concern is defined as a small business concern that is at least 51 percent unconditionally and directly owned by socially and economically disadvantaged individuals who are citizens of the United States, with each individual having a net worth not exceeding $750,000. The management and daily business operations must be controlled by individuals meeting these criteria.\n",
      "Offerors must complete the representations and certifications listed in the amendment and ensure they are current, accurate, and complete at the time of submission. Any changes provided by the offeror are applicable to this solicitation only and do not result in an update to the representations and certifications posted electronically on SAM.\n",
      "The offeror must represent whether they are a service-disabled veteran-owned small business concern, a joint venture compliant with specific requirements, or a small disadvantaged business concern.\n",
      "Offerors must complete the representations regarding women-owned small business concerns, WOSB joint ventures, economically disadvantaged women-owned small business joint ventures, women-owned business concerns, tie bid priority for labor surplus area concerns, and HUBZone small business concerns as required in the RFP. Failure to complete these representations may result in exclusion from consideration.\n",
      "The offeror must represent whether they are a HUBZone small business concern and if they will maintain an employment rate of HUBZone residents of 35 percent of its employees during performance of a HUBZone contract. They must also represent if they are part of a HUBZone joint venture and provide the necessary information.\n",
      "The Offeror shall list as foreign end products those end products manufactured in the United States that do not qualify as domestic end products. For those foreign end products that do not consist wholly or predominantly of iron or steel or a combination of both, the Offeror shall also indicate whether these foreign end products exceed 55 percent domestic content, except for those that are COTS items. If the percentage of the domestic content is unknown, select “no”.\n",
      "The Government will evaluate offers in accordance with the policies and procedures of FAR part 25, including the Buy American-Free Trade Agreements-Israeli Trade Act Certificate. Offerors must certify that each end product is a domestic end product and that each domestic end product contains a critical component. Definitions for terms such as \"domestic end product,\" \"critical component,\" and \"Free Trade Agreement country\" are provided in the solicitation clause.\n",
      "The RFP includes requirements for Buy American-Free Trade Agreements-Israeli Trade Act Certificate, Alternate III, and Trade Agreements Certificate. Offerors must provide the necessary certifications and list the country of origin for each end product as required by the clauses mentioned. Failure to comply with these requirements may result in the offeror being excluded from consideration.\n",
      "The offeror must provide a Certification Regarding Responsibility Matters (Executive Order 12689) if the contract value is expected to exceed the simplified acquisition threshold. The certification includes information on debarment, criminal convictions, indictments, and delinquent Federal taxes.\n",
      "The offeror must certify that it has made a good faith effort to determine whether forced or indentured child labor was used in the production of any end product furnished under the contract. The offeror must certify that it is not aware of any such use of child labor.\n",
      "The offeror must certify whether the services under the contract are offered and sold regularly to non-Governmental customers, provided to the general public in substantial quantities, and furnished at established catalog or market prices. Additionally, the offeror must ensure that each service employee spends only a small portion of their time servicing the Government contract.\n",
      "The compensation (wage and fringe benefits) plan for all service employees performing work under the contract must be the same as that used for equivalent employees servicing commercial customers. If the offeror does not certify to the conditions and the Contracting Officer did not attach a Service Contract Labor Standards wage determination to the solicitation, the offeror must notify the Contracting Officer as soon as possible. The Contracting Officer may not make an award to the offeror if the offeror fails to execute the certification or to contact the Contracting Officer as required.\n",
      "The offeror must certify that they do not conduct any restricted business operations in Sudan. The offeror must also represent whether they are an inverted domestic corporation or a subsidiary of one. The offeror must email questions concerning sensitive technology to the Department of State at CISADA106@state.gov regarding contracting with entities engaging in certain activities or transactions relating to Iran.\n",
      "Offerors must make representations and certifications regarding exporting sensitive technology to Iran, engaging in activities for which sanctions may be imposed under the Iran Sanctions Act, and engaging in transactions with Iran's Revolutionary Guard Corps. Failure to comply may result in exclusion from consideration.\n",
      "The Offeror must provide information on the highest-level owner CAGE code and legal name if the immediate owner is owned or controlled by another entity. The Government will not enter into a contract with any corporation that has unpaid Federal tax liability or was convicted of a felony criminal violation under any Federal law within the preceding 24 months unless suspension or debarment is not necessary to protect the interests of the Government.\n",
      "The Offeror must indicate whether they are or are not a successor to a predecessor that held a Federal contract or grant within the last three years. This applies in all solicitations that include the provision at 52.204-16, Commercial and Government Entity Code Reporting.\n",
      "The Offeror must provide information for all predecessors that held a Federal contract or grant within the last three years, listing them in reverse chronological order. The representation regarding Public Disclosure of Greenhouse Gas Emissions and Reduction Goals applies if the Offeror received $7.5 million or more in contract awards in the prior Federal fiscal year.\n",
      "The Offeror must provide the publicly accessible website(s) where greenhouse gas emissions and/or reduction goals are reported if they checked \"does\" in specific paragraphs.\n",
      "The Offeror must review the list of excluded parties in the System for Award Management (SAM) for entities excluded from receiving federal awards for \"covered telecommunications equipment or services\". The Offeror must also provide a representation regarding covered telecommunications equipment or services as part of its offered products or services to the Government.\n",
      "The offeror must execute the consent to disclosure provided in paragraph (d) of this provision and include it with the submission of its offer. The consent to disclosure shall be signed by an authorized person as required and defined in 26 U.S.C. 6103(c) and 26 CFR 301.6103(c)-1(e)(4).\n",
      "The offeror must consent to the disclosure of taxpayer return information to the Department of the Treasury, Internal Revenue Service, as necessary to resolve any matters pertaining to the results of the tax check, to the authorized representatives of the offeror. Failure to provide this authorization may remove the offer from eligibility to receive an award under this solicitation.\n",
      "All Offerors are responsible for ensuring that Point of Contact’s (POC) and Alternate Point of Contact’s (APOC) are reachable, and that all information listed above is current and valid. The Government reserves the right to contact any reference or use any other relative past performance information deemed appropriate by the Contracting Officer. Offerors must submit all included “fill-in” Provisions/Clause including FAR 52.203-2, 52.204-5, 52.204-24, 52.212-3, and DTAR 1052.209-70. Providing a proposal without filling in the Provisions/Clauses may result in the offeror receiving an overall evaluated score of “Non-Responsive”. Proposals that fail to furnish required representations or information or reject the terms and conditions of the solicitation may be excluded from consideration. These will not be part of your page count. For evaluation purposes, only pricing provided on Attachment 3: Price Submission Sheet will be evaluated for award decision. Offerors shall input rates per unit monthly price established for the on-demand coaching services, to calculate a yearly total price for the base and 3 option periods and the possibility of an additional 6 months after option period 3, as well as any discounts offered.\n",
      "The document is an Amendment 1 with the identifier 2032H323R00065. It includes an attachment for a Past Performance Reference Form that requires details such as Offeror’s Name, Client/Customer Company Name and Address, Title of Contract or Agreement, Client Project Manager or Contracting Representative details, Period of Performance, and Description of Service(s) or Product(s).\n"
     ]
    }
   ],
   "source": [
    "for idx in other_reqs_ids:\n",
    "    print(test_data[idx])"
   ]
  },
  {
   "cell_type": "code",
   "execution_count": 23,
   "metadata": {},
   "outputs": [],
   "source": [
    "import pandas as pd\n",
    "\n",
    "# create a separate dataframe for each type of requirement\n",
    "eval_df = pd.DataFrame([test_data[idx] for idx in avaulation_ids], columns=[\"text\"])\n",
    "log_df = pd.DataFrame([test_data[idx] for idx in logistical_ids], columns=[\"text\"])\n",
    "pricing_df = pd.DataFrame([test_data[idx] for idx in pricing_ids], columns=[\"text\"])\n",
    "sow_df = pd.DataFrame([test_data[idx] for idx in sow_ids], columns=[\"text\"])\n",
    "other_reqs_df = pd.DataFrame([test_data[idx] for idx in other_reqs_ids], columns=[\"text\"])"
   ]
  },
  {
   "cell_type": "code",
   "execution_count": 25,
   "metadata": {},
   "outputs": [],
   "source": [
    "# export all dfs into a single excel file with each df in a separate sheet\n",
    "with pd.ExcelWriter('tests/mar-14/02-critical-compliances-annotated.xlsx') as writer:\n",
    "    eval_df.to_excel(writer, sheet_name='evaluation_criteria', index=False)\n",
    "    log_df.to_excel(writer, sheet_name='logistical_requirements', index=False)\n",
    "    pricing_df.to_excel(writer, sheet_name='pricing_requirements', index=False)\n",
    "    sow_df.to_excel(writer, sheet_name='statement_of_work', index=False)\n",
    "    other_reqs_df.to_excel(writer, sheet_name='other_requirements', index=False)"
   ]
  },
  {
   "cell_type": "code",
   "execution_count": 9,
   "metadata": {},
   "outputs": [],
   "source": [
    "# export metrics into a separate text file\n",
    "with open('tests/mar-15/metrics.txt', 'w') as file:\n",
    "    for idx in metrics_ids:\n",
    "        file.write(test_data[idx] + \"\\n\")"
   ]
  },
  {
   "cell_type": "code",
   "execution_count": null,
   "metadata": {},
   "outputs": [],
   "source": []
  }
 ],
 "metadata": {
  "kernelspec": {
   "display_name": "venv",
   "language": "python",
   "name": "python3"
  },
  "language_info": {
   "codemirror_mode": {
    "name": "ipython",
    "version": 3
   },
   "file_extension": ".py",
   "mimetype": "text/x-python",
   "name": "python",
   "nbconvert_exporter": "python",
   "pygments_lexer": "ipython3",
   "version": "3.11.5"
  }
 },
 "nbformat": 4,
 "nbformat_minor": 2
}
