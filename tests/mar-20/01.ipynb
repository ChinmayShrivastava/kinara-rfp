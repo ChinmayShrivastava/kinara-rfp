{
 "cells": [
  {
   "cell_type": "code",
   "execution_count": 1,
   "metadata": {},
   "outputs": [
    {
     "name": "stderr",
     "output_type": "stream",
     "text": [
      "Initialized PDFAnnotator with doefund.pdf\n"
     ]
    }
   ],
   "source": [
    "from pdf_page_annotator import PDFAnnotator\n",
    "\n",
    "annotator = PDFAnnotator('doefund.pdf', verbose=True)"
   ]
  },
  {
   "cell_type": "code",
   "execution_count": 2,
   "metadata": {},
   "outputs": [
    {
     "name": "stderr",
     "output_type": "stream",
     "text": [
      "Page 0 ...\n",
      "Page 1 ...\n",
      "Page 2 ...\n",
      "Page 3 ...\n",
      "Page 4 ...\n",
      "Page 5 ...\n",
      "Page 6 ...\n",
      "Finished annotating table of contents\n",
      "Extracting contents ...\n",
      "Extracting contents from page 2 ...\n",
      "Extracting contents from page 3 ...\n",
      "Extracting contents from page 4 ...\n",
      "Extracting contents from page 5 ...\n",
      "Extracted contents\n",
      "Extracting contents from chunk ...\n",
      "Extracting contents from chunk ...\n",
      "Extracting contents from chunk ...\n",
      "Extracting contents from chunk ...\n",
      "Extracting contents from chunk ...\n",
      "Extracting contents from chunk ...\n",
      "Extracting contents from chunk ...\n",
      "Extracting contents from chunk ...\n",
      "Extracting contents from chunk ...\n",
      "Extracting contents from chunk ...\n",
      "Extracting contents from chunk ...\n",
      "Extracting contents from chunk ...\n",
      "Extracting contents from chunk ...\n",
      "Extracting contents from chunk ...\n",
      "Extracting contents from chunk ...\n",
      "Extracting contents from chunk ...\n",
      "Extracting contents from chunk ...\n",
      "Extracting contents from chunk ...\n",
      "Extracting contents from chunk ...\n"
     ]
    }
   ],
   "source": [
    "annotator.run_extraction_pipeline()"
   ]
  },
  {
   "cell_type": "code",
   "execution_count": 3,
   "metadata": {},
   "outputs": [
    {
     "data": {
      "text/plain": [
       "('I. Funding Opportunity Description', 1, 12)"
      ]
     },
     "execution_count": 3,
     "metadata": {},
     "output_type": "execute_result"
    }
   ],
   "source": [
    "content = annotator.contents\n",
    "content[0].unique_title, content[0].start_page, content[0].end_page"
   ]
  },
  {
   "cell_type": "code",
   "execution_count": 5,
   "metadata": {},
   "outputs": [
    {
     "data": {
      "text/plain": [
       "126"
      ]
     },
     "execution_count": 5,
     "metadata": {},
     "output_type": "execute_result"
    }
   ],
   "source": [
    "# extract all the tuples of (start_page, end_page) for each unique_title\n",
    "heading_tuples = []\n",
    "for c in content:\n",
    "    heading_tuples.append((c.unique_title, c.start_page, c.end_page))\n",
    "len(heading_tuples)"
   ]
  },
  {
   "cell_type": "code",
   "execution_count": 6,
   "metadata": {},
   "outputs": [],
   "source": [
    "# export the tuples into a csv file names toc.csv\n",
    "import csv\n",
    "with open('toc.csv', 'w', newline='') as file:\n",
    "    writer = csv.writer(file)\n",
    "    writer.writerows(heading_tuples)"
   ]
  },
  {
   "cell_type": "code",
   "execution_count": 16,
   "metadata": {},
   "outputs": [
    {
     "name": "stdout",
     "output_type": "stream",
     "text": [
      "Given are the Table of Contents of an RFP document. Based on the user query, return the section and it's contents where the requested information is found.\n",
      "Each table of content tuple contains the unique heading, start page and end page of the section.\n",
      "Table of Contents:\n",
      "[('I. Funding Opportunity Description', 1, 12), ('A. Background and Context', 1, 2), ('i. Program Purpose', 2, 2), ('ii. Technology Space and Strategic Goals', 5, 5), ('B. Topic Areas', 6, 6), ('C. Applications Specifically Not of Interest', 11, 11), ('D. R&D Community Benefits Plan (CBP)', 12, 12), ('E. Authorizing Statutes', 12, 12), ('F. Notice of Bipartisan Infrastructure Law– Specific Requirements', 13, 13), ('II. Award Information', 14, 15), ('A. Award Overview', 14, 14), ('B. DOE Funding Agreements', 14, 15), ('III. Eligibility Information', 15, 15), ('A. Eligible Applicants', 15, 16), ('B. Cost Sharing', 16, 19), ('C. Compliance Criteria', 20, 20), ('D. Responsiveness Criteria', 21, 21), ('E. Other Eligibility Requirements', 21, 21), ('F. Limitation on Number of Concept Papers and Full Applications Eligible for Review', 22, 22), ('G. Questions Regarding Eligibility', 23, 23), ('IV. Application and Submission Information', 23, 23), ('A. Application Process', 23, 23), ('B. Application Forms', 24, 24), ('C. Content and Form of the Concept Paper', 24, 24), ('D. Content and Form of the Full Application', 25, 25), ('i. Full Application Content Requirements', 26, 26), ('ii. Technical Volume', 27, 27), ('iii. Resumes', 31, 31), ('iv. Letters of Commitment', 32, 32), ('v. Statement of Project Objectives (SOPO)', 33, 33), ('vi. SF- 424: Application for Federal Assistance', 33, 33), ('vii. Budget Justification Workbook', 33, 33), ('viii. Summary for Public Release', 34, 34), ('ix. Summary Slide', 34, 34), ('x. Subrecipient Budget Justification (if applicable)', 35, 35), ('xi. Budget for DOE/NNSA FFRDC (if applicable)', 35, 35), ('xii. Authorization for Non-DOE/NNSA or DOE/NNSA FFRDCs (if applicable)', 35, 35), ('xiii. SF- LLL: Disclosure of Lobbying Activities (required)', 35, 35), ('xiv. Waiver Requests (if applicable)', 36, 36), ('R&D Community Benefits Plan', 36, 36), ('Current and Pending Support', 38, 38), ('Locations of Work', 41, 41), ('Transparency of Foreign Connections', 41, 41), ('Potentially Duplicative Funding Notice', 42, 42), ('Data Management Plan', 43, 43), ('Post Selection Information Requests', 44, 44), ('Unique Entity Identifier (UEI) and System for Award Management (SAM)', 45, 45), ('Submission Dates and Times', 45, 45), ('Intergovernmental Review', 45, 45), ('I. Funding Restrictions', 45, 52), ('i. Allowable Costs', 45, 45), ('ii. Pre-Award Costs', 46, 46), ('iii. Performance of Work in the United States (Foreign Work Waiver)', 47, 47), ('iv. Construction', 47, 47), ('v. Foreign Travel', 48, 48), ('vi. Equipment and Supplies', 48, 48), ('vii. Build America Buy America Requirements for Infrastructure Projects', 48, 48), ('viii. Davis-Bacon Act Requirements', 50, 50), ('ix. Lobbying', 52, 52), ('x. Risk Assessment', 52, 52), ('xi. Invoice Review and Approval', 53, 53), ('xii. Prohibition Related to Foreign Government-Sponsored Talent Recruitment Programs', 54, 54), ('xiii. Affirmative Action and Pay Transparency Requirements', 55, 55), ('xiv. Foreign Collaboration Considerations', 56, 56), ('V. Application Review Information', 56, 61), ('A. Technical Review Criteria', 56, 61), ('i. Concept Papers', 56, 61), ('ii. Full Applications', 57, 61), ('B. Standards for Application Evaluation', 61, 61), ('C. Other Selection Factors', 61, 61), ('D. Evaluation and Selection Process', 62, 63), ('E. Anticipated Notice of Selection and Award Negotiation Dates', 63, 63), ('VI. Award Administration Information', 64, 64), ('i. Ineligible Submissions', 64, 64), ('ii. Concept Paper Notifications', 64, 64), ('iii. Full Application Notifications', 64, 64), ('iv. Applicants Selected for Award Negotiations', 64, 64), ('v. Alternate Selection Determinations', 65, 65), ('vi. Unsuccessful Applicants', 65, 65), ('B. Administrative and National Policy Requirements', 65, 67), ('i. Registration Requirements', 65, 65), ('ii. Award Administrative Requirements', 67, 67), ('iii. Foreign National Participation', 67, 67), ('iv. Subaward and Executive Reporting', 67, 67), ('National Policy Requirements', 68, 68), ('Environmental Review in Accordance with National Environmental Policy Act (NEPA)', 68, 68), ('Flood Resilience', 68, 68), ('Applicant Representations and Certifications', 69, 69), ('Statement of Federal Stewardship', 70, 70), ('Subject Invention Utilization Reporting', 71, 71), ('Intellectual Property Provisions', 71, 71), ('Reporting', 71, 71), ('Go/No-Go Review', 72, 72), ('Conference Spending', 73, 73), ('Uniform Commercial Code (UCC) Financing Statements', 73, 73), ('Real Property and Equipment', 74, 74), ('Participants and Collaborating Organizations', 75, 75), ('Current and Pending Support', 75, 75), ('U.S. Manufacturing Commitments', 75, 75), ('Interim Conflict of Interest Policy for Financial Assistance', 76, 76), ('Data Management Plan', 77, 77), ('Human Subjects Research', 78, 78), ('xxv. Cybersecurity Plan', 79, 79), ('VII. Questions/Agency Contacts', 80, 80), ('VIII. Other Information', 80, 82), ('H. Requirement for Full and Complete Disclosure', 82, 82), ('I. Retention of Submissions', 83, 83), ('J. Title to Subject Inventions', 83, 83), ('K. Government Rights in Subject Inventions', 84, 84), ('L. Rights in Technical Data', 85, 85), ('M. Copyright', 85, 85), ('N. Export Control', 86, 86), ('O. Prohibition on Certain Telecommunications and Video Surveillance Services or Equipment', 86, 86), ('P. Personally Identifiable Information (PII)', 86, 86), ('Q. Annual Independent Audits', 87, 87), ('1.1.5 Heading 1', 5, 5), ('1.1.6 Heading 2', 6, 6), ('Appendix A – Cost Share Information', 88, 88), ('Appendix B – Sample Cost Share Calculation for Blended Cost Share Percentage', 93, 93), ('Appendix C – Waiver Requests For: 1. Foreign Entity Participation; and 2. Foreign Work', 95, 95), ('Appendix E – Definition of Technology Readiness Levels', 102, 102), ('Appendix F – List of Acronyms', 103, 103), ('Appendix G – R&D Community Benefits Plan Guidance', 105, 105), ('1.1.5 Heading 1', 5, 5), ('1.1.6 Heading 2', 6, 6), ('1.1.7 Heading 3', 7, 8)]\n",
      "Query:\n",
      "Where can I find all the evaluation criteria?\n",
      "---\n",
      "Return a list of tuples as expressed above.\n",
      "Results:\n"
     ]
    }
   ],
   "source": [
    "PROMPT = \"\"\"Given are the Table of Contents of an RFP document. Based on the user query, return the section and it's contents where the requested information is found.\n",
    "Each table of content tuple contains the unique heading, start page and end page of the section.\n",
    "Table of Contents:\n",
    "{toc}\n",
    "Query:\n",
    "{query}\n",
    "---\n",
    "Return a list of tuples as expressed above.\n",
    "Results:\"\"\"\n",
    "print(PROMPT.format(toc=heading_tuples, query=\"Where can I find all the evaluation criteria?\"))"
   ]
  },
  {
   "cell_type": "code",
   "execution_count": 23,
   "metadata": {},
   "outputs": [],
   "source": [
    "from llama_index.llms.openai import OpenAI\n",
    "llm = OpenAI(model=\"gpt-3.5-turbo\")\n",
    "response = llm.complete(PROMPT.format(toc=heading_tuples, query=\"Where can I find all the evaluation criteria? Return the section start and end item.\")).text"
   ]
  },
  {
   "cell_type": "code",
   "execution_count": 24,
   "metadata": {},
   "outputs": [
    {
     "data": {
      "text/plain": [
       "\"[('V. Application Review Information', 56, 61), ('A. Technical Review Criteria', 56, 61), ('i. Concept Papers', 56, 61), ('ii. Full Applications', 57, 61), ('B. Standards for Application Evaluation', 61, 61), ('C. Other Selection Factors', 61, 61), ('D. Evaluation and Selection Process', 62, 63), ('E. Anticipated Notice of Selection and Award Negotiation Dates', 63, 63)]\""
      ]
     },
     "execution_count": 24,
     "metadata": {},
     "output_type": "execute_result"
    }
   ],
   "source": [
    "response"
   ]
  },
  {
   "cell_type": "code",
   "execution_count": 25,
   "metadata": {},
   "outputs": [
    {
     "data": {
      "text/plain": [
       "[('V. Application Review Information', 56, 61),\n",
       " ('A. Technical Review Criteria', 56, 61),\n",
       " ('i. Concept Papers', 56, 61),\n",
       " ('ii. Full Applications', 57, 61),\n",
       " ('B. Standards for Application Evaluation', 61, 61),\n",
       " ('C. Other Selection Factors', 61, 61),\n",
       " ('D. Evaluation and Selection Process', 62, 63),\n",
       " ('E. Anticipated Notice of Selection and Award Negotiation Dates', 63, 63)]"
      ]
     },
     "execution_count": 25,
     "metadata": {},
     "output_type": "execute_result"
    }
   ],
   "source": [
    "import ast\n",
    "response = ast.literal_eval(response)\n",
    "response"
   ]
  },
  {
   "cell_type": "code",
   "execution_count": 26,
   "metadata": {},
   "outputs": [
    {
     "data": {
      "text/plain": [
       "(56, 63)"
      ]
     },
     "execution_count": 26,
     "metadata": {},
     "output_type": "execute_result"
    }
   ],
   "source": [
    "page_start = response[0][1]\n",
    "page_end = response[-1][2]\n",
    "page_start, page_end"
   ]
  },
  {
   "cell_type": "code",
   "execution_count": 31,
   "metadata": {},
   "outputs": [
    {
     "data": {
      "text/plain": [
       "[' \\nQuestions about this FOA? Email : DE-FOA-0003120@netl.doe.gov  \\nProblems with EERE eXCHANGE ? Email EERE -eXCHANGE Support@hq.doe.gov  Include FOA name and number in \\nsubject line.  \\n 56 \\n \\nxiv. Foreign Collaboration Considerations  \\na. Consideration of new collaborations with foreign entities , organizations,  and \\ngovernments . The re cipient will be required to provide DOE with advanced \\nwritten notification of any potential collaboration with foreign entities , \\norganizations,  or governments in connection with its DOE -funded award scope. \\nThe recipient will then be required to await further guidance from DOE prior to \\ncontacting the proposed foreign entity , organizations,  or government regarding \\nthe potential collaboration or negotiating the terms of any potential agreement.  \\n \\nb. Existing collaborations with foreign entitie s, organizations,  and governments . \\nThe recipient will be required to provide DOE with a written list of all existing foreign collaborations in which has entered in connection with its DOE -funded \\naward scope.  \\n \\nc. Description of collaborations that should be reported . In general, a collaboration \\nwill involve some provision of a thing of value to, or from, the recipient. A thing of value includes but may not be limited to all resources made available to, or from, the recipient in support of and/or related to the DOE awa rd, regardless of \\nwhether  or not  they have monetary value. Things of value also may include in -\\nkind contributions (such as office/laboratory space, data, equipment, supplies, employees, students). In- kind contributions not intended for direct use on the \\nDOE award but resulting in provision of a thing of value from or to the DOE \\naward must also be reported. Collaborations do not include routine workshops, conferences, use of the recipient’s services and facilities by foreign investigators resulting from its standard published process for evaluating requests for access, \\nor the routine use of foreign facilities by awardee staff in accordance with the recipient’s standard poli cies and procedures.     \\nV. Application Review Information \\nA. Technical Review Criteria  \\n \\ni. Concept Papers  \\nConcept Papers are evaluated based on consideration the following factors.  All \\nsub-criteria are of equal weight.  \\n Concept Paper Criterion: Overall FOA Responsiveness and Viability of the Project (Weight: 100%)  \\nThis criterion involv es consideration of the following factors:  ',\n",
       " ' \\nQuestions about this FOA? Email : DE-FOA-0003120@netl.doe.gov  \\nProblems with EERE eXCHANGE ? Email EERE -eXCHANGE Support@hq.doe.gov  Include FOA name and number in \\nsubject line.  \\n 57 \\n• The applicant clearly describes the proposed technology, how the technology \\nis unique and innovative, and how the technology will advance the current state- of-the- art; \\n• The applicant has identified risks and challenges of the technology, regulatory and financial aspects of the proposal including possible mitigation strategies, and has shown the impact that EERE funding and the proposed project would have on the relevant field and application;  \\n• The applicant has the qualifications, experience, capabilities and other resources necessary to complete the proposed project; and  \\n• The proposed work, if successfully accomplished, would clearly meet the objectives as stated in the FOA.  \\n \\nii. Full Applications  \\nApplications will be evaluated against the technical review criteria shown below. \\nAll sub -criteria are of equal weight.  \\n Criterion 1: Technical Merit, Innovation, and Impact (45%)  \\nThis criterion  involves consideration of the following factors:  \\n \\nTechnical Merit and Innovation  \\n• Extent to which the proposed technology , process , or project  is innovative or \\nreplicable ; \\n• Degree to which the current state of the technology and the proposed advancement are clearly described ; \\n• Extent to which the application specifica lly and convincingly demonstrates \\nhow the applicant will move the state  of the art to the proposed \\nadvancement; \\n• Sufficiency of technical detail in the application to assess whether the proposed work is scientifically meritorious and revolutionary, includin g \\nrelevant data, calculations , and discussion of prior work with analyses that \\nsupport the viability of the proposed work; \\n• Degree to which key manufacturing and supply chain challenges are \\nconsidered, as applicable, for viable scale -up in this and future \\ndemonstrations; \\n• Degree to which siting and environmental constraints are considered for deployment; \\n• Extent to which project has the potential to reduce emissions and provide clean energy acceleration benefits for a community or region ; and \\n• Sufficiency of existing  infrastructure to support addition of proposed \\ndemonstration. \\n ',\n",
       " ' \\nQuestions about this FOA? Email : DE-FOA-0003120@netl.doe.gov  \\nProblems with EERE eXCHANGE ? Email EERE -eXCHANGE Support@hq.doe.gov  Include FOA name and number in \\nsubject line.  \\n 58 \\nImpact of Technology Advancement  \\n• Ability of the project to advance industry adoption; \\n• Extent to which the project supports the topic area objectives and target \\nspecifications and metrics ; \\n• Potential impact of the project on advancing the state  of the art; \\n• Extent to which demonstration/deployment is replicable and may lead to \\nfuture demonstrations ; and  \\n• Extent to which the project facilitates stakeholder relationships across new or existing stakeholders to gain technical buy -in and increase potential for \\nfuture deployments.  \\n  \\nProject Management  \\n• Adequacy of proposed project management systems including the ability to track scope, cost, and schedule progress and changes ; \\n• Reasonableness  of budget and spend plan  as detailed  in the budget \\njustification workbook for proposed project and objectives;  \\n• Adequacy, reasonableness, and soundness of the project schedule, as well as periodic Go/No -Go decisions prior to further funds disbursement, interim \\nmilestones, and metrics to track process ; \\n• Adequacy, reasonableness, and soundness of the project schedule, as well as annual Go /No-Go decisions prior to a budget period continuation \\napplication, interim milestones, and metrics to track process ; \\n• Adequacy of the identification of risks, including labor and community opposition or disputes, and “timely” and appropriate strategies for mitigation and resolution; and  \\n \\nCriterion 2: Projec t Demonstration and Market Transformation Plan (25 %)   \\nThis criterion involves consideration of the following factors:  \\n \\nDemonstration Approach, Workplan , and SOPO  \\n• Degree to which the approach and critical path have been clearly described and thoughtfully considered; and  \\n• Degree to which the task descriptions are clear, detailed, timely, and reasonable, re sulting in a high likelihood that the proposed Workplan and \\nSOPO will succeed in meeting the project goals.  \\n \\nIdentification of Technica l Risks \\n• Discussion and demonstrated understanding of the key technical risk areas involved in the proposed work and the quality of the mitigation strategies to address them.  ',\n",
       " ' \\nQuestions about this FOA? Email : DE-FOA-0003120@netl.doe.gov  \\nProblems with EERE eXCHANGE ? Email EERE -eXCHANGE Support@hq.doe.gov  Include FOA name and number in \\nsubject line.  \\n 59 \\n \\nBaseline, Metrics, and Deliverables  \\n• Level of clarity in the definition of the baseline, metrics, and milestones; and \\n• Relative to a clearly defined project baseline, the strength of the quantifiable \\nmetrics, milestones, and mid -point deliverables defined in the application, \\nsuch that meaningful interim progress will be made.  \\n \\nMarket Transformation Plan  \\n• Identification of target market, competitors, and distribution channels for proposed technology along with known or perceived barriers to market penetration, including mitigation plan; and \\n• Comprehensiveness of market transformation plan including but not limited to product development and/or service plan, commercialization timeline, financing, product marketing, legal/regulatory considerations including \\nintellectual property, infrastructure requirements, Open -source  Software \\nDistribution Plan, etc., and product distribution.  \\n \\nIndustry Adoption Plan  \\n• Identification of the interest and extent of industry adoption of the \\ntechnology/process. \\n \\nCriterion 3: Team a nd Resources  (15%) \\nThis criterion involves consideration of the following factors:  \\n \\n• Capability of the project manager(s) and the proposed team to address all \\naspects of the proposed work with a high probability of success. The qualifications, relevant expertise, and time commitment of the individuals on \\nthe team;  \\n• Diversity  of expertise and perspectives  of the team  and the inclusion  of \\nindustry partners that will amplify impact;  \\n• Provision of appropriate resources in budget to ensure livable wages and \\nbenefits for all employees, including students, early career researchers, or other trainees employed on the project ;  \\n• Sufficiency of the facilities to support the work;  \\n• Degree to which the proposed consortia/team demonstrates the ability to facilitate and expedite further demonstration, development and commercial deployment of the proposed technologies;  \\n• Level of participation by project participants as evidenced by letter(s) of commitment and how well they are integrated into the Workplan; and \\n• Reasonableness of the budget and spend plan for the proposed project and \\nobjectives.  ',\n",
       " ' \\nQuestions about this FOA? Email : DE-FOA-0003120@netl.doe.gov  \\nProblems with EERE eXCHANGE ? Email EERE -eXCHANGE Support@hq.doe.gov  Include FOA name and number in \\nsubject line.  \\n 60 \\nCriterion 4: R&D Community Benefits Plan (15%) \\nThis criterion involves  consideration of the following factors:  \\n \\nDiversity, Equity, Inclusion, and Accessibility  \\n• Clear articulation of the project’s goals related to diversity, equity, inclusion, \\nand accessibility ;  \\n• Quality of the project’s DEIA goals, as measured by the goals’ depth, breadth, likelihood of success, inclusion of appropriate and relevant SMART \\nmilestones, and overall project integration ; \\n• Degree of commitment and ability to track progress toward meeting each of \\nthe DEIA  goals ; and \\n• Extent of engagement of organizations that represent disadvantaged communities  as a core element of their mission, including Minority  Serving \\nInstitutions (MSIs) , Minority Business Entities, and nonprofit or community -\\nbased organizations.  \\n \\nEnergy Equity  \\n• Clear workplan tasks, staffing, research, and timeline for engaging energy equity stakeholders and/or evaluating the possible near - and long -term \\nimplications of the project for the benefit of the American public , including \\nbut not limited to public health and public prosperity benefits ; \\n• Approach, methodology, and  expertise articulated in the plan for addressing \\nenergy equity and justice issues associated with the technology innovation; and \\n• Likelihood that the plan will result in improved understanding of distributional public benefits and costs related to the innovation if successful.  \\n \\nWorkforce Implications   \\n• Clear and comprehensive workplan tasks, staffing, research, and timeline for engaging workforce stakeholders and/or evaluating the possible near - and \\nlong- term implications of the project for advancing and retaining good jobs \\nfor the U.S. workforce ;  \\n• Approach to document the knowledge, skills, and abilities of the workforce required for successful commercial deployment of innovations resulting from  \\nthis research ; and \\n• Likelihood that the plan will result in improved understanding of the workforce implications related to the innovation if successful.  ',\n",
       " ' \\nQuestions about this FOA? Email : DE-FOA-0003120@netl.doe.gov  \\nProblems with EERE eXCHANGE ? Email EERE -eXCHANGE Support@hq.doe.gov  Include FOA name and number in \\nsubject line.  \\n 61 \\nB. Standards for Application Evaluation \\nApplications that are determined to be eligible will be evaluated in accordance \\nwith this FOA, by the standards set forth in EERE’s Notice of Objective Merit \\nReview Procedure (76 Fed. Reg. 17846, March 31, 2011) and the guidance provided in the “ DOE  Merit Review Guide for Financial Assistance,” effective \\nSeptem ber 2020, which is available at:  \\nhttps://energy.gov/management/downloads/merit- review -guide-financial-\\nassistance -and-unsolici ted-proposals-current. \\nC. Other Selection Factors  \\n \\ni. Program Policy Factors  \\nIn addition to the above criteria, the Selection Official may consider the following program policy factors in determining which Full Applications to  select for award \\nnegotiations:  \\n• The degree to which the proposed project exhibits technological diversity \\nwhen compared to the existing DOE project portfolio and other projects selected from the subject FOA ; \\n• The degree to which the proposed project, including proposed cost share, optimizes the use of available DO E funding to achieve programmatic \\nobjectives; \\n• The level of industry involvement and demonstrated ability to accelerate demonstration and commercialization and overcome key market barriers;  \\n• The degree to which the proposed project is likely to lead to increased high-\\nquality employment and manufacturing in the United States ; \\n• The degree to which the proposed project will accelerate transformational technological advances in areas that industry by itself is not likely to undertake because of technical and financial uncertainty;  \\n• The degree to which the proposed project, or group of projects, represent a \\ndesired geographic distribution (considering past awards and current application s); \\n• The degre e to which the proposed project incorporates applicant or team \\nmembers from Minority Serving Institutions (e.g., Historically Black Colleges and Universities (HBCUs)/Other Minority Institutions  (OMIs) ); and \\npartnerships with Minority Business Enterprises, minority-owned businesses, woman -owned businesses, veteran -owned businesses, or Indian trib es;  \\n• The degree to which the proposed project, when compared to the existing DOE project portfolio and other projects to be selected from the subject FOA, contributes to the total portfolio meeting the goals reflected in the \\nCommunity Benefits Plan criteria; ',\n",
       " ' \\nQuestions about this FOA? Email : DE-FOA-0003120@netl.doe.gov  \\nProblems with EERE eXCHANGE ? Email EERE -eXCHANGE Support@hq.doe.gov  Include FOA name and number in \\nsubject line.  \\n 62 \\n• The degree to which the proposed project will employ procurement of U.S. \\niron, steel, manufactured products, and construction materials ; \\n• The degree to which the proposed project collectively represents a divers ity \\nof applicant types and sizes of applicant organizations ; \\n• The degree to which the proposed project has broad public support from the \\ncommunit ies most directly impacted by the project ; \\n• The degree to which the proposed project avoids duplication/overlap with other publicly or privately funded work; \\n• The degree to which the proposed project supports complementary efforts \\nor projects, which, when taken together, will best achieve the research goals \\nand objectives ; \\n• The degree to which the proposed project enables new and expanding \\nmarket segments ; \\n• The degree to which the project’s solution or strategy will maximize deployment or replication ; and  \\n• The degree to which the project promotes increased coordination with nongovernmental entities for demonstration of technologies and research \\napplications to facilitate technology transfer.  \\nD. Evaluation and Selection Process \\n \\ni. Overview  \\nThe evaluation process consists of multiple phases; each includes an initial \\neligibility review and a thorough technical review. Rigorous technical reviews of eligible submissions are conducted by reviewers that are experts in  the subject \\nmatter of the FOA. Ultimately, the Selection Official considers the recommendations of the reviewers, along with other considerations such as \\nprogram policy factors  and risk assessments, in determining which applications \\nto select.  \\n \\nii. Pre- Selec tion Clarification  \\nDOE may determine that pre -selection clarifications are necessary from one or \\nmore applicants. Pre -selection clarifications are distinct from and less formal \\nthan pre -selection interviews.  These pre -selection clarifications will solely be for \\nthe purposes of clarifying the application. The pre -selection clarifications may \\noccur before, during or after the merit review evaluation proce ss. Information \\nprovided by an applicant that is not necessary to address the pre -selection \\nclarification question will not be reviewed or considered. Typically, a pre -\\nselection clarification will be carried out through either written responses to \\nDOE’s written clarification questions or video or conference calls  with DO E \\nrepresentatives. ']"
      ]
     },
     "execution_count": 31,
     "metadata": {},
     "output_type": "execute_result"
    }
   ],
   "source": [
    "from pypdf import PdfReader\n",
    "reader = PdfReader('doefund.pdf')\n",
    "text = reader.pages[page_start+5:page_end+5]\n",
    "text = [t.extract_text() for t in text]\n",
    "text"
   ]
  },
  {
   "cell_type": "code",
   "execution_count": 41,
   "metadata": {},
   "outputs": [
    {
     "name": "stdout",
     "output_type": "stream",
     "text": [
      "For the given excerpt from an RFP document, it is suspected that it contains the evaluation criteria and hard requirements that the application will be evaluated against.\n",
      "As an advanced language model, your job is to remove the fluff and return these criteria and requirements.\n",
      "Output a list of these criteria and requirements with each item separated by a newline.\n",
      "Ensure that the items are hard conditionals and not soft language.\n",
      "Excerpt:\n",
      " \n",
      "Questions about this FOA? Email : DE-FOA-0003120@netl.doe.gov  \n",
      "Problems with EERE eXCHANGE ? Email EERE -eXCHANGE Support@hq.doe.gov  Include FOA name and number in \n",
      "subject line.  \n",
      " 56 \n",
      " \n",
      "xiv. Foreign Collaboration Considerations  \n",
      "a. Consideration of new collaborations with foreign entities , organizations,  and \n",
      "governments . The re cipient will be required to provide DOE with advanced \n",
      "written notification of any potential collaboration with foreign entities , \n",
      "organizations,  or governments in connection with its DOE -funded award scope. \n",
      "The recipient will then be required to await further guidance from DOE prior to \n",
      "contacting the proposed foreign entity , organizations,  or government regarding \n",
      "the potential collaboration or negotiating the terms of any potential agreement.  \n",
      " \n",
      "b. Existing collaborations with foreign entitie s, organizations,  and governments . \n",
      "The recipient will be required to provide DOE with a written list of all existing foreign collaborations in which has entered in connection with its DOE -funded \n",
      "award scope.  \n",
      " \n",
      "c. Description of collaborations that should be reported . In general, a collaboration \n",
      "will involve some provision of a thing of value to, or from, the recipient. A thing of value includes but may not be limited to all resources made available to, or from, the recipient in support of and/or related to the DOE awa rd, regardless of \n",
      "whether  or not  they have monetary value. Things of value also may include in -\n",
      "kind contributions (such as office/laboratory space, data, equipment, supplies, employees, students). In- kind contributions not intended for direct use on the \n",
      "DOE award but resulting in provision of a thing of value from or to the DOE \n",
      "award must also be reported. Collaborations do not include routine workshops, conferences, use of the recipient’s services and facilities by foreign investigators resulting from its standard published process for evaluating requests for access, \n",
      "or the routine use of foreign facilities by awardee staff in accordance with the recipient’s standard poli cies and procedures.     \n",
      "V. Application Review Information \n",
      "A. Technical Review Criteria  \n",
      " \n",
      "i. Concept Papers  \n",
      "Concept Papers are evaluated based on consideration the following factors.  All \n",
      "sub-criteria are of equal weight.  \n",
      " Concept Paper Criterion: Overall FOA Responsiveness and Viability of the Project (Weight: 100%)  \n",
      "This criterion involv es consideration of the following factors:  \n",
      "---\n",
      "Start each line with a hyphen and a space. Each item should have a cause and effect format like, \"The application will be evaluated on ... so the applicant must ...\" or \"The application should ... so the applicant must ...\"\n",
      "Results:\n"
     ]
    }
   ],
   "source": [
    "_EXTRACTION_PROMPT = \"\"\"For the given excerpt from an RFP document, it is suspected that it contains the evaluation criteria and hard requirements that the application will be evaluated against.\n",
    "As an advanced language model, your job is to remove the fluff and return these criteria and requirements.\n",
    "Output a list of these criteria and requirements with each item separated by a newline.\n",
    "Ensure that the items are hard conditionals and not soft language.\n",
    "Excerpt:\n",
    "{excerpt}\n",
    "---\n",
    "Start each line with a hyphen and a space. Start each item with something like, \"The applicant must\" or \"The application should\" or something similar.\n",
    "Results:\"\"\"\n",
    "EXTRACTION_PROMPT = \"\"\"For the given excerpt from an RFP document, it is suspected that it contains the evaluation criteria and hard requirements that the application will be evaluated against.\n",
    "As an advanced language model, your job is to remove the fluff and return these criteria and requirements.\n",
    "Output a list of these criteria and requirements with each item separated by a newline.\n",
    "Ensure that the items are hard conditionals and not soft language.\n",
    "Excerpt:\n",
    "{excerpt}\n",
    "---\n",
    "Start each line with a hyphen and a space. Each item should have a cause and effect format like, \"The application will be evaluated on ... so the applicant must ...\" or \"The application should ... so the applicant must ...\"\n",
    "Results:\"\"\"\n",
    "print(EXTRACTION_PROMPT.format(excerpt=text[0]))"
   ]
  },
  {
   "cell_type": "code",
   "execution_count": 42,
   "metadata": {},
   "outputs": [
    {
     "data": {
      "text/plain": [
       "'gpt-3.5-turbo'"
      ]
     },
     "execution_count": 42,
     "metadata": {},
     "output_type": "execute_result"
    }
   ],
   "source": [
    "llm.model"
   ]
  },
  {
   "cell_type": "code",
   "execution_count": 43,
   "metadata": {},
   "outputs": [],
   "source": [
    "_conditions = []\n",
    "for t in text:\n",
    "    response = llm.complete(EXTRACTION_PROMPT.format(excerpt=t)).text\n",
    "    _conditions.append(response)"
   ]
  },
  {
   "cell_type": "code",
   "execution_count": 44,
   "metadata": {},
   "outputs": [],
   "source": [
    "# export the conditions into a txt file\n",
    "with open('conditions.txt', 'w') as file:\n",
    "    file.write('\\n'.join(_conditions))"
   ]
  },
  {
   "cell_type": "code",
   "execution_count": null,
   "metadata": {},
   "outputs": [],
   "source": []
  }
 ],
 "metadata": {
  "kernelspec": {
   "display_name": "venv",
   "language": "python",
   "name": "python3"
  },
  "language_info": {
   "codemirror_mode": {
    "name": "ipython",
    "version": 3
   },
   "file_extension": ".py",
   "mimetype": "text/x-python",
   "name": "python",
   "nbconvert_exporter": "python",
   "pygments_lexer": "ipython3",
   "version": "3.11.5"
  }
 },
 "nbformat": 4,
 "nbformat_minor": 2
}
