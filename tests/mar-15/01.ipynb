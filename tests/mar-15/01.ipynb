{
 "cells": [
  {
   "cell_type": "code",
   "execution_count": 1,
   "metadata": {},
   "outputs": [
    {
     "name": "stdout",
     "output_type": "stream",
     "text": [
      "/Users/chinmayshrivastava/Documents/GitHub/kinara-rfp\n"
     ]
    }
   ],
   "source": [
    "import sys\n",
    "import os\n",
    "\n",
    "# moce two directories up and make that current directory\n",
    "os.chdir(\"../..\")\n",
    "# print current directory\n",
    "print(os.getcwd())"
   ]
  },
  {
   "cell_type": "code",
   "execution_count": 2,
   "metadata": {},
   "outputs": [],
   "source": [
    "from llama_index.llms.openai import OpenAI\n",
    "llm = OpenAI(model=\"gpt-3.5-turbo\")"
   ]
  },
  {
   "cell_type": "code",
   "execution_count": 3,
   "metadata": {},
   "outputs": [
    {
     "data": {
      "text/plain": [
       "['The purpose of this Request for Proposal is to award an Indefinite Delivery Indefinite Quantity (IDIQ) contract for On-Demand Coaching Services for the Treasury Executive Institute. The Period of Performance is from 9/30/2023 to 9/29/2027, with one 12-month base period and three 12-month option periods.',\n",
       " 'This is a combined synopsis/solicitation for commercial products or commercial services prepared in accordance with the format in subpart 12.6, as supplemented with additional information included in this notice. Solicitation 2032H323R00065 is issued as a request for proposal (RFP) for a single award Indefinite Delivery Indefinite Quantity (IDIQ) contract consistent with Federal Acquisition Regulations (FAR) part 12, and 13 as appropriate. All Task Orders issued from resultant IDIQ contracts will be awarded using the procedures stated at FAR16.505 and are subject to the terms and conditions outlined. The minimum guarantee for this acquisition is $57,000.00.',\n",
       " 'Individual task orders will be awarded on a Firm Fixed Price basis.',\n",
       " 'Offerors shall include a completed copy of the provision at 52.212-3, Offeror Representations and Certifications-Commercial Products and Commercial Services as well as all other applicable provisions within this solicitation, with its offer.',\n",
       " 'The Contractor shall provide online subscription services with online access to the digital libraries via the website platform, 24 hours a day, 7 days a week, with customer support.']"
      ]
     },
     "execution_count": 3,
     "metadata": {},
     "output_type": "execute_result"
    }
   ],
   "source": [
    "test_data_path = \"tests/mar-14/02-critical-compliances.txt\"\n",
    "with open(test_data_path, 'r') as file:\n",
    "    test_data = file.readlines()\n",
    "test_data = [line.strip() for line in test_data]\n",
    "test_data = [line for line in test_data if line]\n",
    "# remove 'CRITICAL:' from the start of each line\n",
    "test_data = [line[10:] if line.startswith(\"CRITICAL:\") else line for line in test_data]\n",
    "test_data[:5]"
   ]
  },
  {
   "cell_type": "code",
   "execution_count": 5,
   "metadata": {},
   "outputs": [],
   "source": [
    "from llama_index.core import SimpleDirectoryReader\n",
    "data_directory = \"tests/mar-15/data/\"\n",
    "reader = SimpleDirectoryReader(data_directory)\n",
    "documents = reader.load_data()"
   ]
  },
  {
   "cell_type": "code",
   "execution_count": 15,
   "metadata": {},
   "outputs": [],
   "source": [
    "from llama_index.core.node_parser import SentenceSplitter\n",
    "nodes = SentenceSplitter(chunk_size=256).get_nodes_from_documents(documents)"
   ]
  },
  {
   "cell_type": "code",
   "execution_count": 17,
   "metadata": {},
   "outputs": [
    {
     "data": {
      "text/markdown": [
       "Department of Treasury Request for Proposal Response \n",
       "\n",
       "Solicitation # 2032H323R00065\n",
       "\n",
       "On-Demand Executive Coaching with Assessments &\n",
       "\n",
       "Leadership Development Resources\n",
       "\n",
       "\n",
       "\n",
       "Volume III: Management Approach\n",
       "\n",
       "\n",
       "\n",
       "Submitted By:\n",
       "\n",
       "Company Name: Sagely, LLC\n",
       "\n",
       "Address: 320 South Main Street Providence, RI \n",
       "\n",
       "DUNS: 075888104\n",
       "\n",
       "\n",
       "\n",
       "Point of Contact: Mandy Graham\n",
       "\n",
       "Phone Number: 781.626.2797\n",
       "\n",
       "Email: mandy@growsagely.com\n",
       "\n",
       "\n",
       "\n",
       "SUBMITTED TO:\n",
       "\n",
       "Mr. Aaron C. Hill & Ms. Angela Gallo\n",
       "\n",
       "5000 ELLIN ROAD\n",
       "\n",
       "Lanham MD 20706"
      ],
      "text/plain": [
       "<IPython.core.display.Markdown object>"
      ]
     },
     "metadata": {},
     "output_type": "display_data"
    }
   ],
   "source": [
    "from IPython.display import display, Markdown\n",
    "display(Markdown(nodes[0].get_content()))"
   ]
  },
  {
   "cell_type": "code",
   "execution_count": 18,
   "metadata": {},
   "outputs": [
    {
     "data": {
      "text/plain": [
       "{'ids': [],\n",
       " 'embeddings': [],\n",
       " 'metadatas': [],\n",
       " 'documents': [],\n",
       " 'uris': None,\n",
       " 'data': None}"
      ]
     },
     "execution_count": 18,
     "metadata": {},
     "output_type": "execute_result"
    }
   ],
   "source": [
    "from govrfp.rfpinsights._chromadb import return_collection, add_entries_to_collection\n",
    "collection_path = \"tests/mar-15/chroma/\"\n",
    "collection = return_collection(collection_path, \"comparition_test\")\n",
    "collection.peek()"
   ]
  },
  {
   "cell_type": "code",
   "execution_count": 23,
   "metadata": {},
   "outputs": [
    {
     "data": {
      "text/plain": [
       "{'id_': 'da371d22-0735-4929-99b7-824c937c3534',\n",
       " 'embedding': None,\n",
       " 'metadata': {'file_name': 'Sagely Management Approach RFP.docx',\n",
       "  'file_path': '/Users/chinmayshrivastava/Documents/GitHub/kinara-rfp/tests/mar-15/data/Sagely Management Approach RFP.docx',\n",
       "  'file_type': 'application/vnd.openxmlformats-officedocument.wordprocessingml.document',\n",
       "  'file_size': 1139130,\n",
       "  'creation_date': '2024-03-15',\n",
       "  'last_modified_date': '2024-03-14'},\n",
       " 'excluded_embed_metadata_keys': ['file_name',\n",
       "  'file_type',\n",
       "  'file_size',\n",
       "  'creation_date',\n",
       "  'last_modified_date',\n",
       "  'last_accessed_date'],\n",
       " 'excluded_llm_metadata_keys': ['file_name',\n",
       "  'file_type',\n",
       "  'file_size',\n",
       "  'creation_date',\n",
       "  'last_modified_date',\n",
       "  'last_accessed_date'],\n",
       " 'relationships': {<NodeRelationship.SOURCE: '1'>: RelatedNodeInfo(node_id='6c28c4f2-0d5f-4e68-b35b-9e1c07438a5d', node_type=<ObjectType.DOCUMENT: '4'>, metadata={'file_name': 'Sagely Management Approach RFP.docx', 'file_path': '/Users/chinmayshrivastava/Documents/GitHub/kinara-rfp/tests/mar-15/data/Sagely Management Approach RFP.docx', 'file_type': 'application/vnd.openxmlformats-officedocument.wordprocessingml.document', 'file_size': 1139130, 'creation_date': '2024-03-15', 'last_modified_date': '2024-03-14'}, hash='85796e6a276a5707f06c38257d65ed0705f5f4db343bee9b79dce39e315e0461'),\n",
       "  <NodeRelationship.NEXT: '3'>: RelatedNodeInfo(node_id='a9ca3aa5-9647-4d31-bd29-999eb43a12df', node_type=<ObjectType.TEXT: '1'>, metadata={}, hash='07b348eb9fcc011db717e43573d02497b50a326270a0d3fc4aff884e30e02c72')},\n",
       " 'text': 'Department of Treasury Request for Proposal Response \\n\\nSolicitation # 2032H323R00065\\n\\nOn-Demand Executive Coaching with Assessments &\\n\\nLeadership Development Resources\\n\\n\\n\\nVolume III: Management Approach\\n\\n\\n\\nSubmitted By:\\n\\nCompany Name: Sagely, LLC\\n\\nAddress: 320 South Main Street Providence, RI \\n\\nDUNS: 075888104\\n\\n\\n\\nPoint of Contact: Mandy Graham\\n\\nPhone Number: 781.626.2797\\n\\nEmail: mandy@growsagely.com\\n\\n\\n\\nSUBMITTED TO:\\n\\nMr. Aaron C. Hill & Ms. Angela Gallo\\n\\n5000 ELLIN ROAD\\n\\nLanham MD 20706',\n",
       " 'start_char_idx': 0,\n",
       " 'end_char_idx': 491,\n",
       " 'text_template': '{metadata_str}\\n\\n{content}',\n",
       " 'metadata_template': '{key}: {value}',\n",
       " 'metadata_seperator': '\\n'}"
      ]
     },
     "execution_count": 23,
     "metadata": {},
     "output_type": "execute_result"
    }
   ],
   "source": [
    "nodes[0].__dict__"
   ]
  },
  {
   "cell_type": "code",
   "execution_count": 24,
   "metadata": {},
   "outputs": [
    {
     "data": {
      "text/plain": [
       "Collection(name=comparition_test)"
      ]
     },
     "execution_count": 24,
     "metadata": {},
     "output_type": "execute_result"
    }
   ],
   "source": [
    "# add all the nodes to the collection\n",
    "docs = [node.get_content() for node in nodes]\n",
    "metadata = [node.metadata for node in nodes]\n",
    "ids = [node.id_ for node in nodes]\n",
    "if collection.count() == 0:\n",
    "    add_entries_to_collection(docs=docs, metadata=metadata, ids=ids, collection=collection)"
   ]
  },
  {
   "cell_type": "code",
   "execution_count": 25,
   "metadata": {},
   "outputs": [
    {
     "data": {
      "text/plain": [
       "2792"
      ]
     },
     "execution_count": 25,
     "metadata": {},
     "output_type": "execute_result"
    }
   ],
   "source": [
    "collection.count()"
   ]
  },
  {
   "cell_type": "code",
   "execution_count": 32,
   "metadata": {},
   "outputs": [
    {
     "name": "stdout",
     "output_type": "stream",
     "text": [
      "For the given compliance related to a certain RFP, and excerpts from the submission to that RFP, return 1 is the compliance is met, 0 if not met, and -1 if the compliance is not applicable. \n",
      "Compliance: \n",
      "{compliance}\n",
      "Submission: \n",
      "{submission}\n",
      "Return only 1, 0, or -1 based on the submission.\n",
      "Response:\n"
     ]
    }
   ],
   "source": [
    "PROMPT_TEMPLATE = (\n",
    "    \"For the given compliance related to a certain RFP, and excerpts from the submission to that RFP, return 1 is the compliance is met, 0 if not met, and -1 if the compliance is not applicable. \\n\"\n",
    "    \"Compliance: \\n\"\n",
    "    \"{compliance}\\n\"\n",
    "    \"Submission: \\n\"\n",
    "    \"{submission}\\n\"\n",
    "    \"Return only 1, 0, or -1 based on the submission.\\n\"\n",
    "    \"Response:\"\n",
    ")\n",
    "print(PROMPT_TEMPLATE)"
   ]
  },
  {
   "cell_type": "code",
   "execution_count": 36,
   "metadata": {},
   "outputs": [
    {
     "name": "stderr",
     "output_type": "stream",
     "text": [
      "100%|██████████| 115/115 [01:28<00:00,  1.31it/s]\n"
     ]
    }
   ],
   "source": [
    "import tqdm\n",
    "responses = []\n",
    "for compliance in tqdm.tqdm(test_data):\n",
    "    prompt = PROMPT_TEMPLATE.format(compliance=compliance, submission=\"\\n\".join([f\"{document}\" for i, document in enumerate(collection.query(query_texts=[compliance], n_results=3)[\"documents\"][0])]))\n",
    "    response = llm.complete(prompt).text\n",
    "    responses.append(response)"
   ]
  },
  {
   "cell_type": "code",
   "execution_count": 35,
   "metadata": {},
   "outputs": [
    {
     "data": {
      "text/plain": [
       "['-1', '0', '1', '0', '1', '1', '1']"
      ]
     },
     "execution_count": 35,
     "metadata": {},
     "output_type": "execute_result"
    }
   ],
   "source": [
    "responses"
   ]
  },
  {
   "cell_type": "code",
   "execution_count": null,
   "metadata": {},
   "outputs": [],
   "source": []
  }
 ],
 "metadata": {
  "kernelspec": {
   "display_name": "venv",
   "language": "python",
   "name": "python3"
  },
  "language_info": {
   "codemirror_mode": {
    "name": "ipython",
    "version": 3
   },
   "file_extension": ".py",
   "mimetype": "text/x-python",
   "name": "python",
   "nbconvert_exporter": "python",
   "pygments_lexer": "ipython3",
   "version": "3.11.5"
  }
 },
 "nbformat": 4,
 "nbformat_minor": 2
}
