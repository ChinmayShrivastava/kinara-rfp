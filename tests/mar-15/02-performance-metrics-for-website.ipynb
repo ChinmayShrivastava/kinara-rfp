{
 "cells": [
  {
   "cell_type": "code",
   "execution_count": 1,
   "metadata": {},
   "outputs": [
    {
     "name": "stdout",
     "output_type": "stream",
     "text": [
      "/Users/chinmayshrivastava/Documents/GitHub/kinara-rfp\n"
     ]
    }
   ],
   "source": [
    "import sys\n",
    "import os\n",
    "\n",
    "# moce two directories up and make that current directory\n",
    "os.chdir(\"../..\")\n",
    "# print current directory\n",
    "print(os.getcwd())"
   ]
  },
  {
   "cell_type": "code",
   "execution_count": 2,
   "metadata": {},
   "outputs": [],
   "source": [
    "from llama_index.llms.openai import OpenAI\n",
    "llm = OpenAI(model=\"gpt-3.5-turbo\")"
   ]
  },
  {
   "cell_type": "code",
   "execution_count": 6,
   "metadata": {},
   "outputs": [
    {
     "data": {
      "text/plain": [
       "['The executive coaching engagement shall consist of 1:1 Coaching by ICF credentialed coaches, On-Demand Coaching with sessions occurring within one business day, Learning/Development Resources to support the coachees to gain knowledge and develop skills in coaching areas which includes a whole-person approach, and Assessment to be completed at start and end of engagements.',\n",
       " 'The Contractor shall have the capacity to offer 360 Assessments aligned with Office of Personnel Management’s Executive Core Qualifications included in the platform/licensing fee, platform access for users to serve as a single stop for all services/resources and for admins to show real-time monitoring and usage, and demonstration of ability to scale resources is necessary due to the nature of the contracting mechanism.',\n",
       " 'Engagement Preparation Time includes timely identification of coaches within 5 business days of request, an orientation/intake session within a week of the introductory session, and development of a coaching plan within the first two sessions.',\n",
       " 'The Contractor shall provide unlimited access to coaches for coaching sessions scheduled by the client on the platform based on coach availability and lasting for 30-60 minutes.',\n",
       " 'The Contractor must provide a Final Report prior to the completion of the period of performance, including engagement with coaches, learning resources outside of coaching sessions, post session survey results, and behavioral change data.']"
      ]
     },
     "execution_count": 6,
     "metadata": {},
     "output_type": "execute_result"
    }
   ],
   "source": [
    "test_data_path = \"tests/mar-15/metrics.txt\"\n",
    "with open(test_data_path, 'r') as file:\n",
    "    test_data = file.readlines()\n",
    "test_data = [line.strip() for line in test_data]\n",
    "test_data = [line for line in test_data if line]\n",
    "test_data[:5]"
   ]
  },
  {
   "cell_type": "code",
   "execution_count": 7,
   "metadata": {},
   "outputs": [
    {
     "name": "stdout",
     "output_type": "stream",
     "text": [
      "For the given text, that comes from an RFP, please break down the performance metrics into smaller parts. \n",
      "Keep each part as small as possible. \n",
      "Separate each part with a new line. \n",
      "The text is: \n",
      "{text}\n",
      "Response:\n",
      "\n"
     ]
    }
   ],
   "source": [
    "PROMPT_TEMPLATE = (\n",
    "    \"For the given text, that comes from an RFP, please break down the performance metrics into smaller parts. \\n\"\n",
    "    \"Keep each part as small as possible. \\n\"\n",
    "    \"Separate each part with a new line. \\n\"\n",
    "    \"The text is: \\n\"\n",
    "    \"{text}\\n\"\n",
    "    \"Response:\\n\"\n",
    ")\n",
    "print(PROMPT_TEMPLATE)"
   ]
  },
  {
   "cell_type": "code",
   "execution_count": 8,
   "metadata": {},
   "outputs": [
    {
     "name": "stderr",
     "output_type": "stream",
     "text": [
      "100%|██████████| 18/18 [00:22<00:00,  1.23s/it]\n"
     ]
    }
   ],
   "source": [
    "import tqdm\n",
    "responses = []\n",
    "for i, text in enumerate(tqdm.tqdm(test_data)):\n",
    "    prompt = PROMPT_TEMPLATE.format(text=text)\n",
    "    response = llm.complete(prompt, max_tokens=1000).text\n",
    "    # break response into lines\n",
    "    response = response.split(\"\\n\")\n",
    "    # add each line to responses\n",
    "    responses.extend(response)"
   ]
  },
  {
   "cell_type": "code",
   "execution_count": 9,
   "metadata": {},
   "outputs": [],
   "source": [
    "# export the responses into a file\n",
    "with open(\"tests/mar-15/metrics_responses.txt\", 'w') as file:\n",
    "    file.write(\"\\n\".join(responses))"
   ]
  },
  {
   "cell_type": "code",
   "execution_count": null,
   "metadata": {},
   "outputs": [],
   "source": []
  }
 ],
 "metadata": {
  "kernelspec": {
   "display_name": "venv",
   "language": "python",
   "name": "python3"
  },
  "language_info": {
   "codemirror_mode": {
    "name": "ipython",
    "version": 3
   },
   "file_extension": ".py",
   "mimetype": "text/x-python",
   "name": "python",
   "nbconvert_exporter": "python",
   "pygments_lexer": "ipython3",
   "version": "3.11.5"
  }
 },
 "nbformat": 4,
 "nbformat_minor": 2
}
