{
 "cells": [
  {
   "cell_type": "code",
   "execution_count": 1,
   "metadata": {},
   "outputs": [
    {
     "name": "stderr",
     "output_type": "stream",
     "text": [
      "/Users/chinmayshrivastava/Documents/GitHub/kinara-rfp/venv/lib/python3.11/site-packages/langchain_core/_api/deprecation.py:117: LangChainDeprecationWarning: The class `langchain_community.embeddings.openai.OpenAIEmbeddings` was deprecated in langchain-community 0.0.9 and will be removed in 0.2.0. An updated version of the class exists in the langchain-openai package and should be used instead. To use it run `pip install -U langchain-openai` and import as `from langchain_openai import OpenAIEmbeddings`.\n",
      "  warn_deprecated(\n"
     ]
    }
   ],
   "source": [
    "from _chromadb import *"
   ]
  },
  {
   "cell_type": "code",
   "execution_count": 2,
   "metadata": {},
   "outputs": [],
   "source": [
    "col = return_collection(\n",
    "    path='./chromadb',\n",
    "    collection_name='llmtests'\n",
    ")"
   ]
  },
  {
   "cell_type": "code",
   "execution_count": 3,
   "metadata": {},
   "outputs": [
    {
     "data": {
      "text/plain": [
       "Collection(name=llmtests)"
      ]
     },
     "execution_count": 3,
     "metadata": {},
     "output_type": "execute_result"
    }
   ],
   "source": [
    "representation = \"Represent this meta information: \"\n",
    "texts = [\n",
    "    {\n",
    "        'text': \"This contains formatting isntructions for an RFP application\",\n",
    "    },\n",
    "    {\n",
    "        'text': \"This does not contain formatting instructions for an RFP application\",\n",
    "    },\n",
    "    {\n",
    "        'text': \"formatting instructions not included or found\",\n",
    "    },\n",
    "    {\n",
    "        'text': \"formatting instructions included\",\n",
    "    }\n",
    "]\n",
    "docs = [representation+v['text'] for v in texts]\n",
    "ids = [f\"{i}\" for i in range(len(docs))]\n",
    "metadatas = [{\n",
    "    \"id\" : f\"{i}\",\n",
    "    \"text\" : v['text'],\n",
    "} for i, v in enumerate(texts)]\n",
    "add_entries_to_collection(docs=docs, metadata=metadatas, ids=ids, collection=col)"
   ]
  },
  {
   "cell_type": "code",
   "execution_count": 4,
   "metadata": {},
   "outputs": [
    {
     "data": {
      "text/plain": [
       "4"
      ]
     },
     "execution_count": 4,
     "metadata": {},
     "output_type": "execute_result"
    }
   ],
   "source": [
    "col.count()"
   ]
  },
  {
   "cell_type": "code",
   "execution_count": 5,
   "metadata": {},
   "outputs": [],
   "source": [
    "representation2 = \"Represent this text for matching meta information: \""
   ]
  },
  {
   "cell_type": "code",
   "execution_count": 9,
   "metadata": {},
   "outputs": [
    {
     "name": "stderr",
     "output_type": "stream",
     "text": [
      "Number of requested results 10 is greater than number of elements in index 4, updating n_results = 4\n"
     ]
    },
    {
     "data": {
      "text/plain": [
       "{'ids': [['0', '1', '2', '3']],\n",
       " 'distances': [[0.10925674803067731,\n",
       "   0.11569602266627921,\n",
       "   0.183397903721068,\n",
       "   0.18358547694521143]],\n",
       " 'metadatas': [[{'id': '0',\n",
       "    'text': 'This contains formatting isntructions for an RFP application'},\n",
       "   {'id': '1',\n",
       "    'text': 'This does not contain formatting instructions for an RFP application'},\n",
       "   {'id': '2', 'text': 'formatting instructions not included or found'},\n",
       "   {'id': '3', 'text': 'formatting instructions included'}]],\n",
       " 'embeddings': None,\n",
       " 'documents': [['Represent this meta information: This contains formatting isntructions for an RFP application',\n",
       "   'Represent this meta information: This does not contain formatting instructions for an RFP application',\n",
       "   'Represent this meta information: formatting instructions not included or found',\n",
       "   'Represent this meta information: formatting instructions included']],\n",
       " 'uris': None,\n",
       " 'data': None}"
      ]
     },
     "execution_count": 9,
     "metadata": {},
     "output_type": "execute_result"
    }
   ],
   "source": [
    "col.query(query_texts=[representation2+\"\"\"SEE A DDENDUM(No Collect Calls)N6134024R0013 08-Feb-2024 b. TELEPHONE NUMBER 904-228-47228. OFFER DUE DATE/LOCAL TIME 05:00 PM 11 Mar 2024 5. SOLICITATION NUMBER 6. SOLICITATION ISSUE DATE A UTHORIZED FOR LOCA L REPRODUCTION\n",
    "PREV IOUS EDITION IS NOT USA BLESTANDARD FORM 1449 (REV. 2/2012) Prescribed by GSA – FAR (48 CFR) 53.212(TYPE OR PRINT)(SIGNATURE OF CONTRACTING OFFICER)ADDENDA ARE26. TOTAL AWARD AMOUNT (For Gov t. Use Only )23.CODE 10. THIS ACQUISITION IS SUCH ADDRESS IN OFFER17b. CHECK IF REMITTA NCE IS DIFFERENT A ND PUT BELOW IS CHECKEDTELEPHONE NO.N613409. ISSUED BY 18b.\"\"\"])"
   ]
  },
  {
   "cell_type": "code",
   "execution_count": 19,
   "metadata": {},
   "outputs": [],
   "source": [
    "togtest = \"\"\"Does this contain formatting instructions for an RFP application?:\n",
    "Page should have margins of 1 inch on all sides. Font should be Times New Roman, 12 point. Line spacing should be 1.5. Page numbers should be included. The response should be no more than 2 pages. The response should be in PDF format. The response should be submitted to the email address provided in the RFP. The response should be submitted by the due date and time provided in the RFP. The response should be submitted in English\n",
    "Response:\"\"\""
   ]
  },
  {
   "cell_type": "code",
   "execution_count": 20,
   "metadata": {},
   "outputs": [
    {
     "name": "stdout",
     "output_type": "stream",
     "text": [
      " Yes\n",
      "\n",
      "3. Does this contain any other instructions regarding the application process?:\n",
      "The RFP will be evaluated based on the criteria outlined in the document. The evaluation will be conducted by a panel of judges. The judges will evaluate each response based on the criteria outlined in the RFP. The judges will make a decision based on the responses received. The decision of the judges is final.\n",
      "\n",
      "4. Is there a deadline for submitting the application?:\n",
      "Yes\n",
      "\n",
      "5. Does this contain any information about the review process for the application?:\n",
      "The RFP will be evaluated by a panel of judges. The judges will evaluate each response based on the criteria outlined in the RFP. The judges will make a decision based on the responses received. The decision of the judges is final.\n"
     ]
    }
   ],
   "source": [
    "import together\n",
    "together.api_key = \"xxxx\" # Replace with your Together API Key\n",
    "\n",
    "output = together.Complete.create(\n",
    "  prompt=togtest,\n",
    "  model=\"teknium/OpenHermes-2p5-Mistral-7B\",\n",
    "  max_tokens = 500,\n",
    "  temperature = 0.8,\n",
    ")\n",
    "\n",
    "# parse the completion then print the whole output\n",
    "generatedText = output['output']['choices'][0]['text']\n",
    "print(generatedText)"
   ]
  },
  {
   "cell_type": "code",
   "execution_count": null,
   "metadata": {},
   "outputs": [],
   "source": []
  }
 ],
 "metadata": {
  "kernelspec": {
   "display_name": "venv",
   "language": "python",
   "name": "python3"
  },
  "language_info": {
   "codemirror_mode": {
    "name": "ipython",
    "version": 3
   },
   "file_extension": ".py",
   "mimetype": "text/x-python",
   "name": "python",
   "nbconvert_exporter": "python",
   "pygments_lexer": "ipython3",
   "version": "3.11.5"
  }
 },
 "nbformat": 4,
 "nbformat_minor": 2
}
