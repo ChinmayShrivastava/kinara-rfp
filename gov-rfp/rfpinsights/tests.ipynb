{
 "cells": [
  {
   "cell_type": "code",
   "execution_count": 1,
   "metadata": {},
   "outputs": [],
   "source": [
    "from Annotate import Annotate\n",
    "\n",
    "annotator = Annotate()"
   ]
  },
  {
   "cell_type": "code",
   "execution_count": 2,
   "metadata": {},
   "outputs": [
    {
     "data": {
      "text/plain": [
       "{'contains_date': <re.Match object; span=(127, 138), match='11 Mar 2024'>,\n",
       " 'contains_currency': None,\n",
       " 'contains_time': <re.Match object; span=(118, 126), match='05:00 PM'>,\n",
       " 'contains_email': None,\n",
       " 'contains_url': None,\n",
       " 'contains_phone_number': <re.Match object; span=(77, 89), match='904-228-4722'>}"
      ]
     },
     "execution_count": 2,
     "metadata": {},
     "output_type": "execute_result"
    }
   ],
   "source": [
    "annotator(\"\"\"SEE A DDENDUM(No Collect Calls)N6134024R0013 08-Feb-2024 b. TELEPHONE NUMBER 904-228-47228. OFFER DUE DATE/LOCAL TIME 05:00 PM 11 Mar 2024 5. SOLICITATION NUMBER 6. SOLICITATION ISSUE DATE A UTHORIZED FOR LOCA L REPRODUCTION\n",
    "PREV IOUS EDITION IS NOT USA BLESTANDARD FORM 1449 (REV. 2/2012) Prescribed by GSA – FAR (48 CFR) 53.212(TYPE OR PRINT)(SIGNATURE OF CONTRACTING OFFICER)ADDENDA ARE26. TOTAL AWARD AMOUNT (For Gov t. Use Only )23.CODE 10. THIS ACQUISITION IS SUCH ADDRESS IN OFFER17b. CHECK IF REMITTA NCE IS DIFFERENT A ND PUT BELOW IS CHECKEDTELEPHONE NO.N613409. ISSUED BY 18b.\"\"\")"
   ]
  },
  {
   "cell_type": "code",
   "execution_count": null,
   "metadata": {},
   "outputs": [],
   "source": []
  }
 ],
 "metadata": {
  "kernelspec": {
   "display_name": "venv",
   "language": "python",
   "name": "python3"
  },
  "language_info": {
   "codemirror_mode": {
    "name": "ipython",
    "version": 3
   },
   "file_extension": ".py",
   "mimetype": "text/x-python",
   "name": "python",
   "nbconvert_exporter": "python",
   "pygments_lexer": "ipython3",
   "version": "3.11.5"
  }
 },
 "nbformat": 4,
 "nbformat_minor": 2
}
