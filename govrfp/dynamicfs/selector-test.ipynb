{
 "cells": [
  {
   "cell_type": "code",
   "execution_count": 1,
   "metadata": {},
   "outputs": [
    {
     "name": "stdout",
     "output_type": "stream",
     "text": [
      "/Users/chinmayshrivastava/Documents/GitHub/kinara-rfp/govrfp\n"
     ]
    }
   ],
   "source": [
    "import sys\n",
    "import os\n",
    "\n",
    "# moce two directories up and make that current directory\n",
    "os.chdir(\"..\")\n",
    "# print current directory\n",
    "print(os.getcwd())"
   ]
  },
  {
   "cell_type": "code",
   "execution_count": 2,
   "metadata": {},
   "outputs": [
    {
     "name": "stderr",
     "output_type": "stream",
     "text": [
      "/Users/chinmayshrivastava/Documents/GitHub/kinara-rfp/venv/lib/python3.11/site-packages/langchain_core/_api/deprecation.py:117: LangChainDeprecationWarning: The class `langchain_community.embeddings.openai.OpenAIEmbeddings` was deprecated in langchain-community 0.0.9 and will be removed in 0.2.0. An updated version of the class exists in the langchain-openai package and should be used instead. To use it run `pip install -U langchain-openai` and import as `from langchain_openai import OpenAIEmbeddings`.\n",
      "  warn_deprecated(\n"
     ]
    }
   ],
   "source": [
    "from Selector import Selector\n",
    "\n",
    "sel = Selector()"
   ]
  },
  {
   "cell_type": "code",
   "execution_count": 3,
   "metadata": {},
   "outputs": [
    {
     "name": "stdout",
     "output_type": "stream",
     "text": [
      "For the given chunk from an RFP document and it's scope, generate any critical and informative information present.\n",
      "------------------------------------------------\n",
      "Example 1\n",
      "RFP DOC Scope: The Contractor shall provide a virtual coaching platform that includes scheduling, coach \n",
      "matching, assessments, a resource portal, and on-demand specialty coaching available for \n",
      "each coaching participant. The Executive Coaching shall take place virtually, consisting of \n",
      "individualized, one-on-one sessions. \n",
      "Doc Page Number: 10\n",
      "Chunk:\n",
      "The Contractor shall provide deliverable(s) in a format mutually agreed upon by TEI and \n",
      "the Contractor.  The following deliverables are not expected to change.   \n",
      " \n",
      " \n",
      "SOW SECTION  DELIVERABLE  DUE DATE \n",
      "4.1  Monthly status report.  Monthly by no later than the \n",
      "7th calendar day for the \n",
      "previous month’s activities. \n",
      "4.1.3  Post Session Survey \n",
      "Results \n",
      "Monthly by no later than the \n",
      "7th calendar day for the \n",
      "previous month’s activities \n",
      "4.1.4  Behavioral Change Data  Quarterly by no later than the \n",
      "15th calendar day for the \n",
      "previous quarter’s activities \n",
      "4.2  Final Report  Prior to completion of the \n",
      "period of performance.\n",
      "Output:\n",
      "INFORMATIVE: Deliverables will be as follows - Monthly Status Report (4.1), Post Session Survey Results (4.1.3), Behavioral Change Data (4.1.4), Final Report (4.2)\n",
      "------------------------------------------------\n",
      "Example 2\n",
      "RFP DOC Scope: The Contractor shall provide a virtual coaching platform that includes scheduling, coach \n",
      "matching, assessments, a resource portal, and on-demand specialty coaching available for \n",
      "each coaching participant. The Executive Coaching shall take place virtually, consisting of \n",
      "individualized, one-on-one sessions. \n",
      "Doc Page Number: 84\n",
      "Chunk:\n",
      "4.2.1.1 Confidence Ratings for Factor 1 Technical Approach \n",
      "  \n",
      "The Government will assess its confidence in each Offeror by evaluating the Technical \n",
      "Approach of the proposal to determine if the Offeror has demonstrated the ability to effectively \n",
      "and efficiently perform the work specified in the SOW. The approach should reflect a clear \n",
      "understanding of the work under this requirement specifically Section III of the SOW and should \n",
      "demonstrate how each task in the SOW will be accomplished.  \n",
      " \n",
      "The ratings that will be utilized to evaluate Factor 1 Technical Approach are as follows:  \n",
      " \n",
      "RATING | DEFINITIONS \n",
      "High Confidence | The Government has high confidence that the Offeror understands the \n",
      "requirement, proposes a sound approach, and will be successful in \n",
      "performing the contract action with little or no Government intervention. \n",
      "Some Confidence | The Government has some confidence that the Offeror understands the \n",
      "requirement, proposes a sound approach, and will be successful in \n",
      "performing the contract with some Government intervention. \n",
      "Low Confidence | The Government has low confidence that the Offeror understands the \n",
      "requirement, proposes a sound approach, or will be successful in \n",
      "performing the contract even with Government intervention. \n",
      " \n",
      "Proposals rated “unacceptable” for any of the Factors are NOT eligible for award and will be \n",
      "excluded from further consideration.\n",
      "Output:\n",
      "CRITICAL: Offerer's will be evaluated on their technical approach based on the SOW and will be rated as High Confidence, Some Confidence, or Low Confidence.\n",
      "        CRITICAL: There are multiple factors that will be evaluated and proposals rated “unacceptable” for any of the Factors are NOT eligible for award and will be excluded from further consideration.\n",
      "        INFORMATIVE: The technical approach will be evaluated based on the SOW and will be rated as High Confidence, Some Confidence, or Low Confidence. High Confidence means the Government has high confidence that the Offeror understands the requirement, proposes a sound approach, and will be successful in performing the contract action with little or no Government intervention. Some Confidence means the Government has some confidence that the Offeror understands the requirement, proposes a sound approach, and will be successful in performing the contract with some Government intervention. Low Confidence means the Government has low confidence that the Offeror understands the requirement, proposes a sound approach, or will be successful in performing the contract even with Government intervention.\n",
      "------------------------------------------------\n",
      "Example 3\n",
      "RFP DOC Scope: The Contractor shall provide a virtual coaching platform that includes scheduling, coach \n",
      "matching, assessments, a resource portal, and on-demand specialty coaching available for \n",
      "each coaching participant. The Executive Coaching shall take place virtually, consisting of \n",
      "individualized, one-on-one sessions.\n",
      "Doc Page Number: 1\n",
      "Chunk:\n",
      "yay\n",
      "Output:\n",
      "\n",
      "\n"
     ]
    }
   ],
   "source": [
    "print(sel.query(\"yay\", 1))"
   ]
  },
  {
   "cell_type": "code",
   "execution_count": null,
   "metadata": {},
   "outputs": [],
   "source": []
  }
 ],
 "metadata": {
  "kernelspec": {
   "display_name": "venv",
   "language": "python",
   "name": "python3"
  },
  "language_info": {
   "codemirror_mode": {
    "name": "ipython",
    "version": 3
   },
   "file_extension": ".py",
   "mimetype": "text/x-python",
   "name": "python",
   "nbconvert_exporter": "python",
   "pygments_lexer": "ipython3",
   "version": "3.11.5"
  }
 },
 "nbformat": 4,
 "nbformat_minor": 2
}
