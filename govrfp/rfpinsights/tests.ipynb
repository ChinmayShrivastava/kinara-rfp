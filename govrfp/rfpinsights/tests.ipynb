{
 "cells": [
  {
   "cell_type": "code",
   "execution_count": 1,
   "metadata": {},
   "outputs": [],
   "source": [
    "from Annotate import Annotate\n",
    "\n",
    "annotator = Annotate()"
   ]
  },
  {
   "cell_type": "code",
   "execution_count": 2,
   "metadata": {},
   "outputs": [
    {
     "data": {
      "text/plain": [
       "{'contains_date': None,\n",
       " 'contains_currency': None,\n",
       " 'contains_time': None,\n",
       " 'contains_email': None,\n",
       " 'contains_url': None,\n",
       " 'contains_phone_number': None,\n",
       " 'contains_page_formatting_instructions': False,\n",
       " 'contains_techical_requirements': True,\n",
       " 'contains_evaluation_criteria': False,\n",
       " 'contains_statement_of_work': False}"
      ]
     },
     "execution_count": 2,
     "metadata": {},
     "output_type": "execute_result"
    }
   ],
   "source": [
    "annotations = annotator(\"\"\"52.219-1      SMALL BUSINESS PROGRAM REPRESENTATIONS (SEP 2023)  \n",
    "   \n",
    "(a) Definitions. As used in this provision-- \n",
    "     \n",
    "Economically disadvantaged women-owned small business (EDWOSB) concern means a small business concern \n",
    "that is at least 51 percent directly and unconditionally owned by, and the management and daily business operations \n",
    "of which are controlled by, one or more women who are citizens of the United States and who are economically  \n",
    "disadvantaged in accordance with 13 CFR part 127, and the concern is certified by SBA or an approved third-party \n",
    "certifier in accordance with 13 CFR 127.300. It automatically qualifies as a women-owned small business concern \n",
    "eligible under the WOSB Program. \n",
    "    \n",
    "Service-disabled veteran-owned small business concern-- \n",
    "     \n",
    "(1) Means a small business concern--\"\"\")\n",
    "annotations"
   ]
  },
  {
   "cell_type": "code",
   "execution_count": 7,
   "metadata": {},
   "outputs": [
    {
     "name": "stdout",
     "output_type": "stream",
     "text": [
      "contains_date\n",
      "contains_time\n",
      "contains_phone_number\n",
      "contains_page_formatting_instructions\n"
     ]
    }
   ],
   "source": [
    "for k in annotations.keys():\n",
    "    if annotations[k]:\n",
    "        print(k)"
   ]
  },
  {
   "cell_type": "code",
   "execution_count": null,
   "metadata": {},
   "outputs": [],
   "source": []
  }
 ],
 "metadata": {
  "kernelspec": {
   "display_name": "venv",
   "language": "python",
   "name": "python3"
  },
  "language_info": {
   "codemirror_mode": {
    "name": "ipython",
    "version": 3
   },
   "file_extension": ".py",
   "mimetype": "text/x-python",
   "name": "python",
   "nbconvert_exporter": "python",
   "pygments_lexer": "ipython3",
   "version": "3.11.5"
  }
 },
 "nbformat": 4,
 "nbformat_minor": 2
}
