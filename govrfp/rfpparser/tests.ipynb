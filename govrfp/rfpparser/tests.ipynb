{
 "cells": [
  {
   "cell_type": "code",
   "execution_count": 2,
   "metadata": {},
   "outputs": [
    {
     "name": "stderr",
     "output_type": "stream",
     "text": [
      "INFO:root:PDFParser for ./RFP 2032H323 Amendment.pdf\n"
     ]
    }
   ],
   "source": [
    "from RFPParser import RFPParser\n",
    "import logging\n",
    "\n",
    "logging.basicConfig(level=logging.INFO)\n",
    "\n",
    "rfp = RFPParser(\n",
    "    \"./RFP 2032H323 Amendment.pdf\",\n",
    "    verbose=True\n",
    ")"
   ]
  },
  {
   "cell_type": "code",
   "execution_count": 3,
   "metadata": {},
   "outputs": [
    {
     "name": "stderr",
     "output_type": "stream",
     "text": [
      "INFO:root:Got 145 chunks\n"
     ]
    }
   ],
   "source": [
    "chunks = rfp.chunks()"
   ]
  },
  {
   "cell_type": "code",
   "execution_count": 4,
   "metadata": {},
   "outputs": [],
   "source": [
    "nodes = rfp.nodes"
   ]
  },
  {
   "cell_type": "code",
   "execution_count": 5,
   "metadata": {},
   "outputs": [
    {
     "data": {
      "text/plain": [
       "'SEE ADDENDUM IS CHECKEDCODE 18a. P AYMENT WILL BE MADE BY\\nCODE F\\nACILITY CODE \\n17b. CHECK IF REMITTANCE IS DIFFERENT AND PUT SUCH ADDRESS IN OFFER OFFEROR1-IRS NON-IT (OTPS)\\nLanham MD 20706OS:OCPO:BSA:HQ:TO:P, Stop C7-430DCOS/ProcurementInternal Revenue ServiceU.S. Department of the TreasurySSPCODE 16. ADMINISTERED BY CODE XX\\n611430\\nSIZE STANDARD:% FOR: SE\\nT ASIDE: UNRESTRICTED OR 1-IRS NON-IT (OTPS)\\nRFP IFB10. THIS\\n ACQUISITION IS CODE \\nRFQ14. METHOD OF SOLICI TATION13b. RATINGNAICS:SMALL BUSINESS\\n08/31/2023 1700 ET08/01/2023\\nAARON HILL(No collect calls)\\nINFORMATION CALL:FOR SOLICI\\nTATION8. OFFER DUE D ATE/LOCAL TIME b. TELEPHONE  NUMBER a. NAME4. ORDER NUMBER 3. A WARD/ 6. SOLICI TATION 2032H323R000655. SOLICI TATION NUMBERSOLICITATION/CONTRACT/ORDER FOR COMMERCIA L ITEMS1. REQUISITION NUMBER PAGE     OF\\n1 91 23PR-SSP-0231 OFFEROR TO COMPLETE BLOCKS 12, 17, 23, 24, & 30\\n5000 Ellin Road\\nTELEPHONE NO.17a. CONTRAC TOR/WASHINGTON DC 202201500 PENNSYLVANIA AVE., NWFINANCIAL MANAGEMENT, ATTN:MET SQUAUS DEPARTMENT OF THE TREASURY-DEPARSSP15. DELIVER  TOLanham MD 207065000 Ellin RoadOS:OCPO:BSA:HQ:TO:P, Stop C7-430DCOS/ProcurementInternal Revenue Service9. ISSUED B Y 7.  2. CONTRAC T NO. \\nEFFECTIVE DATE\\n$15\\n18b.'"
      ]
     },
     "execution_count": 5,
     "metadata": {},
     "output_type": "execute_result"
    }
   ],
   "source": [
    "node = nodes[0]\n",
    "node.get_content()"
   ]
  },
  {
   "cell_type": "code",
   "execution_count": null,
   "metadata": {},
   "outputs": [],
   "source": []
  }
 ],
 "metadata": {
  "kernelspec": {
   "display_name": "venv",
   "language": "python",
   "name": "python3"
  },
  "language_info": {
   "codemirror_mode": {
    "name": "ipython",
    "version": 3
   },
   "file_extension": ".py",
   "mimetype": "text/x-python",
   "name": "python",
   "nbconvert_exporter": "python",
   "pygments_lexer": "ipython3",
   "version": "3.11.5"
  }
 },
 "nbformat": 4,
 "nbformat_minor": 2
}
